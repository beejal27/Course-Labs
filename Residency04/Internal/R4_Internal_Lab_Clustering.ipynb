{
 "cells": [
  {
   "cell_type": "markdown",
   "metadata": {},
   "source": [
    "### The data set has information about features of silhouette extracted from the images of different cars\n",
    "\n",
    "Four \"Corgie\" model vehicles were used for the experiment: a double decker bus, Cheverolet van, Saab 9000 and an Opel Manta 400 cars. This particular combination of vehicles was chosen with the expectation that the bus, van and either one of the cars would be readily distinguishable, but it would be more difficult to distinguish between the cars.\n",
    "\n"
   ]
  },
  {
   "cell_type": "markdown",
   "metadata": {},
   "source": [
    "### 1. Read the dataset using function .dropna() - to avoid dealing with NAs as of now"
   ]
  },
  {
   "cell_type": "code",
   "execution_count": 1,
   "metadata": {},
   "outputs": [],
   "source": [
    "import pandas as pd\n",
    "import numpy as np\n",
    "import matplotlib.pyplot as plt\n",
    "import seaborn as sns\n",
    "import scipy.stats as st\n",
    "\n",
    "# New libraries\n",
    "from scipy.spatial.distance import cdist\n",
    "from sklearn.cluster import KMeans\n",
    "from scipy.cluster.hierarchy import linkage, dendrogram, fcluster"
   ]
  },
  {
   "cell_type": "code",
   "execution_count": 2,
   "metadata": {},
   "outputs": [],
   "source": [
    "df = pd.read_csv(\"vehicle.csv\")"
   ]
  },
  {
   "cell_type": "code",
   "execution_count": 3,
   "metadata": {},
   "outputs": [
    {
     "data": {
      "text/plain": [
       "(846, 19)"
      ]
     },
     "execution_count": 3,
     "metadata": {},
     "output_type": "execute_result"
    }
   ],
   "source": [
    "df.shape"
   ]
  },
  {
   "cell_type": "code",
   "execution_count": 4,
   "metadata": {},
   "outputs": [
    {
     "data": {
      "text/plain": [
       "(33, 19)"
      ]
     },
     "execution_count": 4,
     "metadata": {},
     "output_type": "execute_result"
    }
   ],
   "source": [
    "df[df.isnull().any(axis=1)].shape"
   ]
  },
  {
   "cell_type": "code",
   "execution_count": 5,
   "metadata": {},
   "outputs": [],
   "source": [
    "df.dropna(inplace=True)"
   ]
  },
  {
   "cell_type": "code",
   "execution_count": 6,
   "metadata": {},
   "outputs": [
    {
     "data": {
      "text/plain": [
       "(813, 19)"
      ]
     },
     "execution_count": 6,
     "metadata": {},
     "output_type": "execute_result"
    }
   ],
   "source": [
    "df.shape"
   ]
  },
  {
   "cell_type": "code",
   "execution_count": 7,
   "metadata": {},
   "outputs": [
    {
     "name": "stdout",
     "output_type": "stream",
     "text": [
      "<class 'pandas.core.frame.DataFrame'>\n",
      "Int64Index: 813 entries, 0 to 845\n",
      "Data columns (total 19 columns):\n",
      "compactness                    813 non-null int64\n",
      "circularity                    813 non-null float64\n",
      "distance_circularity           813 non-null float64\n",
      "radius_ratio                   813 non-null float64\n",
      "pr.axis_aspect_ratio           813 non-null float64\n",
      "max.length_aspect_ratio        813 non-null int64\n",
      "scatter_ratio                  813 non-null float64\n",
      "elongatedness                  813 non-null float64\n",
      "pr.axis_rectangularity         813 non-null float64\n",
      "max.length_rectangularity      813 non-null int64\n",
      "scaled_variance                813 non-null float64\n",
      "scaled_variance.1              813 non-null float64\n",
      "scaled_radius_of_gyration      813 non-null float64\n",
      "scaled_radius_of_gyration.1    813 non-null float64\n",
      "skewness_about                 813 non-null float64\n",
      "skewness_about.1               813 non-null float64\n",
      "skewness_about.2               813 non-null float64\n",
      "hollows_ratio                  813 non-null int64\n",
      "class                          813 non-null object\n",
      "dtypes: float64(14), int64(4), object(1)\n",
      "memory usage: 127.0+ KB\n"
     ]
    }
   ],
   "source": [
    "df.info()"
   ]
  },
  {
   "cell_type": "code",
   "execution_count": 8,
   "metadata": {},
   "outputs": [
    {
     "data": {
      "text/html": [
       "<div>\n",
       "<style scoped>\n",
       "    .dataframe tbody tr th:only-of-type {\n",
       "        vertical-align: middle;\n",
       "    }\n",
       "\n",
       "    .dataframe tbody tr th {\n",
       "        vertical-align: top;\n",
       "    }\n",
       "\n",
       "    .dataframe thead th {\n",
       "        text-align: right;\n",
       "    }\n",
       "</style>\n",
       "<table border=\"1\" class=\"dataframe\">\n",
       "  <thead>\n",
       "    <tr style=\"text-align: right;\">\n",
       "      <th></th>\n",
       "      <th>count</th>\n",
       "      <th>unique</th>\n",
       "      <th>top</th>\n",
       "      <th>freq</th>\n",
       "      <th>mean</th>\n",
       "      <th>std</th>\n",
       "      <th>min</th>\n",
       "      <th>25%</th>\n",
       "      <th>50%</th>\n",
       "      <th>75%</th>\n",
       "      <th>max</th>\n",
       "    </tr>\n",
       "  </thead>\n",
       "  <tbody>\n",
       "    <tr>\n",
       "      <th>compactness</th>\n",
       "      <td>813</td>\n",
       "      <td>NaN</td>\n",
       "      <td>NaN</td>\n",
       "      <td>NaN</td>\n",
       "      <td>93.6568</td>\n",
       "      <td>8.23375</td>\n",
       "      <td>73</td>\n",
       "      <td>87</td>\n",
       "      <td>93</td>\n",
       "      <td>100</td>\n",
       "      <td>119</td>\n",
       "    </tr>\n",
       "    <tr>\n",
       "      <th>circularity</th>\n",
       "      <td>813</td>\n",
       "      <td>NaN</td>\n",
       "      <td>NaN</td>\n",
       "      <td>NaN</td>\n",
       "      <td>44.8032</td>\n",
       "      <td>6.14666</td>\n",
       "      <td>33</td>\n",
       "      <td>40</td>\n",
       "      <td>44</td>\n",
       "      <td>49</td>\n",
       "      <td>59</td>\n",
       "    </tr>\n",
       "    <tr>\n",
       "      <th>distance_circularity</th>\n",
       "      <td>813</td>\n",
       "      <td>NaN</td>\n",
       "      <td>NaN</td>\n",
       "      <td>NaN</td>\n",
       "      <td>82.0431</td>\n",
       "      <td>15.7831</td>\n",
       "      <td>40</td>\n",
       "      <td>70</td>\n",
       "      <td>79</td>\n",
       "      <td>98</td>\n",
       "      <td>112</td>\n",
       "    </tr>\n",
       "    <tr>\n",
       "      <th>radius_ratio</th>\n",
       "      <td>813</td>\n",
       "      <td>NaN</td>\n",
       "      <td>NaN</td>\n",
       "      <td>NaN</td>\n",
       "      <td>169.098</td>\n",
       "      <td>33.6154</td>\n",
       "      <td>104</td>\n",
       "      <td>141</td>\n",
       "      <td>167</td>\n",
       "      <td>195</td>\n",
       "      <td>333</td>\n",
       "    </tr>\n",
       "    <tr>\n",
       "      <th>pr.axis_aspect_ratio</th>\n",
       "      <td>813</td>\n",
       "      <td>NaN</td>\n",
       "      <td>NaN</td>\n",
       "      <td>NaN</td>\n",
       "      <td>61.7749</td>\n",
       "      <td>7.973</td>\n",
       "      <td>47</td>\n",
       "      <td>57</td>\n",
       "      <td>61</td>\n",
       "      <td>65</td>\n",
       "      <td>138</td>\n",
       "    </tr>\n",
       "    <tr>\n",
       "      <th>max.length_aspect_ratio</th>\n",
       "      <td>813</td>\n",
       "      <td>NaN</td>\n",
       "      <td>NaN</td>\n",
       "      <td>NaN</td>\n",
       "      <td>8.59902</td>\n",
       "      <td>4.67717</td>\n",
       "      <td>2</td>\n",
       "      <td>7</td>\n",
       "      <td>8</td>\n",
       "      <td>10</td>\n",
       "      <td>55</td>\n",
       "    </tr>\n",
       "    <tr>\n",
       "      <th>scatter_ratio</th>\n",
       "      <td>813</td>\n",
       "      <td>NaN</td>\n",
       "      <td>NaN</td>\n",
       "      <td>NaN</td>\n",
       "      <td>168.563</td>\n",
       "      <td>33.0822</td>\n",
       "      <td>112</td>\n",
       "      <td>146</td>\n",
       "      <td>157</td>\n",
       "      <td>198</td>\n",
       "      <td>265</td>\n",
       "    </tr>\n",
       "    <tr>\n",
       "      <th>elongatedness</th>\n",
       "      <td>813</td>\n",
       "      <td>NaN</td>\n",
       "      <td>NaN</td>\n",
       "      <td>NaN</td>\n",
       "      <td>40.9889</td>\n",
       "      <td>7.80338</td>\n",
       "      <td>26</td>\n",
       "      <td>33</td>\n",
       "      <td>43</td>\n",
       "      <td>46</td>\n",
       "      <td>61</td>\n",
       "    </tr>\n",
       "    <tr>\n",
       "      <th>pr.axis_rectangularity</th>\n",
       "      <td>813</td>\n",
       "      <td>NaN</td>\n",
       "      <td>NaN</td>\n",
       "      <td>NaN</td>\n",
       "      <td>20.5584</td>\n",
       "      <td>2.57318</td>\n",
       "      <td>17</td>\n",
       "      <td>19</td>\n",
       "      <td>20</td>\n",
       "      <td>23</td>\n",
       "      <td>29</td>\n",
       "    </tr>\n",
       "    <tr>\n",
       "      <th>max.length_rectangularity</th>\n",
       "      <td>813</td>\n",
       "      <td>NaN</td>\n",
       "      <td>NaN</td>\n",
       "      <td>NaN</td>\n",
       "      <td>147.892</td>\n",
       "      <td>14.5046</td>\n",
       "      <td>118</td>\n",
       "      <td>137</td>\n",
       "      <td>146</td>\n",
       "      <td>159</td>\n",
       "      <td>188</td>\n",
       "    </tr>\n",
       "    <tr>\n",
       "      <th>scaled_variance</th>\n",
       "      <td>813</td>\n",
       "      <td>NaN</td>\n",
       "      <td>NaN</td>\n",
       "      <td>NaN</td>\n",
       "      <td>188.378</td>\n",
       "      <td>31.1659</td>\n",
       "      <td>130</td>\n",
       "      <td>167</td>\n",
       "      <td>179</td>\n",
       "      <td>217</td>\n",
       "      <td>320</td>\n",
       "    </tr>\n",
       "    <tr>\n",
       "      <th>scaled_variance.1</th>\n",
       "      <td>813</td>\n",
       "      <td>NaN</td>\n",
       "      <td>NaN</td>\n",
       "      <td>NaN</td>\n",
       "      <td>438.383</td>\n",
       "      <td>175.27</td>\n",
       "      <td>184</td>\n",
       "      <td>318</td>\n",
       "      <td>364</td>\n",
       "      <td>586</td>\n",
       "      <td>1018</td>\n",
       "    </tr>\n",
       "    <tr>\n",
       "      <th>scaled_radius_of_gyration</th>\n",
       "      <td>813</td>\n",
       "      <td>NaN</td>\n",
       "      <td>NaN</td>\n",
       "      <td>NaN</td>\n",
       "      <td>174.252</td>\n",
       "      <td>32.3322</td>\n",
       "      <td>109</td>\n",
       "      <td>149</td>\n",
       "      <td>173</td>\n",
       "      <td>198</td>\n",
       "      <td>268</td>\n",
       "    </tr>\n",
       "    <tr>\n",
       "      <th>scaled_radius_of_gyration.1</th>\n",
       "      <td>813</td>\n",
       "      <td>NaN</td>\n",
       "      <td>NaN</td>\n",
       "      <td>NaN</td>\n",
       "      <td>72.3998</td>\n",
       "      <td>7.47599</td>\n",
       "      <td>59</td>\n",
       "      <td>67</td>\n",
       "      <td>71</td>\n",
       "      <td>75</td>\n",
       "      <td>135</td>\n",
       "    </tr>\n",
       "    <tr>\n",
       "      <th>skewness_about</th>\n",
       "      <td>813</td>\n",
       "      <td>NaN</td>\n",
       "      <td>NaN</td>\n",
       "      <td>NaN</td>\n",
       "      <td>6.35178</td>\n",
       "      <td>4.92148</td>\n",
       "      <td>0</td>\n",
       "      <td>2</td>\n",
       "      <td>6</td>\n",
       "      <td>9</td>\n",
       "      <td>22</td>\n",
       "    </tr>\n",
       "    <tr>\n",
       "      <th>skewness_about.1</th>\n",
       "      <td>813</td>\n",
       "      <td>NaN</td>\n",
       "      <td>NaN</td>\n",
       "      <td>NaN</td>\n",
       "      <td>12.6876</td>\n",
       "      <td>8.92695</td>\n",
       "      <td>0</td>\n",
       "      <td>6</td>\n",
       "      <td>11</td>\n",
       "      <td>19</td>\n",
       "      <td>41</td>\n",
       "    </tr>\n",
       "    <tr>\n",
       "      <th>skewness_about.2</th>\n",
       "      <td>813</td>\n",
       "      <td>NaN</td>\n",
       "      <td>NaN</td>\n",
       "      <td>NaN</td>\n",
       "      <td>188.979</td>\n",
       "      <td>6.15368</td>\n",
       "      <td>176</td>\n",
       "      <td>184</td>\n",
       "      <td>189</td>\n",
       "      <td>193</td>\n",
       "      <td>206</td>\n",
       "    </tr>\n",
       "    <tr>\n",
       "      <th>hollows_ratio</th>\n",
       "      <td>813</td>\n",
       "      <td>NaN</td>\n",
       "      <td>NaN</td>\n",
       "      <td>NaN</td>\n",
       "      <td>195.729</td>\n",
       "      <td>7.39878</td>\n",
       "      <td>181</td>\n",
       "      <td>191</td>\n",
       "      <td>197</td>\n",
       "      <td>201</td>\n",
       "      <td>211</td>\n",
       "    </tr>\n",
       "    <tr>\n",
       "      <th>class</th>\n",
       "      <td>813</td>\n",
       "      <td>3</td>\n",
       "      <td>car</td>\n",
       "      <td>413</td>\n",
       "      <td>NaN</td>\n",
       "      <td>NaN</td>\n",
       "      <td>NaN</td>\n",
       "      <td>NaN</td>\n",
       "      <td>NaN</td>\n",
       "      <td>NaN</td>\n",
       "      <td>NaN</td>\n",
       "    </tr>\n",
       "  </tbody>\n",
       "</table>\n",
       "</div>"
      ],
      "text/plain": [
       "                            count unique  top freq     mean      std  min  \\\n",
       "compactness                   813    NaN  NaN  NaN  93.6568  8.23375   73   \n",
       "circularity                   813    NaN  NaN  NaN  44.8032  6.14666   33   \n",
       "distance_circularity          813    NaN  NaN  NaN  82.0431  15.7831   40   \n",
       "radius_ratio                  813    NaN  NaN  NaN  169.098  33.6154  104   \n",
       "pr.axis_aspect_ratio          813    NaN  NaN  NaN  61.7749    7.973   47   \n",
       "max.length_aspect_ratio       813    NaN  NaN  NaN  8.59902  4.67717    2   \n",
       "scatter_ratio                 813    NaN  NaN  NaN  168.563  33.0822  112   \n",
       "elongatedness                 813    NaN  NaN  NaN  40.9889  7.80338   26   \n",
       "pr.axis_rectangularity        813    NaN  NaN  NaN  20.5584  2.57318   17   \n",
       "max.length_rectangularity     813    NaN  NaN  NaN  147.892  14.5046  118   \n",
       "scaled_variance               813    NaN  NaN  NaN  188.378  31.1659  130   \n",
       "scaled_variance.1             813    NaN  NaN  NaN  438.383   175.27  184   \n",
       "scaled_radius_of_gyration     813    NaN  NaN  NaN  174.252  32.3322  109   \n",
       "scaled_radius_of_gyration.1   813    NaN  NaN  NaN  72.3998  7.47599   59   \n",
       "skewness_about                813    NaN  NaN  NaN  6.35178  4.92148    0   \n",
       "skewness_about.1              813    NaN  NaN  NaN  12.6876  8.92695    0   \n",
       "skewness_about.2              813    NaN  NaN  NaN  188.979  6.15368  176   \n",
       "hollows_ratio                 813    NaN  NaN  NaN  195.729  7.39878  181   \n",
       "class                         813      3  car  413      NaN      NaN  NaN   \n",
       "\n",
       "                             25%  50%  75%   max  \n",
       "compactness                   87   93  100   119  \n",
       "circularity                   40   44   49    59  \n",
       "distance_circularity          70   79   98   112  \n",
       "radius_ratio                 141  167  195   333  \n",
       "pr.axis_aspect_ratio          57   61   65   138  \n",
       "max.length_aspect_ratio        7    8   10    55  \n",
       "scatter_ratio                146  157  198   265  \n",
       "elongatedness                 33   43   46    61  \n",
       "pr.axis_rectangularity        19   20   23    29  \n",
       "max.length_rectangularity    137  146  159   188  \n",
       "scaled_variance              167  179  217   320  \n",
       "scaled_variance.1            318  364  586  1018  \n",
       "scaled_radius_of_gyration    149  173  198   268  \n",
       "scaled_radius_of_gyration.1   67   71   75   135  \n",
       "skewness_about                 2    6    9    22  \n",
       "skewness_about.1               6   11   19    41  \n",
       "skewness_about.2             184  189  193   206  \n",
       "hollows_ratio                191  197  201   211  \n",
       "class                        NaN  NaN  NaN   NaN  "
      ]
     },
     "execution_count": 8,
     "metadata": {},
     "output_type": "execute_result"
    }
   ],
   "source": [
    "df.describe(include='all').T"
   ]
  },
  {
   "cell_type": "markdown",
   "metadata": {},
   "source": [
    "### 2. Print/ Plot the dependent (categorical variable) - Class column"
   ]
  },
  {
   "cell_type": "markdown",
   "metadata": {},
   "source": [
    "Since the variable is categorical, you can use value_counts function"
   ]
  },
  {
   "cell_type": "code",
   "execution_count": 9,
   "metadata": {},
   "outputs": [
    {
     "data": {
      "text/plain": [
       "car    0.507995\n",
       "bus    0.252153\n",
       "van    0.239852\n",
       "Name: class, dtype: float64"
      ]
     },
     "execution_count": 9,
     "metadata": {},
     "output_type": "execute_result"
    }
   ],
   "source": [
    "df['class'].value_counts(normalize=True)"
   ]
  },
  {
   "cell_type": "code",
   "execution_count": 10,
   "metadata": {},
   "outputs": [
    {
     "data": {
      "text/plain": [
       "<matplotlib.axes._subplots.AxesSubplot at 0x1c9e29bfcc0>"
      ]
     },
     "execution_count": 10,
     "metadata": {},
     "output_type": "execute_result"
    },
    {
     "data": {
      "image/png": "[encoded data removed]",
      "text/plain": [
       "<Figure size 432x288 with 1 Axes>"
      ]
     },
     "metadata": {
      "needs_background": "light"
     },
     "output_type": "display_data"
    }
   ],
   "source": [
    "sns.countplot(x='class', data=df)\n",
    "# 50% Cars, 25% bus and about 24% vans"
   ]
  },
  {
   "cell_type": "markdown",
   "metadata": {},
   "source": [
    "### Check for any missing values in the data "
   ]
  },
  {
   "cell_type": "code",
   "execution_count": 11,
   "metadata": {},
   "outputs": [],
   "source": [
    "# Already dropped na values before"
   ]
  },
  {
   "cell_type": "markdown",
   "metadata": {},
   "source": [
    "### 3. Standardize the data "
   ]
  },
  {
   "cell_type": "code",
   "execution_count": 12,
   "metadata": {},
   "outputs": [
    {
     "data": {
      "text/html": [
       "<div>\n",
       "<style scoped>\n",
       "    .dataframe tbody tr th:only-of-type {\n",
       "        vertical-align: middle;\n",
       "    }\n",
       "\n",
       "    .dataframe tbody tr th {\n",
       "        vertical-align: top;\n",
       "    }\n",
       "\n",
       "    .dataframe thead th {\n",
       "        text-align: right;\n",
       "    }\n",
       "</style>\n",
       "<table border=\"1\" class=\"dataframe\">\n",
       "  <thead>\n",
       "    <tr style=\"text-align: right;\">\n",
       "      <th></th>\n",
       "      <th>compactness</th>\n",
       "      <th>circularity</th>\n",
       "      <th>distance_circularity</th>\n",
       "      <th>radius_ratio</th>\n",
       "      <th>pr.axis_aspect_ratio</th>\n",
       "      <th>max.length_aspect_ratio</th>\n",
       "      <th>scatter_ratio</th>\n",
       "      <th>elongatedness</th>\n",
       "      <th>pr.axis_rectangularity</th>\n",
       "      <th>max.length_rectangularity</th>\n",
       "      <th>scaled_variance</th>\n",
       "      <th>scaled_variance.1</th>\n",
       "      <th>scaled_radius_of_gyration</th>\n",
       "      <th>scaled_radius_of_gyration.1</th>\n",
       "      <th>skewness_about</th>\n",
       "      <th>skewness_about.1</th>\n",
       "      <th>skewness_about.2</th>\n",
       "      <th>hollows_ratio</th>\n",
       "    </tr>\n",
       "  </thead>\n",
       "  <tbody>\n",
       "    <tr>\n",
       "      <th>0</th>\n",
       "      <td>0.163231</td>\n",
       "      <td>0.520408</td>\n",
       "      <td>0.060669</td>\n",
       "      <td>0.264970</td>\n",
       "      <td>1.283254</td>\n",
       "      <td>0.299721</td>\n",
       "      <td>-0.198517</td>\n",
       "      <td>0.129648</td>\n",
       "      <td>-0.217151</td>\n",
       "      <td>0.766312</td>\n",
       "      <td>-0.397397</td>\n",
       "      <td>-0.339014</td>\n",
       "      <td>0.301676</td>\n",
       "      <td>-0.321192</td>\n",
       "      <td>-0.071523</td>\n",
       "      <td>0.371287</td>\n",
       "      <td>-0.321809</td>\n",
       "      <td>0.171837</td>\n",
       "    </tr>\n",
       "    <tr>\n",
       "      <th>1</th>\n",
       "      <td>-0.322874</td>\n",
       "      <td>-0.619123</td>\n",
       "      <td>0.124067</td>\n",
       "      <td>-0.836393</td>\n",
       "      <td>-0.599253</td>\n",
       "      <td>0.085785</td>\n",
       "      <td>-0.591720</td>\n",
       "      <td>0.514333</td>\n",
       "      <td>-0.606014</td>\n",
       "      <td>-0.337462</td>\n",
       "      <td>-0.590034</td>\n",
       "      <td>-0.618754</td>\n",
       "      <td>-0.502972</td>\n",
       "      <td>-0.053505</td>\n",
       "      <td>0.538425</td>\n",
       "      <td>0.147109</td>\n",
       "      <td>0.003400</td>\n",
       "      <td>0.442318</td>\n",
       "    </tr>\n",
       "    <tr>\n",
       "      <th>2</th>\n",
       "      <td>1.256966</td>\n",
       "      <td>0.845988</td>\n",
       "      <td>1.518823</td>\n",
       "      <td>1.187734</td>\n",
       "      <td>0.530251</td>\n",
       "      <td>0.299721</td>\n",
       "      <td>1.162569</td>\n",
       "      <td>-1.152637</td>\n",
       "      <td>0.949438</td>\n",
       "      <td>0.697326</td>\n",
       "      <td>1.111591</td>\n",
       "      <td>1.122486</td>\n",
       "      <td>1.415804</td>\n",
       "      <td>0.080339</td>\n",
       "      <td>1.555006</td>\n",
       "      <td>-0.413338</td>\n",
       "      <td>-0.159204</td>\n",
       "      <td>0.036596</td>\n",
       "    </tr>\n",
       "    <tr>\n",
       "      <th>3</th>\n",
       "      <td>-0.079822</td>\n",
       "      <td>-0.619123</td>\n",
       "      <td>-0.002729</td>\n",
       "      <td>-0.300595</td>\n",
       "      <td>0.153750</td>\n",
       "      <td>0.085785</td>\n",
       "      <td>-0.742952</td>\n",
       "      <td>0.642562</td>\n",
       "      <td>-0.606014</td>\n",
       "      <td>-0.337462</td>\n",
       "      <td>-0.911095</td>\n",
       "      <td>-0.738643</td>\n",
       "      <td>-1.462359</td>\n",
       "      <td>-1.258099</td>\n",
       "      <td>-0.071523</td>\n",
       "      <td>-0.301249</td>\n",
       "      <td>1.629444</td>\n",
       "      <td>1.524243</td>\n",
       "    </tr>\n",
       "    <tr>\n",
       "      <th>4</th>\n",
       "      <td>-1.052030</td>\n",
       "      <td>-0.130753</td>\n",
       "      <td>-0.763506</td>\n",
       "      <td>1.068668</td>\n",
       "      <td>5.173770</td>\n",
       "      <td>9.285029</td>\n",
       "      <td>-0.591720</td>\n",
       "      <td>0.514333</td>\n",
       "      <td>-0.606014</td>\n",
       "      <td>-0.268476</td>\n",
       "      <td>1.689501</td>\n",
       "      <td>-0.647299</td>\n",
       "      <td>0.425468</td>\n",
       "      <td>7.307905</td>\n",
       "      <td>0.538425</td>\n",
       "      <td>-0.189159</td>\n",
       "      <td>-1.460039</td>\n",
       "      <td>-1.721531</td>\n",
       "    </tr>\n",
       "  </tbody>\n",
       "</table>\n",
       "</div>"
      ],
      "text/plain": [
       "   compactness  circularity  distance_circularity  radius_ratio  \\\n",
       "0     0.163231     0.520408              0.060669      0.264970   \n",
       "1    -0.322874    -0.619123              0.124067     -0.836393   \n",
       "2     1.256966     0.845988              1.518823      1.187734   \n",
       "3    -0.079822    -0.619123             -0.002729     -0.300595   \n",
       "4    -1.052030    -0.130753             -0.763506      1.068668   \n",
       "\n",
       "   pr.axis_aspect_ratio  max.length_aspect_ratio  scatter_ratio  \\\n",
       "0              1.283254                 0.299721      -0.198517   \n",
       "1             -0.599253                 0.085785      -0.591720   \n",
       "2              0.530251                 0.299721       1.162569   \n",
       "3              0.153750                 0.085785      -0.742952   \n",
       "4              5.173770                 9.285029      -0.591720   \n",
       "\n",
       "   elongatedness  pr.axis_rectangularity  max.length_rectangularity  \\\n",
       "0       0.129648               -0.217151                   0.766312   \n",
       "1       0.514333               -0.606014                  -0.337462   \n",
       "2      -1.152637                0.949438                   0.697326   \n",
       "3       0.642562               -0.606014                  -0.337462   \n",
       "4       0.514333               -0.606014                  -0.268476   \n",
       "\n",
       "   scaled_variance  scaled_variance.1  scaled_radius_of_gyration  \\\n",
       "0        -0.397397          -0.339014                   0.301676   \n",
       "1        -0.590034          -0.618754                  -0.502972   \n",
       "2         1.111591           1.122486                   1.415804   \n",
       "3        -0.911095          -0.738643                  -1.462359   \n",
       "4         1.689501          -0.647299                   0.425468   \n",
       "\n",
       "   scaled_radius_of_gyration.1  skewness_about  skewness_about.1  \\\n",
       "0                    -0.321192       -0.071523          0.371287   \n",
       "1                    -0.053505        0.538425          0.147109   \n",
       "2                     0.080339        1.555006         -0.413338   \n",
       "3                    -1.258099       -0.071523         -0.301249   \n",
       "4                     7.307905        0.538425         -0.189159   \n",
       "\n",
       "   skewness_about.2  hollows_ratio  \n",
       "0         -0.321809       0.171837  \n",
       "1          0.003400       0.442318  \n",
       "2         -0.159204       0.036596  \n",
       "3          1.629444       1.524243  \n",
       "4         -1.460039      -1.721531  "
      ]
     },
     "execution_count": 12,
     "metadata": {},
     "output_type": "execute_result"
    }
   ],
   "source": [
    "X = df.drop(['class'], axis=1).apply(st.zscore)\n",
    "X.head()"
   ]
  },
  {
   "cell_type": "markdown",
   "metadata": {},
   "source": [
    "Since the dimensions of the data are not really known to us, it would be wise to standardize the data using z scores before we go for any clustering methods.\n",
    "You can use zscore function to do this"
   ]
  },
  {
   "cell_type": "code",
   "execution_count": null,
   "metadata": {},
   "outputs": [],
   "source": []
  },
  {
   "cell_type": "code",
   "execution_count": null,
   "metadata": {},
   "outputs": [],
   "source": []
  },
  {
   "cell_type": "markdown",
   "metadata": {},
   "source": [
    "### K - Means Clustering"
   ]
  },
  {
   "cell_type": "markdown",
   "metadata": {},
   "source": [
    "### 4. Assign a dummy array called distortion"
   ]
  },
  {
   "cell_type": "code",
   "execution_count": 13,
   "metadata": {},
   "outputs": [],
   "source": [
    "distortions = []"
   ]
  },
  {
   "cell_type": "markdown",
   "metadata": {},
   "source": [
    "You can later use this array to plot the elbow plot"
   ]
  },
  {
   "cell_type": "code",
   "execution_count": 14,
   "metadata": {},
   "outputs": [
    {
     "data": {
      "text/plain": [
       "8.656171457094802"
      ]
     },
     "execution_count": 14,
     "metadata": {},
     "output_type": "execute_result"
    }
   ],
   "source": [
    "model_kmean = KMeans(n_clusters=3, random_state=17).fit(X)\n",
    "sum(np.min(cdist(X, model_kmean.cluster_centers_, metric='euclidean'), axis=1)**2 / (X.shape[0]))"
   ]
  },
  {
   "cell_type": "markdown",
   "metadata": {},
   "source": [
    "### 5. Calculating distortion - C distance"
   ]
  },
  {
   "cell_type": "code",
   "execution_count": 15,
   "metadata": {},
   "outputs": [
    {
     "name": "stdout",
     "output_type": "stream",
     "text": [
      "Step-  1  Distorations [18.0]\n",
      "Step-  2  Distorations [18.0, 10.606564546108773]\n",
      "Step-  3  Distorations [18.0, 10.606564546108773, 8.656171457094802]\n",
      "Step-  4  Distorations [18.0, 10.606564546108773, 8.656171457094802, 7.05928822498956]\n",
      "Step-  5  Distorations [18.0, 10.606564546108773, 8.656171457094802, 7.05928822498956, 6.378731202477499]\n",
      "Step-  6  Distorations [18.0, 10.606564546108773, 8.656171457094802, 7.05928822498956, 6.378731202477499, 5.788970794629607]\n",
      "Step-  7  Distorations [18.0, 10.606564546108773, 8.656171457094802, 7.05928822498956, 6.378731202477499, 5.788970794629607, 5.351255425030734]\n",
      "Step-  8  Distorations [18.0, 10.606564546108773, 8.656171457094802, 7.05928822498956, 6.378731202477499, 5.788970794629607, 5.351255425030734, 5.038524555172456]\n",
      "Step-  9  Distorations [18.0, 10.606564546108773, 8.656171457094802, 7.05928822498956, 6.378731202477499, 5.788970794629607, 5.351255425030734, 5.038524555172456, 4.730914342025093]\n",
      "Step-  10  Distorations [18.0, 10.606564546108773, 8.656171457094802, 7.05928822498956, 6.378731202477499, 5.788970794629607, 5.351255425030734, 5.038524555172456, 4.730914342025093, 4.492005210492639]\n"
     ]
    }
   ],
   "source": [
    "K = range(1, 11)\n",
    "for k in K:\n",
    "    model_kmean = KMeans(n_clusters=k, random_state=17).fit(X)\n",
    "    distortions.append(sum(np.min(cdist(X, model_kmean.cluster_centers_, metric='euclidean'), axis=1)**2 / (X.shape[0])))\n",
    "    print(\"Step- \", k , \" Distorations\", distortions)\n",
    "\n",
    "# We start with k = 1 (no. of clusters = 1) to k = 10 (no. of clusters = 10) and measure Total Distoration\n",
    "# Eventually we end up with following information (Distortation number may differ from actual due to randomness)\n",
    "# So the thing to observe is as we increase number of clusters, the Distortation is keeps reducing.\n",
    "# Initial iterations the decrease is sharp as compared to later iterations.\n",
    "# No. of clusters       Distortation\n",
    "# 1                     18.0\n",
    "# 2                     10.606564546108773\n",
    "# 3                     8.656171457094802\n",
    "# 4                     7.05928822498956\n",
    "# 5                     6.378731202477499\n",
    "# 6                     5.788970794629607\n",
    "# 7                     5.351255425030734\n",
    "# 8                     5.038524555172456\n",
    "# 9                     4.730914342025093\n",
    "# 10                    4.492005210492639"
   ]
  },
  {
   "cell_type": "markdown",
   "metadata": {},
   "source": [
    "Iterating values of k from 1 to 10 fit K means model\n",
    "Using c distance - Get the measure for Sum of squares error."
   ]
  },
  {
   "cell_type": "markdown",
   "metadata": {},
   "source": [
    "### 6. Plotting Elbow/ Scree Plot"
   ]
  },
  {
   "cell_type": "code",
   "execution_count": 16,
   "metadata": {},
   "outputs": [
    {
     "data": {
      "text/plain": [
       "[<matplotlib.lines.Line2D at 0x1c9e2cc6d68>]"
      ]
     },
     "execution_count": 16,
     "metadata": {},
     "output_type": "execute_result"
    },
    {
     "data": {
      "image/png": "[encoded data removed]",
      "text/plain": [
       "<Figure size 432x288 with 1 Axes>"
      ]
     },
     "metadata": {
      "needs_background": "light"
     },
     "output_type": "display_data"
    }
   ],
   "source": [
    "plt.title(\"Elbow plot - To find best value for number of clusters\")\n",
    "plt.xlabel(\"No. of Clusters\")\n",
    "plt.ylabel(\"Distortion\")\n",
    "plt.plot(K, distortions)"
   ]
  },
  {
   "cell_type": "markdown",
   "metadata": {},
   "source": [
    "Use Matplotlib to plot the scree plot - Note: Scree plot plots distortion vs the no of clusters"
   ]
  },
  {
   "cell_type": "markdown",
   "metadata": {},
   "source": [
    "### Find out the optimal value of K"
   ]
  },
  {
   "cell_type": "code",
   "execution_count": 17,
   "metadata": {},
   "outputs": [],
   "source": [
    "# So looks like 4 is where Elbow bends. Hence optimal value of K = 3\n",
    "optimum_clusters = 4"
   ]
  },
  {
   "cell_type": "markdown",
   "metadata": {},
   "source": [
    "### Using optimal value of K - Cluster the data. \n",
    "Note: Since the data has more than 2 dimension we cannot visualize the data. As an alternative, we can observe the centroids and note how they are distributed across different dimensions"
   ]
  },
  {
   "cell_type": "code",
   "execution_count": 18,
   "metadata": {},
   "outputs": [
    {
     "data": {
      "text/plain": [
       "array([[ 1.15442786e+00,  1.18428647e+00,  1.21198691e+00,\n",
       "         9.73321772e-01,  9.49213388e-02,  2.18659142e-01,\n",
       "         1.29796844e+00, -1.21424667e+00,  1.30184458e+00,\n",
       "         1.09830595e+00,  1.20590258e+00,  1.30898668e+00,\n",
       "         1.09121291e+00, -1.07878646e-01,  1.68326262e-01,\n",
       "         2.67954844e-01,  4.67043879e-03,  1.90327006e-01],\n",
       "       [-2.25338256e-01, -5.74342724e-01, -3.07614353e-01,\n",
       "        -3.81865644e-02,  1.81774089e-01, -1.72461386e-01,\n",
       "        -4.55562374e-01,  3.20123317e-01, -4.83943612e-01,\n",
       "        -5.36605811e-01, -4.20567716e-01, -4.60232777e-01,\n",
       "        -6.03827964e-01, -6.44323227e-01, -6.09955778e-02,\n",
       "         4.54841126e-03,  8.24841721e-01,  7.07985111e-01],\n",
       "       [-7.33024343e-01,  7.27349604e-02, -2.72170954e-01,\n",
       "         2.94768327e+00,  6.83665190e+00,  8.69670551e+00,\n",
       "        -5.35008001e-01,  4.66247771e-01, -5.57405972e-01,\n",
       "         2.83410527e-01,  1.69752769e+00, -5.88068272e-01,\n",
       "         2.12700856e-01,  4.96563826e+00, -2.74839440e-01,\n",
       "        -2.31192779e-01, -7.07994144e-01, -4.53650721e-01],\n",
       "       [-9.16832565e-01, -5.26197142e-01, -8.87660194e-01,\n",
       "        -1.08730080e+00, -5.63171965e-01, -3.01082567e-01,\n",
       "        -7.80129512e-01,  8.67496080e-01, -7.46976617e-01,\n",
       "        -4.90093382e-01, -8.01399405e-01, -7.84100480e-01,\n",
       "        -3.93621965e-01,  7.79115435e-01, -9.18548921e-02,\n",
       "        -2.83968154e-01, -1.04336571e+00, -1.09942461e+00]])"
      ]
     },
     "execution_count": 18,
     "metadata": {},
     "output_type": "execute_result"
    }
   ],
   "source": [
    "model_kmean = KMeans(n_clusters=optimum_clusters).fit(X)\n",
    "model_kmean.cluster_centers_ "
   ]
  },
  {
   "cell_type": "markdown",
   "metadata": {},
   "source": [
    "You can use kmeans.cluster_centers_ function to pull the centroid information from the instance"
   ]
  },
  {
   "cell_type": "code",
   "execution_count": null,
   "metadata": {},
   "outputs": [],
   "source": []
  },
  {
   "cell_type": "markdown",
   "metadata": {},
   "source": [
    "### 7. Store the centroids in a dataframe with column names from the original dataset given "
   ]
  },
  {
   "cell_type": "code",
   "execution_count": 19,
   "metadata": {},
   "outputs": [
    {
     "data": {
      "text/html": [
       "<div>\n",
       "<style scoped>\n",
       "    .dataframe tbody tr th:only-of-type {\n",
       "        vertical-align: middle;\n",
       "    }\n",
       "\n",
       "    .dataframe tbody tr th {\n",
       "        vertical-align: top;\n",
       "    }\n",
       "\n",
       "    .dataframe thead th {\n",
       "        text-align: right;\n",
       "    }\n",
       "</style>\n",
       "<table border=\"1\" class=\"dataframe\">\n",
       "  <thead>\n",
       "    <tr style=\"text-align: right;\">\n",
       "      <th></th>\n",
       "      <th>compactness</th>\n",
       "      <th>circularity</th>\n",
       "      <th>distance_circularity</th>\n",
       "      <th>radius_ratio</th>\n",
       "      <th>pr.axis_aspect_ratio</th>\n",
       "      <th>max.length_aspect_ratio</th>\n",
       "      <th>scatter_ratio</th>\n",
       "      <th>elongatedness</th>\n",
       "      <th>pr.axis_rectangularity</th>\n",
       "      <th>max.length_rectangularity</th>\n",
       "      <th>scaled_variance</th>\n",
       "      <th>scaled_variance.1</th>\n",
       "      <th>scaled_radius_of_gyration</th>\n",
       "      <th>scaled_radius_of_gyration.1</th>\n",
       "      <th>skewness_about</th>\n",
       "      <th>skewness_about.1</th>\n",
       "      <th>skewness_about.2</th>\n",
       "      <th>hollows_ratio</th>\n",
       "    </tr>\n",
       "  </thead>\n",
       "  <tbody>\n",
       "    <tr>\n",
       "      <th>0</th>\n",
       "      <td>1.154428</td>\n",
       "      <td>1.184286</td>\n",
       "      <td>1.211987</td>\n",
       "      <td>0.973322</td>\n",
       "      <td>0.094921</td>\n",
       "      <td>0.218659</td>\n",
       "      <td>1.297968</td>\n",
       "      <td>-1.214247</td>\n",
       "      <td>1.301845</td>\n",
       "      <td>1.098306</td>\n",
       "      <td>1.205903</td>\n",
       "      <td>1.308987</td>\n",
       "      <td>1.091213</td>\n",
       "      <td>-0.107879</td>\n",
       "      <td>0.168326</td>\n",
       "      <td>0.267955</td>\n",
       "      <td>0.004670</td>\n",
       "      <td>0.190327</td>\n",
       "    </tr>\n",
       "    <tr>\n",
       "      <th>1</th>\n",
       "      <td>-0.225338</td>\n",
       "      <td>-0.574343</td>\n",
       "      <td>-0.307614</td>\n",
       "      <td>-0.038187</td>\n",
       "      <td>0.181774</td>\n",
       "      <td>-0.172461</td>\n",
       "      <td>-0.455562</td>\n",
       "      <td>0.320123</td>\n",
       "      <td>-0.483944</td>\n",
       "      <td>-0.536606</td>\n",
       "      <td>-0.420568</td>\n",
       "      <td>-0.460233</td>\n",
       "      <td>-0.603828</td>\n",
       "      <td>-0.644323</td>\n",
       "      <td>-0.060996</td>\n",
       "      <td>0.004548</td>\n",
       "      <td>0.824842</td>\n",
       "      <td>0.707985</td>\n",
       "    </tr>\n",
       "    <tr>\n",
       "      <th>2</th>\n",
       "      <td>-0.733024</td>\n",
       "      <td>0.072735</td>\n",
       "      <td>-0.272171</td>\n",
       "      <td>2.947683</td>\n",
       "      <td>6.836652</td>\n",
       "      <td>8.696706</td>\n",
       "      <td>-0.535008</td>\n",
       "      <td>0.466248</td>\n",
       "      <td>-0.557406</td>\n",
       "      <td>0.283411</td>\n",
       "      <td>1.697528</td>\n",
       "      <td>-0.588068</td>\n",
       "      <td>0.212701</td>\n",
       "      <td>4.965638</td>\n",
       "      <td>-0.274839</td>\n",
       "      <td>-0.231193</td>\n",
       "      <td>-0.707994</td>\n",
       "      <td>-0.453651</td>\n",
       "    </tr>\n",
       "    <tr>\n",
       "      <th>3</th>\n",
       "      <td>-0.916833</td>\n",
       "      <td>-0.526197</td>\n",
       "      <td>-0.887660</td>\n",
       "      <td>-1.087301</td>\n",
       "      <td>-0.563172</td>\n",
       "      <td>-0.301083</td>\n",
       "      <td>-0.780130</td>\n",
       "      <td>0.867496</td>\n",
       "      <td>-0.746977</td>\n",
       "      <td>-0.490093</td>\n",
       "      <td>-0.801399</td>\n",
       "      <td>-0.784100</td>\n",
       "      <td>-0.393622</td>\n",
       "      <td>0.779115</td>\n",
       "      <td>-0.091855</td>\n",
       "      <td>-0.283968</td>\n",
       "      <td>-1.043366</td>\n",
       "      <td>-1.099425</td>\n",
       "    </tr>\n",
       "  </tbody>\n",
       "</table>\n",
       "</div>"
      ],
      "text/plain": [
       "   compactness  circularity  distance_circularity  radius_ratio  \\\n",
       "0     1.154428     1.184286              1.211987      0.973322   \n",
       "1    -0.225338    -0.574343             -0.307614     -0.038187   \n",
       "2    -0.733024     0.072735             -0.272171      2.947683   \n",
       "3    -0.916833    -0.526197             -0.887660     -1.087301   \n",
       "\n",
       "   pr.axis_aspect_ratio  max.length_aspect_ratio  scatter_ratio  \\\n",
       "0              0.094921                 0.218659       1.297968   \n",
       "1              0.181774                -0.172461      -0.455562   \n",
       "2              6.836652                 8.696706      -0.535008   \n",
       "3             -0.563172                -0.301083      -0.780130   \n",
       "\n",
       "   elongatedness  pr.axis_rectangularity  max.length_rectangularity  \\\n",
       "0      -1.214247                1.301845                   1.098306   \n",
       "1       0.320123               -0.483944                  -0.536606   \n",
       "2       0.466248               -0.557406                   0.283411   \n",
       "3       0.867496               -0.746977                  -0.490093   \n",
       "\n",
       "   scaled_variance  scaled_variance.1  scaled_radius_of_gyration  \\\n",
       "0         1.205903           1.308987                   1.091213   \n",
       "1        -0.420568          -0.460233                  -0.603828   \n",
       "2         1.697528          -0.588068                   0.212701   \n",
       "3        -0.801399          -0.784100                  -0.393622   \n",
       "\n",
       "   scaled_radius_of_gyration.1  skewness_about  skewness_about.1  \\\n",
       "0                    -0.107879        0.168326          0.267955   \n",
       "1                    -0.644323       -0.060996          0.004548   \n",
       "2                     4.965638       -0.274839         -0.231193   \n",
       "3                     0.779115       -0.091855         -0.283968   \n",
       "\n",
       "   skewness_about.2  hollows_ratio  \n",
       "0          0.004670       0.190327  \n",
       "1          0.824842       0.707985  \n",
       "2         -0.707994      -0.453651  \n",
       "3         -1.043366      -1.099425  "
      ]
     },
     "execution_count": 19,
     "metadata": {},
     "output_type": "execute_result"
    }
   ],
   "source": [
    "pd.DataFrame(columns=X.columns, data=model_kmean.cluster_centers_, index=[0, 1, 2, 3])"
   ]
  },
  {
   "cell_type": "markdown",
   "metadata": {},
   "source": [
    "Hint: Use pd.Dataframe function "
   ]
  },
  {
   "cell_type": "code",
   "execution_count": null,
   "metadata": {},
   "outputs": [],
   "source": []
  },
  {
   "cell_type": "markdown",
   "metadata": {},
   "source": [
    "### Use kmeans.labels_ function to print out the labels of the classes"
   ]
  },
  {
   "cell_type": "code",
   "execution_count": 20,
   "metadata": {},
   "outputs": [
    {
     "data": {
      "text/plain": [
       "array([1, 1, 0, 1, 2, 1, 1, 1, 1, 1, 1, 1, 1, 0, 3, 1, 0, 3, 3, 1, 1, 0,\n",
       "       1, 3, 0, 0, 3, 1, 1, 1, 0, 1, 3, 2, 0, 3, 0, 3, 3, 1, 0, 3, 3, 3,\n",
       "       3, 1, 3, 1, 0, 1])"
      ]
     },
     "execution_count": 20,
     "metadata": {},
     "output_type": "execute_result"
    }
   ],
   "source": [
    "# Just printing a few of the labels to save space, not all.\n",
    "model_kmean.labels_[0:50]"
   ]
  },
  {
   "cell_type": "markdown",
   "metadata": {},
   "source": [
    "## Hierarchical Clustering "
   ]
  },
  {
   "cell_type": "markdown",
   "metadata": {},
   "source": [
    "### 8. Variable creation"
   ]
  },
  {
   "cell_type": "markdown",
   "metadata": {},
   "source": [
    "For Hierarchical clustering, we will create datasets using multivariate normal distribution to visually observe how the clusters are formed at the end"
   ]
  },
  {
   "cell_type": "code",
   "execution_count": 21,
   "metadata": {},
   "outputs": [],
   "source": [
    "np.random.seed(12)\n",
    "a = np.random.multivariate_normal([10, 0], [[3, 1], [1, 4]], size=[100,])\n",
    "b = np.random.multivariate_normal([0, 20], [[3, 1], [1, 4]], size=[50,])\n",
    "c = np.random.multivariate_normal([10, 20], [[3, 1], [1, 4]], size=[100,])"
   ]
  },
  {
   "cell_type": "code",
   "execution_count": 22,
   "metadata": {},
   "outputs": [
    {
     "data": {
      "text/plain": [
       "array([[ 9.63974973,  1.41752989],\n",
       "       [ 8.04107097,  1.8231488 ],\n",
       "       [ 8.83600507,  2.62201953],\n",
       "       [ 9.8479501 ,  0.10692431],\n",
       "       [12.8585942 , -3.80535065],\n",
       "       [ 9.94486504, -1.47617806],\n",
       "       [ 9.6428356 ,  2.98940472],\n",
       "       [11.35619583,  2.55295983],\n",
       "       [ 9.94413128,  2.59240139],\n",
       "       [10.42515762, -2.86361804]])"
      ]
     },
     "execution_count": 22,
     "metadata": {},
     "output_type": "execute_result"
    }
   ],
   "source": [
    "a[0:10]"
   ]
  },
  {
   "cell_type": "code",
   "execution_count": 23,
   "metadata": {},
   "outputs": [
    {
     "data": {
      "text/plain": [
       "(100, 50, 100)"
      ]
     },
     "execution_count": 23,
     "metadata": {},
     "output_type": "execute_result"
    }
   ],
   "source": [
    "len(a), len(b), len(c)"
   ]
  },
  {
   "cell_type": "markdown",
   "metadata": {},
   "source": [
    "### 9. Combine all three arrays a,b,c into a dataframe"
   ]
  },
  {
   "cell_type": "code",
   "execution_count": 24,
   "metadata": {},
   "outputs": [],
   "source": [
    "X = np.concatenate((a, b, c))"
   ]
  },
  {
   "cell_type": "code",
   "execution_count": 25,
   "metadata": {},
   "outputs": [
    {
     "data": {
      "text/plain": [
       "250"
      ]
     },
     "execution_count": 25,
     "metadata": {},
     "output_type": "execute_result"
    }
   ],
   "source": [
    "len(X)"
   ]
  },
  {
   "cell_type": "markdown",
   "metadata": {},
   "source": [
    "### 10. Use scatter matrix to print all the 3 distributions"
   ]
  },
  {
   "cell_type": "code",
   "execution_count": 26,
   "metadata": {},
   "outputs": [
    {
     "data": {
      "text/plain": [
       "<matplotlib.axes._subplots.AxesSubplot at 0x1c9e32569b0>"
      ]
     },
     "execution_count": 26,
     "metadata": {},
     "output_type": "execute_result"
    },
    {
     "data": {
      "image/png": "[encoded data removed]",
      "text/plain": [
       "<Figure size 432x288 with 1 Axes>"
      ]
     },
     "metadata": {
      "needs_background": "light"
     },
     "output_type": "display_data"
    }
   ],
   "source": [
    "sns.scatterplot(x=X[:,0], y=X[:,1])"
   ]
  },
  {
   "cell_type": "code",
   "execution_count": null,
   "metadata": {},
   "outputs": [],
   "source": []
  },
  {
   "cell_type": "markdown",
   "metadata": {},
   "source": [
    "### 11. Find out the linkage matrix"
   ]
  },
  {
   "cell_type": "code",
   "execution_count": 27,
   "metadata": {},
   "outputs": [],
   "source": [
    "Z = linkage(X, 'ward', metric='euclidean')"
   ]
  },
  {
   "cell_type": "markdown",
   "metadata": {},
   "source": [
    "Use ward as linkage metric and distance as Eucledian"
   ]
  },
  {
   "cell_type": "code",
   "execution_count": 28,
   "metadata": {},
   "outputs": [
    {
     "data": {
      "text/plain": [
       "array([[1.57000000e+02, 2.23000000e+02, 4.72306104e-02, 2.00000000e+00],\n",
       "       [1.99000000e+02, 2.28000000e+02, 4.79218391e-02, 2.00000000e+00],\n",
       "       [1.60000000e+01, 8.80000000e+01, 5.99106024e-02, 2.00000000e+00],\n",
       "       [3.00000000e+00, 5.10000000e+01, 6.62247756e-02, 2.00000000e+00],\n",
       "       [0.00000000e+00, 5.70000000e+01, 7.79038288e-02, 2.00000000e+00],\n",
       "       [2.45000000e+02, 2.50000000e+02, 9.97747575e-02, 3.00000000e+00],\n",
       "       [4.60000000e+01, 6.90000000e+01, 1.12568583e-01, 2.00000000e+00],\n",
       "       [1.61000000e+02, 2.22000000e+02, 1.16988330e-01, 2.00000000e+00],\n",
       "       [1.67000000e+02, 2.24000000e+02, 1.23365579e-01, 2.00000000e+00],\n",
       "       [2.90000000e+01, 2.53000000e+02, 1.25600455e-01, 3.00000000e+00],\n",
       "       [5.00000000e+01, 8.90000000e+01, 1.28696990e-01, 2.00000000e+00],\n",
       "       [6.20000000e+01, 9.80000000e+01, 1.32569037e-01, 2.00000000e+00],\n",
       "       [1.63000000e+02, 2.18000000e+02, 1.35392651e-01, 2.00000000e+00],\n",
       "       [1.50000000e+01, 2.00000000e+01, 1.38965293e-01, 2.00000000e+00],\n",
       "       [1.71000000e+02, 2.41000000e+02, 1.39624704e-01, 2.00000000e+00],\n",
       "       [1.70000000e+02, 2.39000000e+02, 1.52961904e-01, 2.00000000e+00],\n",
       "       [1.34000000e+02, 1.42000000e+02, 1.53548667e-01, 2.00000000e+00],\n",
       "       [8.40000000e+01, 9.40000000e+01, 1.55341875e-01, 2.00000000e+00],\n",
       "       [1.58000000e+02, 1.78000000e+02, 1.70532615e-01, 2.00000000e+00],\n",
       "       [1.59000000e+02, 2.19000000e+02, 1.71116603e-01, 2.00000000e+00],\n",
       "       [1.00000000e+01, 3.20000000e+01, 1.74116720e-01, 2.00000000e+00],\n",
       "       [1.73000000e+02, 1.96000000e+02, 1.75702338e-01, 2.00000000e+00],\n",
       "       [1.89000000e+02, 2.40000000e+02, 1.78089791e-01, 2.00000000e+00],\n",
       "       [1.52000000e+02, 1.68000000e+02, 1.84188683e-01, 2.00000000e+00],\n",
       "       [1.32000000e+02, 1.38000000e+02, 1.86540863e-01, 2.00000000e+00],\n",
       "       [2.20000000e+01, 5.20000000e+01, 1.89082426e-01, 2.00000000e+00],\n",
       "       [1.85000000e+02, 2.06000000e+02, 2.00437476e-01, 2.00000000e+00],\n",
       "       [1.86000000e+02, 2.37000000e+02, 2.01133373e-01, 2.00000000e+00],\n",
       "       [1.80000000e+02, 1.97000000e+02, 2.01477287e-01, 2.00000000e+00],\n",
       "       [1.53000000e+02, 1.74000000e+02, 2.01504211e-01, 2.00000000e+00],\n",
       "       [1.11000000e+02, 1.22000000e+02, 2.07585893e-01, 2.00000000e+00],\n",
       "       [1.69000000e+02, 2.44000000e+02, 2.13077672e-01, 2.00000000e+00],\n",
       "       [1.95000000e+02, 2.20000000e+02, 2.18415157e-01, 2.00000000e+00],\n",
       "       [5.00000000e+00, 2.61000000e+02, 2.20629662e-01, 3.00000000e+00],\n",
       "       [1.39000000e+02, 1.47000000e+02, 2.30857320e-01, 2.00000000e+00],\n",
       "       [1.75000000e+02, 2.02000000e+02, 2.39083464e-01, 2.00000000e+00],\n",
       "       [7.20000000e+01, 9.10000000e+01, 2.40117743e-01, 2.00000000e+00],\n",
       "       [4.20000000e+01, 6.80000000e+01, 2.43349623e-01, 2.00000000e+00],\n",
       "       [1.10000000e+01, 7.80000000e+01, 2.49836229e-01, 2.00000000e+00],\n",
       "       [1.80000000e+01, 5.30000000e+01, 2.50042978e-01, 2.00000000e+00],\n",
       "       [6.10000000e+01, 2.59000000e+02, 2.51503197e-01, 4.00000000e+00],\n",
       "       [1.81000000e+02, 2.49000000e+02, 2.51565154e-01, 2.00000000e+00],\n",
       "       [3.10000000e+01, 3.50000000e+01, 2.60125289e-01, 2.00000000e+00],\n",
       "       [7.90000000e+01, 8.20000000e+01, 2.63066820e-01, 2.00000000e+00],\n",
       "       [1.90000000e+01, 2.80000000e+01, 2.73733875e-01, 2.00000000e+00],\n",
       "       [4.40000000e+01, 4.90000000e+01, 2.87060796e-01, 2.00000000e+00],\n",
       "       [1.93000000e+02, 2.31000000e+02, 2.87117402e-01, 2.00000000e+00],\n",
       "       [1.51000000e+02, 2.21000000e+02, 2.89420994e-01, 2.00000000e+00],\n",
       "       [2.00000000e+00, 4.80000000e+01, 2.89485871e-01, 2.00000000e+00],\n",
       "       [3.70000000e+01, 6.00000000e+01, 2.91372394e-01, 2.00000000e+00],\n",
       "       [1.91000000e+02, 1.92000000e+02, 2.98461611e-01, 2.00000000e+00],\n",
       "       [1.70000000e+01, 4.10000000e+01, 3.07987204e-01, 2.00000000e+00],\n",
       "       [3.90000000e+01, 7.60000000e+01, 3.12093111e-01, 2.00000000e+00],\n",
       "       [2.07000000e+02, 2.32000000e+02, 3.16314205e-01, 2.00000000e+00],\n",
       "       [3.80000000e+01, 2.63000000e+02, 3.18128177e-01, 3.00000000e+00],\n",
       "       [5.90000000e+01, 2.60000000e+02, 3.20572963e-01, 3.00000000e+00],\n",
       "       [3.00000000e+01, 7.00000000e+01, 3.25165261e-01, 2.00000000e+00],\n",
       "       [1.55000000e+02, 1.83000000e+02, 3.26194961e-01, 2.00000000e+00],\n",
       "       [2.14000000e+02, 2.72000000e+02, 3.28280572e-01, 3.00000000e+00],\n",
       "       [2.65000000e+02, 2.71000000e+02, 3.28784135e-01, 4.00000000e+00],\n",
       "       [1.76000000e+02, 2.36000000e+02, 3.33281973e-01, 2.00000000e+00],\n",
       "       [1.13000000e+02, 1.44000000e+02, 3.33517824e-01, 2.00000000e+00],\n",
       "       [1.77000000e+02, 1.90000000e+02, 3.36780018e-01, 2.00000000e+00],\n",
       "       [3.30000000e+01, 5.80000000e+01, 3.39755321e-01, 2.00000000e+00],\n",
       "       [2.13000000e+02, 2.38000000e+02, 3.40036967e-01, 2.00000000e+00],\n",
       "       [9.20000000e+01, 9.60000000e+01, 3.43290211e-01, 2.00000000e+00],\n",
       "       [1.56000000e+02, 2.35000000e+02, 3.46925040e-01, 2.00000000e+00],\n",
       "       [1.12000000e+02, 1.23000000e+02, 3.66720584e-01, 2.00000000e+00],\n",
       "       [1.64000000e+02, 1.82000000e+02, 3.68319887e-01, 2.00000000e+00],\n",
       "       [1.60000000e+02, 1.79000000e+02, 3.73925778e-01, 2.00000000e+00],\n",
       "       [2.11000000e+02, 2.46000000e+02, 3.75648449e-01, 2.00000000e+00],\n",
       "       [1.65000000e+02, 1.87000000e+02, 3.80147561e-01, 2.00000000e+00],\n",
       "       [6.40000000e+01, 2.67000000e+02, 3.86222672e-01, 3.00000000e+00],\n",
       "       [2.25000000e+02, 2.58000000e+02, 4.03379038e-01, 3.00000000e+00],\n",
       "       [1.00000000e+02, 1.30000000e+02, 4.03922345e-01, 2.00000000e+00],\n",
       "       [1.66000000e+02, 2.01000000e+02, 4.11376438e-01, 2.00000000e+00],\n",
       "       [1.20000000e+02, 2.80000000e+02, 4.19818130e-01, 3.00000000e+00],\n",
       "       [1.15000000e+02, 1.31000000e+02, 4.24266108e-01, 2.00000000e+00],\n",
       "       [4.50000000e+01, 6.30000000e+01, 4.33342439e-01, 2.00000000e+00],\n",
       "       [7.70000000e+01, 9.00000000e+01, 4.39180734e-01, 2.00000000e+00],\n",
       "       [7.40000000e+01, 2.94000000e+02, 4.41025837e-01, 3.00000000e+00],\n",
       "       [2.26000000e+02, 2.97000000e+02, 4.41492932e-01, 3.00000000e+00],\n",
       "       [2.51000000e+02, 2.77000000e+02, 4.42110740e-01, 4.00000000e+00],\n",
       "       [1.03000000e+02, 1.43000000e+02, 4.51871470e-01, 2.00000000e+00],\n",
       "       [1.25000000e+02, 1.46000000e+02, 4.51926912e-01, 2.00000000e+00],\n",
       "       [9.70000000e+01, 3.02000000e+02, 4.55204648e-01, 3.00000000e+00],\n",
       "       [1.06000000e+02, 2.84000000e+02, 4.66301602e-01, 3.00000000e+00],\n",
       "       [1.08000000e+02, 1.48000000e+02, 4.68847682e-01, 2.00000000e+00],\n",
       "       [8.30000000e+01, 2.54000000e+02, 4.74491922e-01, 3.00000000e+00],\n",
       "       [2.04000000e+02, 2.15000000e+02, 4.81529120e-01, 2.00000000e+00],\n",
       "       [1.94000000e+02, 2.33000000e+02, 4.83210931e-01, 2.00000000e+00],\n",
       "       [9.00000000e+00, 2.93000000e+02, 4.88518751e-01, 3.00000000e+00],\n",
       "       [2.83000000e+02, 2.95000000e+02, 4.93253420e-01, 5.00000000e+00],\n",
       "       [6.00000000e+00, 8.00000000e+00, 4.98388131e-01, 2.00000000e+00],\n",
       "       [1.98000000e+02, 2.00000000e+02, 5.07240887e-01, 2.00000000e+00],\n",
       "       [1.26000000e+02, 3.11000000e+02, 5.15860321e-01, 3.00000000e+00],\n",
       "       [1.45000000e+02, 3.27000000e+02, 5.16599906e-01, 3.00000000e+00],\n",
       "       [6.70000000e+01, 2.90000000e+02, 5.38482423e-01, 5.00000000e+00],\n",
       "       [7.50000000e+01, 8.50000000e+01, 5.43094674e-01, 2.00000000e+00],\n",
       "       [1.54000000e+02, 2.81000000e+02, 5.45802959e-01, 3.00000000e+00],\n",
       "       [3.40000000e+01, 2.89000000e+02, 5.48159472e-01, 3.00000000e+00],\n",
       "       [8.60000000e+01, 2.92000000e+02, 5.49235601e-01, 3.00000000e+00],\n",
       "       [7.30000000e+01, 9.30000000e+01, 5.53022812e-01, 2.00000000e+00],\n",
       "       [2.64000000e+02, 3.44000000e+02, 5.75628412e-01, 4.00000000e+00],\n",
       "       [1.24000000e+02, 1.28000000e+02, 5.80478676e-01, 2.00000000e+00],\n",
       "       [2.43000000e+02, 2.69000000e+02, 5.86876800e-01, 3.00000000e+00],\n",
       "       [2.08000000e+02, 3.16000000e+02, 5.95019603e-01, 3.00000000e+00],\n",
       "       [1.05000000e+02, 1.37000000e+02, 6.12057479e-01, 2.00000000e+00],\n",
       "       [2.82000000e+02, 2.91000000e+02, 6.12586246e-01, 4.00000000e+00],\n",
       "       [4.70000000e+01, 3.30000000e+02, 6.18963485e-01, 4.00000000e+00],\n",
       "       [2.62000000e+02, 2.76000000e+02, 6.30913480e-01, 4.00000000e+00],\n",
       "       [2.55000000e+02, 3.12000000e+02, 6.38146838e-01, 5.00000000e+00],\n",
       "       [1.16000000e+02, 3.17000000e+02, 6.45322620e-01, 3.00000000e+00],\n",
       "       [5.60000000e+01, 2.99000000e+02, 6.52204922e-01, 3.00000000e+00],\n",
       "       [2.73000000e+02, 3.10000000e+02, 6.72373870e-01, 4.00000000e+00],\n",
       "       [1.01000000e+02, 3.24000000e+02, 6.75902821e-01, 3.00000000e+00],\n",
       "       [7.00000000e+00, 2.10000000e+01, 6.80481686e-01, 2.00000000e+00],\n",
       "       [2.70000000e+02, 2.86000000e+02, 6.82184204e-01, 4.00000000e+00],\n",
       "       [2.27000000e+02, 3.03000000e+02, 6.90725008e-01, 3.00000000e+00],\n",
       "       [4.30000000e+01, 3.48000000e+02, 6.98179493e-01, 3.00000000e+00],\n",
       "       [1.33000000e+02, 3.36000000e+02, 7.02492725e-01, 4.00000000e+00],\n",
       "       [3.00000000e+02, 3.40000000e+02, 7.02945845e-01, 4.00000000e+00],\n",
       "       [2.17000000e+02, 3.23000000e+02, 7.25801915e-01, 4.00000000e+00],\n",
       "       [1.30000000e+01, 4.00000000e+01, 7.51257231e-01, 2.00000000e+00],\n",
       "       [6.50000000e+01, 3.05000000e+02, 7.52829734e-01, 4.00000000e+00],\n",
       "       [3.22000000e+02, 3.29000000e+02, 7.57027612e-01, 5.00000000e+00],\n",
       "       [2.10000000e+02, 2.29000000e+02, 7.68832962e-01, 2.00000000e+00],\n",
       "       [1.84000000e+02, 1.88000000e+02, 7.72233378e-01, 2.00000000e+00],\n",
       "       [2.96000000e+02, 3.18000000e+02, 7.72313527e-01, 4.00000000e+00],\n",
       "       [2.70000000e+01, 3.06000000e+02, 8.18459746e-01, 3.00000000e+00],\n",
       "       [3.08000000e+02, 3.32000000e+02, 8.24248483e-01, 7.00000000e+00],\n",
       "       [1.09000000e+02, 1.19000000e+02, 8.32186265e-01, 2.00000000e+00],\n",
       "       [2.52000000e+02, 3.47000000e+02, 8.63749930e-01, 7.00000000e+00],\n",
       "       [8.70000000e+01, 3.59000000e+02, 8.63781245e-01, 5.00000000e+00],\n",
       "       [3.45000000e+02, 3.54000000e+02, 8.92558746e-01, 5.00000000e+00],\n",
       "       [3.09000000e+02, 3.31000000e+02, 9.17166929e-01, 7.00000000e+00],\n",
       "       [1.50000000e+02, 1.72000000e+02, 9.17371735e-01, 2.00000000e+00],\n",
       "       [1.00000000e+00, 8.10000000e+01, 9.18965169e-01, 2.00000000e+00],\n",
       "       [2.85000000e+02, 3.21000000e+02, 9.30481319e-01, 4.00000000e+00],\n",
       "       [1.40000000e+02, 1.41000000e+02, 9.79407459e-01, 2.00000000e+00],\n",
       "       [2.03000000e+02, 2.05000000e+02, 9.88654891e-01, 2.00000000e+00],\n",
       "       [2.30000000e+01, 6.60000000e+01, 9.94013117e-01, 2.00000000e+00],\n",
       "       [2.88000000e+02, 3.67000000e+02, 9.99626283e-01, 6.00000000e+00],\n",
       "       [2.68000000e+02, 3.64000000e+02, 1.00980519e+00, 6.00000000e+00],\n",
       "       [3.15000000e+02, 3.50000000e+02, 1.01752931e+00, 5.00000000e+00],\n",
       "       [2.75000000e+02, 3.35000000e+02, 1.03031774e+00, 5.00000000e+00],\n",
       "       [1.20000000e+01, 9.90000000e+01, 1.04214540e+00, 2.00000000e+00],\n",
       "       [1.04000000e+02, 1.35000000e+02, 1.09427412e+00, 2.00000000e+00],\n",
       "       [1.29000000e+02, 3.26000000e+02, 1.11458820e+00, 4.00000000e+00],\n",
       "       [2.50000000e+01, 3.51000000e+02, 1.11849847e+00, 4.00000000e+00],\n",
       "       [2.16000000e+02, 3.76000000e+02, 1.11950351e+00, 3.00000000e+00],\n",
       "       [2.12000000e+02, 2.42000000e+02, 1.13427483e+00, 2.00000000e+00],\n",
       "       [8.00000000e+01, 3.87000000e+02, 1.13451897e+00, 3.00000000e+00],\n",
       "       [3.07000000e+02, 3.25000000e+02, 1.14541727e+00, 4.00000000e+00],\n",
       "       [3.39000000e+02, 3.49000000e+02, 1.16313559e+00, 5.00000000e+00],\n",
       "       [3.66000000e+02, 3.79000000e+02, 1.16683574e+00, 5.00000000e+00],\n",
       "       [2.40000000e+01, 7.10000000e+01, 1.17732764e+00, 2.00000000e+00],\n",
       "       [2.98000000e+02, 3.43000000e+02, 1.18494693e+00, 4.00000000e+00],\n",
       "       [3.01000000e+02, 3.04000000e+02, 1.18701250e+00, 5.00000000e+00],\n",
       "       [3.58000000e+02, 3.61000000e+02, 1.19484630e+00, 9.00000000e+00],\n",
       "       [3.13000000e+02, 3.41000000e+02, 1.19680721e+00, 5.00000000e+00],\n",
       "       [5.50000000e+01, 2.87000000e+02, 1.22193125e+00, 3.00000000e+00],\n",
       "       [1.14000000e+02, 3.33000000e+02, 1.27535619e+00, 3.00000000e+00],\n",
       "       [3.37000000e+02, 3.46000000e+02, 1.31738194e+00, 5.00000000e+00],\n",
       "       [2.56000000e+02, 3.42000000e+02, 1.33204436e+00, 7.00000000e+00],\n",
       "       [1.10000000e+02, 3.98000000e+02, 1.35999789e+00, 5.00000000e+00],\n",
       "       [9.50000000e+01, 3.28000000e+02, 1.37436906e+00, 3.00000000e+00],\n",
       "       [4.00000000e+00, 2.60000000e+01, 1.38000514e+00, 2.00000000e+00],\n",
       "       [3.34000000e+02, 3.65000000e+02, 1.38536315e+00, 5.00000000e+00],\n",
       "       [2.57000000e+02, 2.78000000e+02, 1.39346799e+00, 4.00000000e+00],\n",
       "       [3.53000000e+02, 3.72000000e+02, 1.42006787e+00, 8.00000000e+00],\n",
       "       [3.73000000e+02, 3.96000000e+02, 1.42588415e+00, 4.00000000e+00],\n",
       "       [3.19000000e+02, 3.88000000e+02, 1.43456004e+00, 6.00000000e+00],\n",
       "       [3.14000000e+02, 3.80000000e+02, 1.46914380e+00, 9.00000000e+00],\n",
       "       [3.60000000e+01, 4.07000000e+02, 1.51776150e+00, 5.00000000e+00],\n",
       "       [3.81000000e+02, 3.84000000e+02, 1.56774763e+00, 7.00000000e+00],\n",
       "       [1.62000000e+02, 3.90000000e+02, 1.57555585e+00, 3.00000000e+00],\n",
       "       [1.21000000e+02, 1.36000000e+02, 1.57806365e+00, 2.00000000e+00],\n",
       "       [3.55000000e+02, 3.71000000e+02, 1.59900065e+00, 7.00000000e+00],\n",
       "       [3.60000000e+02, 4.03000000e+02, 1.65222648e+00, 8.00000000e+00],\n",
       "       [1.02000000e+02, 3.97000000e+02, 1.69742117e+00, 3.00000000e+00],\n",
       "       [2.79000000e+02, 3.86000000e+02, 1.73817281e+00, 4.00000000e+00],\n",
       "       [1.40000000e+01, 3.69000000e+02, 1.80868258e+00, 4.00000000e+00],\n",
       "       [3.56000000e+02, 3.85000000e+02, 1.87059940e+00, 1.00000000e+01],\n",
       "       [1.17000000e+02, 2.09000000e+02, 1.89511216e+00, 2.00000000e+00],\n",
       "       [3.95000000e+02, 4.08000000e+02, 1.89579702e+00, 1.00000000e+01],\n",
       "       [3.74000000e+02, 3.94000000e+02, 1.91589450e+00, 9.00000000e+00],\n",
       "       [3.75000000e+02, 4.14000000e+02, 1.95008389e+00, 1.20000000e+01],\n",
       "       [3.70000000e+02, 4.18000000e+02, 1.96810024e+00, 9.00000000e+00],\n",
       "       [3.38000000e+02, 3.83000000e+02, 1.97436145e+00, 8.00000000e+00],\n",
       "       [1.27000000e+02, 4.25000000e+02, 2.05057585e+00, 8.00000000e+00],\n",
       "       [2.30000000e+02, 3.77000000e+02, 2.09048544e+00, 3.00000000e+00],\n",
       "       [1.07000000e+02, 2.66000000e+02, 2.12470503e+00, 3.00000000e+00],\n",
       "       [4.12000000e+02, 4.13000000e+02, 2.19531570e+00, 8.00000000e+00],\n",
       "       [3.78000000e+02, 4.19000000e+02, 2.19609977e+00, 8.00000000e+00],\n",
       "       [3.68000000e+02, 4.00000000e+02, 2.22675760e+00, 6.00000000e+00],\n",
       "       [2.47000000e+02, 3.93000000e+02, 2.25530253e+00, 7.00000000e+00],\n",
       "       [1.18000000e+02, 3.62000000e+02, 2.33340460e+00, 4.00000000e+00],\n",
       "       [3.52000000e+02, 3.91000000e+02, 2.44029920e+00, 4.00000000e+00],\n",
       "       [3.92000000e+02, 4.05000000e+02, 2.48843570e+00, 1.10000000e+01],\n",
       "       [4.01000000e+02, 4.09000000e+02, 2.64560117e+00, 1.10000000e+01],\n",
       "       [3.82000000e+02, 4.39000000e+02, 2.71026372e+00, 1.50000000e+01],\n",
       "       [2.48000000e+02, 4.26000000e+02, 2.85192983e+00, 4.00000000e+00],\n",
       "       [4.04000000e+02, 4.46000000e+02, 2.92591111e+00, 1.20000000e+01],\n",
       "       [2.74000000e+02, 3.89000000e+02, 2.93789958e+00, 4.00000000e+00],\n",
       "       [3.57000000e+02, 4.47000000e+02, 3.08077895e+00, 6.00000000e+00],\n",
       "       [4.20000000e+02, 4.33000000e+02, 3.11423894e+00, 1.80000000e+01],\n",
       "       [3.99000000e+02, 4.48000000e+02, 3.22231919e+00, 8.00000000e+00],\n",
       "       [4.02000000e+02, 4.16000000e+02, 3.22350979e+00, 6.00000000e+00],\n",
       "       [4.11000000e+02, 4.24000000e+02, 3.34597073e+00, 8.00000000e+00],\n",
       "       [4.21000000e+02, 4.36000000e+02, 3.36198151e+00, 1.30000000e+01],\n",
       "       [4.22000000e+02, 4.50000000e+02, 3.52515813e+00, 1.70000000e+01],\n",
       "       [4.06000000e+02, 4.32000000e+02, 3.54097058e+00, 6.00000000e+00],\n",
       "       [1.49000000e+02, 4.30000000e+02, 3.61834501e+00, 4.00000000e+00],\n",
       "       [4.34000000e+02, 4.41000000e+02, 3.65920275e+00, 5.00000000e+00],\n",
       "       [4.28000000e+02, 4.29000000e+02, 3.68069792e+00, 1.50000000e+01],\n",
       "       [2.34000000e+02, 4.45000000e+02, 3.70463238e+00, 7.00000000e+00],\n",
       "       [4.10000000e+02, 4.37000000e+02, 3.84662211e+00, 1.70000000e+01],\n",
       "       [4.15000000e+02, 4.38000000e+02, 4.08236640e+00, 1.40000000e+01],\n",
       "       [3.20000000e+02, 4.53000000e+02, 4.15865593e+00, 1.40000000e+01],\n",
       "       [4.31000000e+02, 4.44000000e+02, 4.27073127e+00, 1.20000000e+01],\n",
       "       [4.43000000e+02, 4.54000000e+02, 4.42927370e+00, 1.20000000e+01],\n",
       "       [4.27000000e+02, 4.42000000e+02, 4.50841527e+00, 5.00000000e+00],\n",
       "       [4.35000000e+02, 4.51000000e+02, 4.77884554e+00, 2.50000000e+01],\n",
       "       [3.63000000e+02, 4.49000000e+02, 4.95180165e+00, 1.40000000e+01],\n",
       "       [5.40000000e+01, 4.59000000e+02, 5.11618867e+00, 9.00000000e+00],\n",
       "       [4.63000000e+02, 4.68000000e+02, 5.27168371e+00, 1.80000000e+01],\n",
       "       [4.23000000e+02, 4.66000000e+02, 5.61351184e+00, 1.60000000e+01],\n",
       "       [4.17000000e+02, 4.67000000e+02, 5.61557249e+00, 1.90000000e+01],\n",
       "       [4.56000000e+02, 4.70000000e+02, 5.94364208e+00, 3.00000000e+01],\n",
       "       [4.40000000e+02, 4.71000000e+02, 6.33136909e+00, 2.00000000e+01],\n",
       "       [4.52000000e+02, 4.69000000e+02, 6.82599594e+00, 1.80000000e+01],\n",
       "       [4.57000000e+02, 4.74000000e+02, 6.83894283e+00, 2.20000000e+01],\n",
       "       [4.58000000e+02, 4.73000000e+02, 6.93857525e+00, 3.10000000e+01],\n",
       "       [4.55000000e+02, 4.76000000e+02, 7.52199915e+00, 2.40000000e+01],\n",
       "       [4.61000000e+02, 4.65000000e+02, 7.68195424e+00, 3.20000000e+01],\n",
       "       [4.60000000e+02, 4.62000000e+02, 8.74769830e+00, 1.90000000e+01],\n",
       "       [4.72000000e+02, 4.80000000e+02, 9.06599144e+00, 2.50000000e+01],\n",
       "       [4.64000000e+02, 4.77000000e+02, 9.21093752e+00, 2.10000000e+01],\n",
       "       [4.75000000e+02, 4.82000000e+02, 1.19273589e+01, 3.10000000e+01],\n",
       "       [4.78000000e+02, 4.86000000e+02, 1.20832204e+01, 3.80000000e+01],\n",
       "       [4.79000000e+02, 4.88000000e+02, 1.37985863e+01, 5.10000000e+01],\n",
       "       [4.83000000e+02, 4.89000000e+02, 1.39031150e+01, 6.20000000e+01],\n",
       "       [4.85000000e+02, 4.91000000e+02, 1.60059773e+01, 8.30000000e+01],\n",
       "       [4.84000000e+02, 4.87000000e+02, 2.01109347e+01, 4.90000000e+01],\n",
       "       [4.81000000e+02, 4.93000000e+02, 2.07467425e+01, 1.01000000e+02],\n",
       "       [4.90000000e+02, 4.92000000e+02, 2.48914279e+01, 1.00000000e+02],\n",
       "       [4.94000000e+02, 4.95000000e+02, 8.57918618e+01, 1.50000000e+02],\n",
       "       [4.96000000e+02, 4.97000000e+02, 2.25822321e+02, 2.50000000e+02]])"
      ]
     },
     "execution_count": 28,
     "metadata": {},
     "output_type": "execute_result"
    }
   ],
   "source": [
    "# Column#1, Column#2, Column#3, Column4\n",
    "# Index of First cluster, Index of Second Cluster, Distance between these two clusters, No of elements after merge of these two clusters\n",
    "# Observe that last step has 150 elements, which means in final step all the elements merge into a single cluster\n",
    "Z"
   ]
  },
  {
   "cell_type": "code",
   "execution_count": 29,
   "metadata": {},
   "outputs": [
    {
     "data": {
      "text/plain": [
       "249"
      ]
     },
     "execution_count": 29,
     "metadata": {},
     "output_type": "execute_result"
    }
   ],
   "source": [
    "len(Z)\n",
    "# There are 250 elements in our data frame (X); hence there would be 250 - 1 = 249 steps performed.\n",
    "# Result of each step can be found in Z"
   ]
  },
  {
   "cell_type": "markdown",
   "metadata": {},
   "source": [
    "### 12. Plot the dendrogram for the consolidated dataframe"
   ]
  },
  {
   "cell_type": "code",
   "execution_count": 30,
   "metadata": {},
   "outputs": [
    {
     "data": {
      "image/png": "[encoded data removed]",
      "text/plain": [
       "<Figure size 3240x1440 with 1 Axes>"
      ]
     },
     "metadata": {
      "needs_background": "light"
     },
     "output_type": "display_data"
    }
   ],
   "source": [
    "plt.figure(figsize=(45, 20))\n",
    "plt.title('Hierarchical Clustering Dendrogram')\n",
    "plt.xlabel('Sample index')\n",
    "plt.ylabel('Distance')\n",
    "dendrogram(\n",
    "    Z,\n",
    "    leaf_rotation=90.,  # rotates the x axis labels\n",
    "    leaf_font_size=8.,  # font size for the x axis labels\n",
    "    show_leaf_counts = True\n",
    ")\n",
    "plt.show()"
   ]
  },
  {
   "cell_type": "code",
   "execution_count": null,
   "metadata": {},
   "outputs": [],
   "source": []
  },
  {
   "cell_type": "code",
   "execution_count": null,
   "metadata": {},
   "outputs": [],
   "source": []
  },
  {
   "cell_type": "markdown",
   "metadata": {},
   "source": [
    "### 13. Recreate the dendrogram for last 12 merged clusters "
   ]
  },
  {
   "cell_type": "code",
   "execution_count": 31,
   "metadata": {},
   "outputs": [
    {
     "data": {
      "image/png": "[encoded data removed]",
      "text/plain": [
       "<Figure size 1440x576 with 1 Axes>"
      ]
     },
     "metadata": {
      "needs_background": "light"
     },
     "output_type": "display_data"
    }
   ],
   "source": [
    "plt.figure(figsize=(20, 8))\n",
    "plt.title('Hierarchical Clustering Dendrogram')\n",
    "plt.xlabel('Sample index')\n",
    "plt.ylabel('Distance')\n",
    "dendrogram(\n",
    "    Z,\n",
    "    leaf_rotation=90.,  # rotates the x axis labels\n",
    "    leaf_font_size=8.,  # font size for the x axis labels\n",
    "    show_leaf_counts = True,\n",
    "    truncate_mode='lastp',\n",
    "    p=12\n",
    ")\n",
    "plt.show()"
   ]
  },
  {
   "cell_type": "markdown",
   "metadata": {},
   "source": [
    "Hint: Use truncate_mode='lastp' attribute in dendrogram function to arrive at dendrogram "
   ]
  },
  {
   "cell_type": "code",
   "execution_count": null,
   "metadata": {},
   "outputs": [],
   "source": []
  },
  {
   "cell_type": "code",
   "execution_count": null,
   "metadata": {},
   "outputs": [],
   "source": []
  },
  {
   "cell_type": "markdown",
   "metadata": {},
   "source": [
    "### 14. From the truncated dendrogram, find out the optimal distance between clusters which u want to use an input for clustering data"
   ]
  },
  {
   "cell_type": "code",
   "execution_count": 32,
   "metadata": {},
   "outputs": [],
   "source": [
    "# If we use optimal distance as 50, we should get 3 clean clusters. Two from the right side and one on the left side.\n",
    "max_d = 50"
   ]
  },
  {
   "cell_type": "markdown",
   "metadata": {},
   "source": [
    "### 15. Using this distance measure and fcluster function to cluster the data into 3 different groups"
   ]
  },
  {
   "cell_type": "code",
   "execution_count": 33,
   "metadata": {},
   "outputs": [
    {
     "data": {
      "text/plain": [
       "array([1, 1, 1, 1, 1, 1, 1, 1, 1, 1, 1, 1, 1, 1, 1, 1, 1, 1, 1, 1, 1, 1,\n",
       "       1, 1, 1, 1, 1, 1, 1, 1, 1, 1, 1, 1, 1, 1, 1, 1, 1, 1, 1, 1, 1, 1,\n",
       "       1, 1, 1, 1, 1, 1, 1, 1, 1, 1, 1, 1, 1, 1, 1, 1, 1, 1, 1, 1, 1, 1,\n",
       "       1, 1, 1, 1, 1, 1, 1, 1, 1, 1, 1, 1, 1, 1, 1, 1, 1, 1, 1, 1, 1, 1,\n",
       "       1, 1, 1, 1, 1, 1, 1, 1, 1, 1, 1, 1, 2, 2, 2, 2, 2, 2, 2, 2, 2, 2,\n",
       "       2, 2, 2, 2, 2, 2, 2, 3, 2, 2, 2, 2, 2, 2, 2, 2, 2, 2, 2, 2, 2, 2,\n",
       "       2, 2, 2, 2, 2, 2, 2, 2, 2, 2, 2, 2, 2, 2, 2, 2, 2, 2, 3, 3, 3, 3,\n",
       "       3, 3, 3, 3, 3, 3, 3, 3, 3, 3, 3, 3, 3, 3, 3, 3, 3, 3, 3, 3, 3, 3,\n",
       "       3, 3, 3, 3, 3, 3, 3, 3, 3, 3, 3, 3, 3, 3, 3, 3, 3, 3, 3, 3, 3, 3,\n",
       "       3, 3, 3, 3, 3, 3, 3, 3, 3, 3, 3, 3, 3, 3, 3, 3, 3, 3, 3, 3, 3, 3,\n",
       "       3, 3, 3, 3, 3, 3, 3, 3, 3, 3, 3, 3, 3, 3, 3, 3, 3, 3, 3, 3, 3, 3,\n",
       "       3, 3, 3, 3, 3, 3, 3, 3], dtype=int32)"
      ]
     },
     "execution_count": 33,
     "metadata": {},
     "output_type": "execute_result"
    }
   ],
   "source": [
    "clusters = fcluster(Z, max_d, criterion='distance')\n",
    "clusters"
   ]
  },
  {
   "cell_type": "markdown",
   "metadata": {},
   "source": [
    "### Use matplotlib to visually observe the clusters in 2D space "
   ]
  },
  {
   "cell_type": "code",
   "execution_count": 34,
   "metadata": {},
   "outputs": [
    {
     "data": {
      "image/png": "[encoded data removed]",
      "text/plain": [
       "<Figure size 720x504 with 1 Axes>"
      ]
     },
     "metadata": {
      "needs_background": "light"
     },
     "output_type": "display_data"
    }
   ],
   "source": [
    "plt.figure(figsize=(10, 7))\n",
    "plt.title(\"Clustered using Agglomerative Hierarchical Clustering\")\n",
    "plt.xlabel(\"Dimension-1\")\n",
    "plt.ylabel(\"Dimension-2\")\n",
    "plt.scatter(X[:,0], X[:,1], c=clusters, cmap='rainbow')  # plot points with cluster dependent colors\n",
    "plt.show()"
   ]
  }
 ],
 "metadata": {
  "kernelspec": {
   "display_name": "Python 3",
   "language": "python",
   "name": "python3"
  },
  "language_info": {
   "codemirror_mode": {
    "name": "ipython",
    "version": 3
   },
   "file_extension": ".py",
   "mimetype": "text/x-python",
   "name": "python",
   "nbconvert_exporter": "python",
   "pygments_lexer": "ipython3",
   "version": "3.7.3"
  }
 },
 "nbformat": 4,
 "nbformat_minor": 2
}
