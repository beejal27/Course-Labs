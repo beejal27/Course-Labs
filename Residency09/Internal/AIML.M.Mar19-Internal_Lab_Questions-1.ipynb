{
 "cells": [
  {
   "cell_type": "markdown",
   "metadata": {
    "colab_type": "text",
    "id": "I-P5m4iA_xe7"
   },
   "source": [
    "# Bounding box detection - Racoon data\n",
    "\n",
    "\n",
    "## Data files\n",
    "- images_racoon.rar: contain images of racoons\n",
    "- train_labels.cv: contains coordinates for bounding box for every image"
   ]
  },
  {
   "cell_type": "markdown",
   "metadata": {
    "colab_type": "text",
    "id": "d8M5gzwKWGiU"
   },
   "source": [
    "### Import the necessary libraries"
   ]
  },
  {
   "cell_type": "code",
   "execution_count": 1,
   "metadata": {
    "colab": {},
    "colab_type": "code",
    "id": "VOMKpZJcWGiV"
   },
   "outputs": [
    {
     "name": "stderr",
     "output_type": "stream",
     "text": [
      "Using TensorFlow backend.\n",
      "C:\\Users\\Beejal\\Anaconda3\\lib\\site-packages\\tensorflow\\python\\framework\\dtypes.py:516: FutureWarning: Passing (type, 1) or '1type' as a synonym of type is deprecated; in a future version of numpy, it will be understood as (type, (1,)) / '(1,)type'.\n",
      "  _np_qint8 = np.dtype([(\"qint8\", np.int8, 1)])\n",
      "C:\\Users\\Beejal\\Anaconda3\\lib\\site-packages\\tensorflow\\python\\framework\\dtypes.py:517: FutureWarning: Passing (type, 1) or '1type' as a synonym of type is deprecated; in a future version of numpy, it will be understood as (type, (1,)) / '(1,)type'.\n",
      "  _np_quint8 = np.dtype([(\"quint8\", np.uint8, 1)])\n",
      "C:\\Users\\Beejal\\Anaconda3\\lib\\site-packages\\tensorflow\\python\\framework\\dtypes.py:518: FutureWarning: Passing (type, 1) or '1type' as a synonym of type is deprecated; in a future version of numpy, it will be understood as (type, (1,)) / '(1,)type'.\n",
      "  _np_qint16 = np.dtype([(\"qint16\", np.int16, 1)])\n",
      "C:\\Users\\Beejal\\Anaconda3\\lib\\site-packages\\tensorflow\\python\\framework\\dtypes.py:519: FutureWarning: Passing (type, 1) or '1type' as a synonym of type is deprecated; in a future version of numpy, it will be understood as (type, (1,)) / '(1,)type'.\n",
      "  _np_quint16 = np.dtype([(\"quint16\", np.uint16, 1)])\n",
      "C:\\Users\\Beejal\\Anaconda3\\lib\\site-packages\\tensorflow\\python\\framework\\dtypes.py:520: FutureWarning: Passing (type, 1) or '1type' as a synonym of type is deprecated; in a future version of numpy, it will be understood as (type, (1,)) / '(1,)type'.\n",
      "  _np_qint32 = np.dtype([(\"qint32\", np.int32, 1)])\n",
      "C:\\Users\\Beejal\\Anaconda3\\lib\\site-packages\\tensorflow\\python\\framework\\dtypes.py:525: FutureWarning: Passing (type, 1) or '1type' as a synonym of type is deprecated; in a future version of numpy, it will be understood as (type, (1,)) / '(1,)type'.\n",
      "  np_resource = np.dtype([(\"resource\", np.ubyte, 1)])\n",
      "C:\\Users\\Beejal\\Anaconda3\\lib\\site-packages\\tensorboard\\compat\\tensorflow_stub\\dtypes.py:541: FutureWarning: Passing (type, 1) or '1type' as a synonym of type is deprecated; in a future version of numpy, it will be understood as (type, (1,)) / '(1,)type'.\n",
      "  _np_qint8 = np.dtype([(\"qint8\", np.int8, 1)])\n",
      "C:\\Users\\Beejal\\Anaconda3\\lib\\site-packages\\tensorboard\\compat\\tensorflow_stub\\dtypes.py:542: FutureWarning: Passing (type, 1) or '1type' as a synonym of type is deprecated; in a future version of numpy, it will be understood as (type, (1,)) / '(1,)type'.\n",
      "  _np_quint8 = np.dtype([(\"quint8\", np.uint8, 1)])\n",
      "C:\\Users\\Beejal\\Anaconda3\\lib\\site-packages\\tensorboard\\compat\\tensorflow_stub\\dtypes.py:543: FutureWarning: Passing (type, 1) or '1type' as a synonym of type is deprecated; in a future version of numpy, it will be understood as (type, (1,)) / '(1,)type'.\n",
      "  _np_qint16 = np.dtype([(\"qint16\", np.int16, 1)])\n",
      "C:\\Users\\Beejal\\Anaconda3\\lib\\site-packages\\tensorboard\\compat\\tensorflow_stub\\dtypes.py:544: FutureWarning: Passing (type, 1) or '1type' as a synonym of type is deprecated; in a future version of numpy, it will be understood as (type, (1,)) / '(1,)type'.\n",
      "  _np_quint16 = np.dtype([(\"quint16\", np.uint16, 1)])\n",
      "C:\\Users\\Beejal\\Anaconda3\\lib\\site-packages\\tensorboard\\compat\\tensorflow_stub\\dtypes.py:545: FutureWarning: Passing (type, 1) or '1type' as a synonym of type is deprecated; in a future version of numpy, it will be understood as (type, (1,)) / '(1,)type'.\n",
      "  _np_qint32 = np.dtype([(\"qint32\", np.int32, 1)])\n",
      "C:\\Users\\Beejal\\Anaconda3\\lib\\site-packages\\tensorboard\\compat\\tensorflow_stub\\dtypes.py:550: FutureWarning: Passing (type, 1) or '1type' as a synonym of type is deprecated; in a future version of numpy, it will be understood as (type, (1,)) / '(1,)type'.\n",
      "  np_resource = np.dtype([(\"resource\", np.ubyte, 1)])\n"
     ]
    }
   ],
   "source": [
    "import os\n",
    "\n",
    "import numpy as np\n",
    "\n",
    "import matplotlib.pyplot as plt\n",
    "import matplotlib.patches as patches\n",
    "\n",
    "from keras import Model\n",
    "from keras.applications.mobilenet import MobileNet\n",
    "from keras.applications.mobilenet import preprocess_input\n",
    "from keras.layers import Conv2D\n",
    "from keras.layers import Reshape\n",
    "from keras.callbacks import ModelCheckpoint\n",
    "from keras.callbacks import EarlyStopping\n",
    "from keras.callbacks import ReduceLROnPlateau\n",
    "from keras.backend import epsilon\n",
    "\n",
    "import tensorflow as tf\n",
    "\n",
    "from PIL import Image"
   ]
  },
  {
   "cell_type": "markdown",
   "metadata": {
    "colab_type": "text",
    "id": "Z_INIZOi_tUW"
   },
   "source": [
    "### Change directory"
   ]
  },
  {
   "cell_type": "code",
   "execution_count": 2,
   "metadata": {},
   "outputs": [
    {
     "data": {
      "text/plain": [
       "'D:\\\\Beejal\\\\Education\\\\Great Lakes\\\\Residency-09\\\\Course-Lab\\\\Internal'"
      ]
     },
     "execution_count": 2,
     "metadata": {},
     "output_type": "execute_result"
    }
   ],
   "source": [
    "os.getcwd()\n",
    "# By defalut the directory is pointing to Internal, so no need to change it (at least on my machine)"
   ]
  },
  {
   "cell_type": "markdown",
   "metadata": {
    "colab_type": "text",
    "id": "lwxBtvYRWGii"
   },
   "source": [
    "### Load the training data from train.csv file"
   ]
  },
  {
   "cell_type": "code",
   "execution_count": 3,
   "metadata": {},
   "outputs": [],
   "source": [
    "TRAIN_CSV = f'{os.getcwd()}{os.sep}train_labels.csv'\n",
    "IMAGE_SIZE = 128   # We are using MobileNet which accepts input image size as 128*128"
   ]
  },
  {
   "cell_type": "code",
   "execution_count": 4,
   "metadata": {
    "colab": {},
    "colab_type": "code",
    "id": "wiTjjKtpWGij"
   },
   "outputs": [
    {
     "name": "stdout",
     "output_type": "stream",
     "text": [
      "Already Unzipped file exists. So skipping Unzipping.\n"
     ]
    }
   ],
   "source": [
    "# Let's construct the image zip file path\n",
    "\n",
    "image_file_name = 'images_racoon'\n",
    "image_file_name_ext = '.rar'\n",
    "images_zip_path = f'{os.getcwd()}{os.sep}{image_file_name}{image_file_name_ext}'\n",
    "\n",
    "if (os.path.exists(f'{os.getcwd()}{os.sep}images') == False):\n",
    "    print(\"Unzipping...\")\n",
    "    import patoolib\n",
    "    patoolib.extract_archive(images_zip_path, outdir=os.getcwd())\n",
    "#     from zipfile import ZipFile\n",
    "#     with ZipFile(images_zip_path, 'r') as z:\n",
    "#         z.extractall()    \n",
    "    print(\"Complete\")\n",
    "else:\n",
    "    print(\"Already Unzipped file exists. So skipping Unzipping.\")\n"
   ]
  },
  {
   "cell_type": "markdown",
   "metadata": {
    "colab_type": "text",
    "id": "-F3CkYxUWGin"
   },
   "source": [
    "### Print the shape of the train dataset"
   ]
  },
  {
   "cell_type": "code",
   "execution_count": 5,
   "metadata": {
    "colab": {},
    "colab_type": "code",
    "id": "uRz_MtnvWGip"
   },
   "outputs": [
    {
     "name": "stdout",
     "output_type": "stream",
     "text": [
      "Loaded image files from file-system to memory\n"
     ]
    }
   ],
   "source": [
    "import csv\n",
    "with open(TRAIN_CSV, 'r') as csvfile:\n",
    "    paths = []\n",
    "    coords = np.zeros((sum(1 for line in csvfile), 4))\n",
    "    reader = csv.reader(csvfile, delimiter=',')\n",
    "    csvfile.seek(0)\n",
    "    for row_index, row in enumerate(reader):\n",
    "         \n",
    "        # Following for loop just casts the numeric data (which is available in index 1 to 6) as int\n",
    "        for i, r in enumerate(row[1:]): # Parse row with seven entities\n",
    "            # The column on index 3 is class, so need not cast it to int\n",
    "            if i != 2 :\n",
    "                row[i+1] = int(r)\n",
    "              \n",
    "        path, image_height, image_width, _, x0, y0, x1, y1 = row  \n",
    "        path = f'{os.getcwd()}{os.sep}images{os.sep}{path}'\n",
    "        coords[row_index, 0] = x0 * IMAGE_SIZE / image_width # Normalize bounding box by image size\n",
    "        coords[row_index, 1] = y0 * IMAGE_SIZE / image_height # Normalize bounding box by image size\n",
    "        coords[row_index, 2] = (x1 - x0) * IMAGE_SIZE / image_width # Normalize bounding box by image size\n",
    "        coords[row_index, 3] = (y1 - y0) * IMAGE_SIZE / image_height\n",
    "        paths.append(path)\n",
    "\n",
    "batch_images = np.zeros((len(paths), IMAGE_SIZE, IMAGE_SIZE, 3), dtype=np.float32)\n",
    "for i, f in enumerate(paths):\n",
    "    img = Image.open(f) # Read image\n",
    "    img = img.resize((IMAGE_SIZE, IMAGE_SIZE)) # Resize image\n",
    "    img = img.convert('RGB')\n",
    "    batch_images[i] = preprocess_input(np.array(img, dtype=np.float32))\n",
    "\n",
    "print(\"Loaded image files from file-system to memory\")"
   ]
  },
  {
   "cell_type": "code",
   "execution_count": 6,
   "metadata": {},
   "outputs": [
    {
     "data": {
      "text/plain": [
       "(173, 128, 128, 3)"
      ]
     },
     "execution_count": 6,
     "metadata": {},
     "output_type": "execute_result"
    }
   ],
   "source": [
    "# Shape of train dataset\n",
    "batch_images.shape\n",
    "\n",
    "# So we got 173 images in train dataset. Each with size (actually resized) 128*128*3"
   ]
  },
  {
   "cell_type": "markdown",
   "metadata": {
    "colab_type": "text",
    "id": "axf5m10eWGis"
   },
   "source": [
    "### Declare a variable IMAGE_SIZE = 128 as we will be using MobileNet which will be taking Input shape as 128 * 128 "
   ]
  },
  {
   "cell_type": "code",
   "execution_count": 7,
   "metadata": {
    "colab": {},
    "colab_type": "code",
    "id": "7ayEk2c9WGit"
   },
   "outputs": [],
   "source": [
    "# DONE ABOVE"
   ]
  },
  {
   "cell_type": "markdown",
   "metadata": {
    "colab_type": "text",
    "id": "wbrrYb5IWGix"
   },
   "source": [
    "### With the help of csv.reader write a for loop which can load the train.csv file and store the path, width, height, x0,y0,x1,y1 in induvidual variables. <br>\n",
    "1. Create a list variable known as 'path' which has all the path for all the training images\n",
    "2. Create an array 'coords' which has the resized coordinates of the bounding box for the training images\n",
    "\n",
    "<u>Note:</u> All the training images should be downsampled to 128 * 128 as it is the input shape of MobileNet (which we will be using for Object detection). Hence the corresponding coordinates of the bounding boxes should be changed to match the image dimension of 128 * 128 "
   ]
  },
  {
   "cell_type": "code",
   "execution_count": 8,
   "metadata": {
    "colab": {},
    "colab_type": "code",
    "id": "twSTiPpRWGiy"
   },
   "outputs": [
    {
     "data": {
      "text/plain": [
       "(173, 173)"
      ]
     },
     "execution_count": 8,
     "metadata": {},
     "output_type": "execute_result"
    }
   ],
   "source": [
    "# Done above\n",
    "len(paths), len(coords)"
   ]
  },
  {
   "cell_type": "markdown",
   "metadata": {
    "colab_type": "text",
    "id": "Z9iZWEpKWGi2"
   },
   "source": [
    "### Write a for loop which can load all the training images into a variable 'batch_images' using the paths from the 'paths' variable\n",
    "<u>Note:</u> Convert the image to RGB scale as the MobileNet accepts 3 channels as inputs   "
   ]
  },
  {
   "cell_type": "code",
   "execution_count": 9,
   "metadata": {
    "colab": {},
    "colab_type": "code",
    "id": "h6e99qquWGi3"
   },
   "outputs": [],
   "source": [
    "# Done above"
   ]
  },
  {
   "cell_type": "markdown",
   "metadata": {
    "colab_type": "text",
    "id": "C9KU6pUTWGi9"
   },
   "source": [
    "### Import MobileNet and load MobileNet into a variable named 'model' which takes input shape of 128 * 128 * 3. Freeze all the layers. Add convolution and reshape layers at the end to ensure the output is 4 coordinates"
   ]
  },
  {
   "cell_type": "code",
   "execution_count": 10,
   "metadata": {},
   "outputs": [],
   "source": [
    "# controls the width of the network\n",
    "# If alpha < 1.0, proportionally decreases the number of filters in each layer.\n",
    "# If alpha > 1.0, proportionally increases the number of filters in each layer.\n",
    "# If alpha = 1, default number of filters from the paper are used at each layer.\n",
    "ALPHA = 1.0"
   ]
  },
  {
   "cell_type": "code",
   "execution_count": 11,
   "metadata": {
    "colab": {},
    "colab_type": "code",
    "id": "nosEtf1lWGi-"
   },
   "outputs": [
    {
     "data": {
      "text/plain": [
       "<tf.Tensor 'conv_pw_13_relu/Relu6:0' shape=(?, 4, 4, 1024) dtype=float32>"
      ]
     },
     "execution_count": 11,
     "metadata": {},
     "output_type": "execute_result"
    }
   ],
   "source": [
    "model = MobileNet(input_shape=(IMAGE_SIZE, IMAGE_SIZE, 3), include_top=False, alpha=ALPHA) # Load pre-trained mobilenet\n",
    "# Do not include classification (top) layer\n",
    "\n",
    "# We are using pre-trained MobileNet Architecture & Learned weights. In order to leverage what has already been learned\n",
    "# by this model (Transfer Learning), let us make all the layers of this model Non-Trainable.\n",
    "for layer in model.layers:\n",
    "    layer.trainable = False\n",
    "\n",
    "model.output"
   ]
  },
  {
   "cell_type": "code",
   "execution_count": 12,
   "metadata": {},
   "outputs": [],
   "source": [
    "# Let's now plug our layers to the TENSOR which is output from MobileNet \n",
    "\n",
    "# Add new top layer which is a conv layer of the same size as the previous layer so that only 4 coords of BBox can be output\n",
    "x = model.output\n",
    "x = Conv2D(4, kernel_size=4, name=\"coords\")(x)\n",
    "# In the line above kernel size should be 3 for img size 96, 4 for img size 128, 5 for img size 160 etc.\n",
    "x = Reshape((4,))(x) # These are the 4 predicted coordinates of one BBox\n",
    "\n",
    "model = Model(inputs=model.input, outputs=x)"
   ]
  },
  {
   "cell_type": "markdown",
   "metadata": {
    "colab_type": "text",
    "id": "nsQSHWgpWGjC"
   },
   "source": [
    "### Define a custom loss function IoU which calculates Intersection Over Union"
   ]
  },
  {
   "cell_type": "code",
   "execution_count": 13,
   "metadata": {
    "colab": {},
    "colab_type": "code",
    "id": "7Ig_Gsn-WGjD"
   },
   "outputs": [],
   "source": [
    "def loss(gt, pred):\n",
    "    intersections = 0\n",
    "    unions = 0\n",
    "    diff_width = np.minimum(gt[:,0] + gt[:,2], pred[:,0] + pred[:,2]) - np.maximum(gt[:,0], pred[:,0])\n",
    "    diff_height = np.minimum(gt[:,1] + gt[:,3], pred[:,1] + pred[:,3]) - np.maximum(gt[:,1], pred[:,1])\n",
    "    intersection = diff_width * diff_height\n",
    "    \n",
    "    # Compute union\n",
    "    area_gt = gt[:,2] * gt[:,3]\n",
    "    area_pred = pred[:,2] * pred[:,3]\n",
    "    union = area_gt + area_pred - intersection\n",
    "\n",
    "    # Compute intersection and union over multiple boxes\n",
    "    for j, _ in enumerate(union):\n",
    "        if union[j] > 0 and intersection[j] > 0 and union[j] >= intersection[j]:\n",
    "            intersections += intersection[j]\n",
    "            unions += union[j]\n",
    "\n",
    "    # Compute IOU. Use epsilon to prevent division by zero\n",
    "    iou = np.round(intersections / (unions + epsilon()), 4)\n",
    "    iou = iou.astype(np.float32)\n",
    "    return iou\n",
    "\n",
    "def IoU(y_true, y_pred):\n",
    "    iou = tf.py_func(loss, [y_true, y_pred], tf.float32)\n",
    "    return iou"
   ]
  },
  {
   "cell_type": "markdown",
   "metadata": {
    "colab_type": "text",
    "id": "2Zs7VcSVWGjF"
   },
   "source": [
    "### Write model.compile function & model.fit function with: <br>\n",
    "1. Optimizer = Adam, Loss = 'mse' and metrics = IoU\n",
    "2. Epochs = 30, batch_size = 32, verbose = 1"
   ]
  },
  {
   "cell_type": "code",
   "execution_count": 14,
   "metadata": {},
   "outputs": [],
   "source": [
    "EPOCHS = 200\n",
    "BATCH_SIZE = 16\n",
    "VERBOSE = 1\n",
    "PATIENCE=5"
   ]
  },
  {
   "cell_type": "code",
   "execution_count": 15,
   "metadata": {
    "colab": {},
    "colab_type": "code",
    "id": "f35dLEJlWGjG"
   },
   "outputs": [
    {
     "name": "stdout",
     "output_type": "stream",
     "text": [
      "WARNING:tensorflow:From <ipython-input-13-c2d95e6d8d4a>:25: py_func (from tensorflow.python.ops.script_ops) is deprecated and will be removed in a future version.\n",
      "Instructions for updating:\n",
      "tf.py_func is deprecated in TF V2. Instead, there are two\n",
      "    options available in V2.\n",
      "    - tf.py_function takes a python function which manipulates tf eager\n",
      "    tensors instead of numpy arrays. It's easy to convert a tf eager tensor to\n",
      "    an ndarray (just call tensor.numpy()) but having access to eager tensors\n",
      "    means `tf.py_function`s can use accelerators such as GPUs as well as\n",
      "    being differentiable using a gradient tape.\n",
      "    - tf.numpy_function maintains the semantics of the deprecated tf.py_func\n",
      "    (it is not differentiable, and manipulates numpy arrays). It drops the\n",
      "    stateful argument making all functions stateful.\n",
      "    \n",
      "WARNING:tensorflow:From C:\\Users\\Beejal\\Anaconda3\\lib\\site-packages\\keras\\backend\\tensorflow_backend.py:422: The name tf.global_variables is deprecated. Please use tf.compat.v1.global_variables instead.\n",
      "\n",
      "Epoch 1/200\n",
      "173/173 [==============================] - 2s 11ms/step - loss: 2268.1353 - IoU: 0.2205\n",
      "Epoch 2/200\n",
      "173/173 [==============================] - 0s 1ms/step - loss: 915.5429 - IoU: 0.4194\n",
      "Epoch 3/200\n",
      "173/173 [==============================] - 0s 1ms/step - loss: 635.1991 - IoU: 0.4907\n",
      "Epoch 4/200\n",
      "173/173 [==============================] - 0s 1ms/step - loss: 489.5935 - IoU: 0.5264\n",
      "Epoch 5/200\n",
      "173/173 [==============================] - 0s 1ms/step - loss: 380.6549 - IoU: 0.5806\n",
      "Epoch 6/200\n",
      "173/173 [==============================] - 0s 1ms/step - loss: 305.4877 - IoU: 0.6151\n",
      "Epoch 7/200\n",
      "173/173 [==============================] - 0s 1ms/step - loss: 267.7225 - IoU: 0.6342\n",
      "Epoch 8/200\n",
      "173/173 [==============================] - 0s 1ms/step - loss: 221.3315 - IoU: 0.6596\n",
      "Epoch 9/200\n",
      "173/173 [==============================] - 0s 1ms/step - loss: 188.0930 - IoU: 0.6910\n",
      "Epoch 10/200\n",
      "173/173 [==============================] - 0s 1ms/step - loss: 165.4795 - IoU: 0.7075\n",
      "Epoch 11/200\n",
      "173/173 [==============================] - 0s 1ms/step - loss: 155.6435 - IoU: 0.7019\n",
      "Epoch 12/200\n",
      "173/173 [==============================] - 0s 1ms/step - loss: 144.0213 - IoU: 0.7245\n",
      "Epoch 13/200\n",
      "173/173 [==============================] - 0s 1ms/step - loss: 130.5711 - IoU: 0.7423\n",
      "Epoch 14/200\n",
      "173/173 [==============================] - 0s 1ms/step - loss: 118.2450 - IoU: 0.7419\n",
      "Epoch 15/200\n",
      "173/173 [==============================] - 0s 1ms/step - loss: 118.0186 - IoU: 0.7449\n",
      "Epoch 16/200\n",
      "173/173 [==============================] - 0s 1ms/step - loss: 121.7880 - IoU: 0.7475\n",
      "Epoch 17/200\n",
      "173/173 [==============================] - 0s 1ms/step - loss: 112.0260 - IoU: 0.7603\n",
      "Epoch 18/200\n",
      "173/173 [==============================] - 0s 1ms/step - loss: 109.0414 - IoU: 0.7619\n",
      "Epoch 19/200\n",
      "173/173 [==============================] - 0s 1ms/step - loss: 99.3372 - IoU: 0.7651\n",
      "Epoch 20/200\n",
      "173/173 [==============================] - 0s 1ms/step - loss: 100.7549 - IoU: 0.7593\n",
      "Epoch 21/200\n",
      "173/173 [==============================] - 0s 1ms/step - loss: 96.2816 - IoU: 0.7812\n",
      "Epoch 22/200\n",
      "173/173 [==============================] - 0s 1ms/step - loss: 106.7952 - IoU: 0.7772\n",
      "Epoch 23/200\n",
      "173/173 [==============================] - 0s 1ms/step - loss: 94.6016 - IoU: 0.7954\n",
      "Epoch 24/200\n",
      "173/173 [==============================] - 0s 1ms/step - loss: 99.3872 - IoU: 0.7778\n",
      "Epoch 25/200\n",
      "173/173 [==============================] - 0s 1ms/step - loss: 88.3917 - IoU: 0.7889\n",
      "Epoch 26/200\n",
      "173/173 [==============================] - 0s 1ms/step - loss: 92.2952 - IoU: 0.8032\n",
      "Epoch 27/200\n",
      "173/173 [==============================] - 0s 1ms/step - loss: 86.8840 - IoU: 0.8126\n",
      "Epoch 28/200\n",
      "173/173 [==============================] - 0s 1ms/step - loss: 91.2861 - IoU: 0.8070\n",
      "Epoch 29/200\n",
      "173/173 [==============================] - 0s 1ms/step - loss: 91.3681 - IoU: 0.8006\n",
      "Epoch 30/200\n",
      "173/173 [==============================] - 0s 1ms/step - loss: 94.8826 - IoU: 0.7805\n",
      "Epoch 31/200\n",
      "173/173 [==============================] - 0s 1ms/step - loss: 85.3602 - IoU: 0.7857\n",
      "Epoch 32/200\n",
      "173/173 [==============================] - 0s 1ms/step - loss: 90.1255 - IoU: 0.7879\n",
      "\n",
      "Epoch 00032: ReduceLROnPlateau reducing learning rate to 0.00020000000949949026.\n",
      "Epoch 33/200\n",
      "173/173 [==============================] - 0s 1ms/step - loss: 81.3338 - IoU: 0.8022\n",
      "Epoch 34/200\n",
      "173/173 [==============================] - 0s 1ms/step - loss: 80.4521 - IoU: 0.8069\n",
      "Epoch 35/200\n",
      "173/173 [==============================] - 0s 1ms/step - loss: 83.7092 - IoU: 0.8092\n",
      "Epoch 36/200\n",
      "173/173 [==============================] - 0s 1ms/step - loss: 86.5525 - IoU: 0.7891\n",
      "Epoch 37/200\n",
      "173/173 [==============================] - 0s 1ms/step - loss: 85.3428 - IoU: 0.8106\n",
      "\n",
      "Epoch 00037: ReduceLROnPlateau reducing learning rate to 4.0000001899898055e-05.\n",
      "Epoch 38/200\n",
      "173/173 [==============================] - 0s 1ms/step - loss: 77.8734 - IoU: 0.8124\n",
      "Epoch 39/200\n",
      "173/173 [==============================] - 0s 1ms/step - loss: 85.9820 - IoU: 0.8034\n",
      "Epoch 40/200\n",
      "173/173 [==============================] - 0s 1ms/step - loss: 75.7372 - IoU: 0.8199\n",
      "Epoch 41/200\n",
      "173/173 [==============================] - 0s 1ms/step - loss: 83.1122 - IoU: 0.8175\n",
      "Epoch 42/200\n",
      "173/173 [==============================] - 0s 1ms/step - loss: 81.4224 - IoU: 0.8037\n",
      "Epoch 43/200\n",
      "173/173 [==============================] - 0s 1ms/step - loss: 84.0640 - IoU: 0.8107\n",
      "Epoch 44/200\n",
      "173/173 [==============================] - 0s 1ms/step - loss: 77.1364 - IoU: 0.8211\n",
      "Epoch 45/200\n",
      "173/173 [==============================] - 0s 1ms/step - loss: 86.4322 - IoU: 0.8101\n",
      "Epoch 46/200\n",
      "173/173 [==============================] - 0s 1ms/step - loss: 90.0372 - IoU: 0.8074\n",
      "Epoch 47/200\n",
      "173/173 [==============================] - 0s 1ms/step - loss: 80.0176 - IoU: 0.8167\n",
      "Epoch 48/200\n",
      "173/173 [==============================] - 0s 1ms/step - loss: 80.4357 - IoU: 0.8136\n",
      "Epoch 49/200\n",
      "173/173 [==============================] - 0s 1ms/step - loss: 84.8372 - IoU: 0.8136\n",
      "\n",
      "Epoch 00049: ReduceLROnPlateau reducing learning rate to 8.000000525498762e-06.\n",
      "Epoch 50/200\n",
      "173/173 [==============================] - 0s 1ms/step - loss: 70.5427 - IoU: 0.8263\n",
      "Epoch 51/200\n",
      "173/173 [==============================] - 0s 1ms/step - loss: 78.2216 - IoU: 0.8203\n",
      "Epoch 52/200\n",
      "173/173 [==============================] - 0s 1ms/step - loss: 81.7675 - IoU: 0.8128\n",
      "Epoch 53/200\n",
      "173/173 [==============================] - 0s 1ms/step - loss: 80.9508 - IoU: 0.8192\n",
      "Epoch 54/200\n",
      "173/173 [==============================] - 0s 1ms/step - loss: 81.5069 - IoU: 0.8183\n",
      "Epoch 55/200\n",
      "173/173 [==============================] - 0s 1ms/step - loss: 88.9536 - IoU: 0.7972\n",
      "\n",
      "Epoch 00055: ReduceLROnPlateau reducing learning rate to 1.6000001778593287e-06.\n",
      "Epoch 56/200\n",
      "173/173 [==============================] - 0s 1ms/step - loss: 81.3803 - IoU: 0.8186\n",
      "Epoch 57/200\n",
      "173/173 [==============================] - 0s 1ms/step - loss: 83.9610 - IoU: 0.8178\n",
      "Epoch 58/200\n",
      "173/173 [==============================] - 0s 1ms/step - loss: 81.2652 - IoU: 0.8099\n",
      "Epoch 59/200\n",
      "173/173 [==============================] - 0s 1ms/step - loss: 81.7403 - IoU: 0.8091\n",
      "Epoch 60/200\n",
      "173/173 [==============================] - 0s 1ms/step - loss: 87.9228 - IoU: 0.8124\n",
      "\n",
      "Epoch 00060: ReduceLROnPlateau reducing learning rate to 3.200000264769187e-07.\n",
      "Epoch 61/200\n",
      "173/173 [==============================] - 0s 1ms/step - loss: 85.3920 - IoU: 0.8198\n",
      "Epoch 62/200\n",
      "173/173 [==============================] - 0s 1ms/step - loss: 81.2415 - IoU: 0.8198\n",
      "Epoch 63/200\n",
      "173/173 [==============================] - 0s 1ms/step - loss: 73.3402 - IoU: 0.8176\n",
      "Epoch 64/200\n",
      "173/173 [==============================] - 0s 1ms/step - loss: 85.0970 - IoU: 0.8179\n",
      "Epoch 65/200\n",
      "173/173 [==============================] - 0s 1ms/step - loss: 82.7989 - IoU: 0.8184\n",
      "\n",
      "Epoch 00065: ReduceLROnPlateau reducing learning rate to 1e-07.\n",
      "Epoch 66/200\n",
      "173/173 [==============================] - 0s 1ms/step - loss: 85.2002 - IoU: 0.8147\n",
      "Epoch 67/200\n",
      "173/173 [==============================] - 0s 1ms/step - loss: 77.2653 - IoU: 0.8230\n",
      "Epoch 68/200\n",
      "173/173 [==============================] - 0s 1ms/step - loss: 74.8790 - IoU: 0.8244\n",
      "Epoch 69/200\n"
     ]
    },
    {
     "name": "stdout",
     "output_type": "stream",
     "text": [
      "173/173 [==============================] - 0s 1ms/step - loss: 81.2549 - IoU: 0.8131\n",
      "Epoch 70/200\n",
      "173/173 [==============================] - 0s 1ms/step - loss: 81.9900 - IoU: 0.8165\n",
      "\n",
      "Epoch 00070: ReduceLROnPlateau reducing learning rate to 1e-07.\n",
      "Epoch 71/200\n",
      "173/173 [==============================] - 0s 1ms/step - loss: 81.8903 - IoU: 0.8072\n",
      "Epoch 72/200\n",
      "173/173 [==============================] - 0s 1ms/step - loss: 80.7479 - IoU: 0.8025\n",
      "Epoch 73/200\n",
      "173/173 [==============================] - 0s 1ms/step - loss: 79.8252 - IoU: 0.8191\n",
      "Epoch 74/200\n",
      "173/173 [==============================] - 0s 1ms/step - loss: 81.4091 - IoU: 0.8187\n",
      "Epoch 75/200\n",
      "173/173 [==============================] - 0s 1ms/step - loss: 81.0381 - IoU: 0.8209\n",
      "\n",
      "Epoch 00075: ReduceLROnPlateau reducing learning rate to 1e-07.\n",
      "Epoch 76/200\n",
      "173/173 [==============================] - 0s 1ms/step - loss: 80.8566 - IoU: 0.8155\n",
      "Epoch 77/200\n",
      "173/173 [==============================] - 0s 1ms/step - loss: 79.3175 - IoU: 0.8078\n",
      "Epoch 78/200\n",
      "173/173 [==============================] - 0s 1ms/step - loss: 80.4821 - IoU: 0.8226\n",
      "Epoch 79/200\n",
      "173/173 [==============================] - 0s 1ms/step - loss: 83.8156 - IoU: 0.8159\n",
      "Epoch 80/200\n",
      "173/173 [==============================] - 0s 1ms/step - loss: 88.3069 - IoU: 0.8087\n",
      "\n",
      "Epoch 00080: ReduceLROnPlateau reducing learning rate to 1e-07.\n",
      "Epoch 81/200\n",
      "173/173 [==============================] - 0s 1ms/step - loss: 87.7457 - IoU: 0.8003\n",
      "Epoch 82/200\n",
      "173/173 [==============================] - 0s 1ms/step - loss: 81.6042 - IoU: 0.8257\n",
      "Epoch 83/200\n",
      "173/173 [==============================] - 0s 1ms/step - loss: 80.2502 - IoU: 0.8196\n",
      "Epoch 84/200\n",
      "173/173 [==============================] - 0s 1ms/step - loss: 77.4351 - IoU: 0.8211\n",
      "Epoch 85/200\n",
      "173/173 [==============================] - 0s 1ms/step - loss: 80.1729 - IoU: 0.8182\n",
      "\n",
      "Epoch 00085: ReduceLROnPlateau reducing learning rate to 1e-07.\n",
      "Epoch 86/200\n",
      "173/173 [==============================] - 0s 1ms/step - loss: 80.9090 - IoU: 0.8160\n",
      "Epoch 87/200\n",
      "173/173 [==============================] - 0s 1ms/step - loss: 77.5492 - IoU: 0.8138\n",
      "Epoch 88/200\n",
      "173/173 [==============================] - 0s 1ms/step - loss: 86.4745 - IoU: 0.8135\n",
      "Epoch 89/200\n",
      "173/173 [==============================] - 0s 1ms/step - loss: 78.3805 - IoU: 0.8149\n",
      "Epoch 90/200\n",
      "173/173 [==============================] - 0s 1ms/step - loss: 82.8093 - IoU: 0.8124\n",
      "\n",
      "Epoch 00090: ReduceLROnPlateau reducing learning rate to 1e-07.\n",
      "Epoch 91/200\n",
      "173/173 [==============================] - 0s 1ms/step - loss: 81.8903 - IoU: 0.8100\n",
      "Epoch 92/200\n",
      "173/173 [==============================] - 0s 1ms/step - loss: 88.3018 - IoU: 0.8058\n",
      "Epoch 93/200\n",
      "173/173 [==============================] - 0s 1ms/step - loss: 90.1601 - IoU: 0.8095\n",
      "Epoch 94/200\n",
      "173/173 [==============================] - 0s 1ms/step - loss: 83.7576 - IoU: 0.8132\n",
      "Epoch 95/200\n",
      "173/173 [==============================] - 0s 1ms/step - loss: 88.9781 - IoU: 0.8056\n",
      "\n",
      "Epoch 00095: ReduceLROnPlateau reducing learning rate to 1e-07.\n",
      "Epoch 96/200\n",
      "173/173 [==============================] - 0s 1ms/step - loss: 75.9705 - IoU: 0.8294\n",
      "Epoch 97/200\n",
      "173/173 [==============================] - 0s 1ms/step - loss: 81.6494 - IoU: 0.8097\n",
      "Epoch 98/200\n",
      "173/173 [==============================] - 0s 1ms/step - loss: 80.0802 - IoU: 0.8150\n",
      "Epoch 99/200\n",
      "173/173 [==============================] - 0s 1ms/step - loss: 75.3442 - IoU: 0.8262\n",
      "Epoch 100/200\n",
      "173/173 [==============================] - 0s 1ms/step - loss: 82.8090 - IoU: 0.8103\n",
      "Epoch 101/200\n",
      "173/173 [==============================] - 0s 1ms/step - loss: 74.3568 - IoU: 0.8239\n",
      "\n",
      "Epoch 00101: ReduceLROnPlateau reducing learning rate to 1e-07.\n",
      "Epoch 102/200\n",
      "173/173 [==============================] - 0s 1ms/step - loss: 81.3914 - IoU: 0.8128\n",
      "Epoch 103/200\n",
      "173/173 [==============================] - 0s 1ms/step - loss: 76.5006 - IoU: 0.8214\n",
      "Epoch 104/200\n",
      "173/173 [==============================] - 0s 1ms/step - loss: 76.0995 - IoU: 0.8212\n",
      "Epoch 105/200\n",
      "173/173 [==============================] - 0s 1ms/step - loss: 74.2774 - IoU: 0.8171\n",
      "Epoch 106/200\n",
      "173/173 [==============================] - 0s 1ms/step - loss: 77.4251 - IoU: 0.8159\n",
      "\n",
      "Epoch 00106: ReduceLROnPlateau reducing learning rate to 1e-07.\n",
      "Epoch 107/200\n",
      "173/173 [==============================] - 0s 1ms/step - loss: 83.5997 - IoU: 0.8104\n",
      "Epoch 108/200\n",
      "173/173 [==============================] - 0s 1ms/step - loss: 89.9793 - IoU: 0.8115\n",
      "Epoch 109/200\n",
      "173/173 [==============================] - 0s 1ms/step - loss: 75.1484 - IoU: 0.8152\n",
      "Epoch 110/200\n",
      "173/173 [==============================] - 0s 1ms/step - loss: 79.5000 - IoU: 0.8070\n",
      "Epoch 111/200\n",
      "173/173 [==============================] - 0s 1ms/step - loss: 75.8689 - IoU: 0.8134\n",
      "\n",
      "Epoch 00111: ReduceLROnPlateau reducing learning rate to 1e-07.\n",
      "Epoch 112/200\n",
      "173/173 [==============================] - 0s 1ms/step - loss: 84.7411 - IoU: 0.8195\n",
      "Epoch 113/200\n",
      "173/173 [==============================] - 0s 1ms/step - loss: 78.5514 - IoU: 0.8145\n",
      "Epoch 114/200\n",
      "173/173 [==============================] - 0s 1ms/step - loss: 75.7655 - IoU: 0.8274\n",
      "Epoch 115/200\n",
      "173/173 [==============================] - 0s 1ms/step - loss: 79.5737 - IoU: 0.8180\n",
      "Epoch 116/200\n",
      "173/173 [==============================] - 0s 1ms/step - loss: 74.8353 - IoU: 0.8216\n",
      "\n",
      "Epoch 00116: ReduceLROnPlateau reducing learning rate to 1e-07.\n",
      "Epoch 117/200\n",
      "173/173 [==============================] - 0s 1ms/step - loss: 83.0093 - IoU: 0.8099\n",
      "Epoch 118/200\n",
      "173/173 [==============================] - 0s 1ms/step - loss: 77.3558 - IoU: 0.8204\n",
      "Epoch 119/200\n",
      "173/173 [==============================] - 0s 1ms/step - loss: 79.1247 - IoU: 0.8168\n",
      "Epoch 120/200\n",
      "173/173 [==============================] - 0s 1ms/step - loss: 78.2905 - IoU: 0.8080\n",
      "Epoch 121/200\n",
      "173/173 [==============================] - 0s 1ms/step - loss: 84.1298 - IoU: 0.8130\n",
      "\n",
      "Epoch 00121: ReduceLROnPlateau reducing learning rate to 1e-07.\n",
      "Epoch 122/200\n",
      "173/173 [==============================] - 0s 1ms/step - loss: 82.8968 - IoU: 0.8042\n",
      "Epoch 123/200\n",
      "173/173 [==============================] - 0s 1ms/step - loss: 75.8280 - IoU: 0.8233\n",
      "Epoch 124/200\n",
      "173/173 [==============================] - 0s 1ms/step - loss: 75.6532 - IoU: 0.8266\n",
      "Epoch 125/200\n",
      "173/173 [==============================] - 0s 1ms/step - loss: 77.7107 - IoU: 0.8128\n",
      "Epoch 126/200\n",
      "173/173 [==============================] - 0s 1ms/step - loss: 81.7709 - IoU: 0.8237\n",
      "\n",
      "Epoch 00126: ReduceLROnPlateau reducing learning rate to 1e-07.\n",
      "Epoch 127/200\n",
      "173/173 [==============================] - 0s 1ms/step - loss: 82.3757 - IoU: 0.8095\n",
      "Epoch 128/200\n",
      "173/173 [==============================] - 0s 1ms/step - loss: 81.8281 - IoU: 0.8172\n",
      "Epoch 129/200\n",
      "173/173 [==============================] - 0s 1ms/step - loss: 78.4958 - IoU: 0.8187\n",
      "Epoch 130/200\n",
      "173/173 [==============================] - 0s 1ms/step - loss: 75.6561 - IoU: 0.8251\n",
      "Epoch 131/200\n",
      "173/173 [==============================] - 0s 1ms/step - loss: 81.2617 - IoU: 0.8157\n",
      "\n",
      "Epoch 00131: ReduceLROnPlateau reducing learning rate to 1e-07.\n",
      "Epoch 132/200\n",
      "173/173 [==============================] - 0s 1ms/step - loss: 78.2503 - IoU: 0.8262\n",
      "Epoch 133/200\n",
      "173/173 [==============================] - 0s 1ms/step - loss: 82.4609 - IoU: 0.8206\n",
      "Epoch 134/200\n",
      "173/173 [==============================] - 0s 1ms/step - loss: 81.8813 - IoU: 0.8121\n",
      "Epoch 135/200\n",
      "173/173 [==============================] - 0s 1ms/step - loss: 75.9796 - IoU: 0.8166\n",
      "Epoch 136/200\n",
      "173/173 [==============================] - 0s 1ms/step - loss: 75.7563 - IoU: 0.8208\n",
      "\n",
      "Epoch 00136: ReduceLROnPlateau reducing learning rate to 1e-07.\n",
      "Epoch 137/200\n",
      "173/173 [==============================] - 0s 1ms/step - loss: 78.5257 - IoU: 0.8252\n",
      "Epoch 138/200\n",
      "173/173 [==============================] - 0s 1ms/step - loss: 80.8541 - IoU: 0.8207\n",
      "Epoch 139/200\n",
      "173/173 [==============================] - 0s 1ms/step - loss: 92.2970 - IoU: 0.8001\n",
      "Epoch 140/200\n",
      "173/173 [==============================] - 0s 1ms/step - loss: 80.5923 - IoU: 0.8187\n",
      "Epoch 141/200\n",
      "173/173 [==============================] - 0s 1ms/step - loss: 83.9176 - IoU: 0.8141\n",
      "\n",
      "Epoch 00141: ReduceLROnPlateau reducing learning rate to 1e-07.\n",
      "Epoch 142/200\n"
     ]
    },
    {
     "name": "stdout",
     "output_type": "stream",
     "text": [
      "173/173 [==============================] - 0s 1ms/step - loss: 82.1430 - IoU: 0.8150\n",
      "Epoch 143/200\n",
      "173/173 [==============================] - 0s 1ms/step - loss: 71.4913 - IoU: 0.8268\n",
      "Epoch 144/200\n",
      "173/173 [==============================] - 0s 1ms/step - loss: 80.4338 - IoU: 0.8161\n",
      "Epoch 145/200\n",
      "173/173 [==============================] - 0s 1ms/step - loss: 81.8728 - IoU: 0.8176\n",
      "Epoch 146/200\n",
      "173/173 [==============================] - 0s 1ms/step - loss: 85.1817 - IoU: 0.8042\n",
      "\n",
      "Epoch 00146: ReduceLROnPlateau reducing learning rate to 1e-07.\n",
      "Epoch 147/200\n",
      "173/173 [==============================] - 0s 1ms/step - loss: 81.9796 - IoU: 0.8060\n",
      "Epoch 148/200\n",
      "173/173 [==============================] - 0s 1ms/step - loss: 77.1472 - IoU: 0.8157\n",
      "Epoch 149/200\n",
      "173/173 [==============================] - 0s 1ms/step - loss: 80.9484 - IoU: 0.8181\n",
      "Epoch 150/200\n",
      "173/173 [==============================] - 0s 1ms/step - loss: 80.4665 - IoU: 0.8177\n",
      "Epoch 151/200\n",
      "173/173 [==============================] - 0s 1ms/step - loss: 81.0349 - IoU: 0.8141\n",
      "\n",
      "Epoch 00151: ReduceLROnPlateau reducing learning rate to 1e-07.\n",
      "Epoch 152/200\n",
      "173/173 [==============================] - 0s 1ms/step - loss: 82.9211 - IoU: 0.8160\n",
      "Epoch 153/200\n",
      "173/173 [==============================] - 0s 1ms/step - loss: 78.5429 - IoU: 0.8184\n",
      "Epoch 154/200\n",
      "173/173 [==============================] - 0s 1ms/step - loss: 82.9576 - IoU: 0.8146\n",
      "Epoch 155/200\n",
      "173/173 [==============================] - 0s 1ms/step - loss: 80.6296 - IoU: 0.8149\n",
      "Epoch 156/200\n",
      "173/173 [==============================] - 0s 1ms/step - loss: 77.0236 - IoU: 0.8169\n",
      "\n",
      "Epoch 00156: ReduceLROnPlateau reducing learning rate to 1e-07.\n",
      "Epoch 157/200\n",
      "173/173 [==============================] - 0s 1ms/step - loss: 74.3618 - IoU: 0.8196\n",
      "Epoch 158/200\n",
      "173/173 [==============================] - 0s 1ms/step - loss: 81.8954 - IoU: 0.8161\n",
      "Epoch 159/200\n",
      "173/173 [==============================] - 0s 1ms/step - loss: 79.9826 - IoU: 0.8207\n",
      "Epoch 160/200\n",
      "173/173 [==============================] - 0s 1ms/step - loss: 81.4567 - IoU: 0.8140\n",
      "Epoch 161/200\n",
      "173/173 [==============================] - 0s 1ms/step - loss: 92.4208 - IoU: 0.7963\n",
      "\n",
      "Epoch 00161: ReduceLROnPlateau reducing learning rate to 1e-07.\n",
      "Epoch 162/200\n",
      "173/173 [==============================] - 0s 1ms/step - loss: 77.6282 - IoU: 0.8070\n",
      "Epoch 163/200\n",
      "173/173 [==============================] - 0s 1ms/step - loss: 78.4898 - IoU: 0.8181\n",
      "Epoch 164/200\n",
      "173/173 [==============================] - 0s 1ms/step - loss: 86.7179 - IoU: 0.8127\n",
      "Epoch 165/200\n",
      "173/173 [==============================] - 0s 1ms/step - loss: 74.2488 - IoU: 0.8269\n",
      "Epoch 166/200\n",
      "173/173 [==============================] - 0s 1ms/step - loss: 87.1006 - IoU: 0.8005\n",
      "\n",
      "Epoch 00166: ReduceLROnPlateau reducing learning rate to 1e-07.\n",
      "Epoch 167/200\n",
      "173/173 [==============================] - 0s 1ms/step - loss: 82.5564 - IoU: 0.8151\n",
      "Epoch 168/200\n",
      "173/173 [==============================] - 0s 1ms/step - loss: 80.8023 - IoU: 0.8098\n",
      "Epoch 169/200\n",
      "173/173 [==============================] - 0s 1ms/step - loss: 82.2554 - IoU: 0.8209\n",
      "Epoch 170/200\n",
      "173/173 [==============================] - 0s 1ms/step - loss: 82.6614 - IoU: 0.8125\n",
      "Epoch 171/200\n",
      "173/173 [==============================] - 0s 1ms/step - loss: 73.1280 - IoU: 0.8252\n",
      "\n",
      "Epoch 00171: ReduceLROnPlateau reducing learning rate to 1e-07.\n",
      "Epoch 172/200\n",
      "173/173 [==============================] - 0s 1ms/step - loss: 81.7624 - IoU: 0.8148\n",
      "Epoch 173/200\n",
      "173/173 [==============================] - 0s 1ms/step - loss: 79.6306 - IoU: 0.8216\n",
      "Epoch 174/200\n",
      "173/173 [==============================] - 0s 1ms/step - loss: 77.7923 - IoU: 0.8222\n",
      "Epoch 175/200\n",
      "173/173 [==============================] - 0s 1ms/step - loss: 80.7364 - IoU: 0.8079\n",
      "Epoch 176/200\n",
      "173/173 [==============================] - 0s 1ms/step - loss: 76.2761 - IoU: 0.8188\n",
      "\n",
      "Epoch 00176: ReduceLROnPlateau reducing learning rate to 1e-07.\n",
      "Epoch 177/200\n",
      "173/173 [==============================] - 0s 1ms/step - loss: 82.5496 - IoU: 0.8214\n",
      "Epoch 178/200\n",
      "173/173 [==============================] - 0s 1ms/step - loss: 83.3807 - IoU: 0.8173\n",
      "Epoch 179/200\n",
      "173/173 [==============================] - 0s 1ms/step - loss: 76.7392 - IoU: 0.8206\n",
      "Epoch 180/200\n",
      "173/173 [==============================] - 0s 1ms/step - loss: 76.4935 - IoU: 0.8134\n",
      "Epoch 181/200\n",
      "173/173 [==============================] - 0s 1ms/step - loss: 86.0093 - IoU: 0.8041\n",
      "\n",
      "Epoch 00181: ReduceLROnPlateau reducing learning rate to 1e-07.\n",
      "Epoch 182/200\n",
      "173/173 [==============================] - 0s 1ms/step - loss: 79.6601 - IoU: 0.8193\n",
      "Epoch 183/200\n",
      "173/173 [==============================] - 0s 1ms/step - loss: 88.5624 - IoU: 0.8054\n",
      "Epoch 184/200\n",
      "173/173 [==============================] - 0s 1ms/step - loss: 85.9585 - IoU: 0.8196\n",
      "Epoch 185/200\n",
      "173/173 [==============================] - 0s 1ms/step - loss: 79.6263 - IoU: 0.8125\n",
      "Epoch 186/200\n",
      "173/173 [==============================] - 0s 1ms/step - loss: 82.1153 - IoU: 0.8077\n",
      "\n",
      "Epoch 00186: ReduceLROnPlateau reducing learning rate to 1e-07.\n",
      "Epoch 187/200\n",
      "173/173 [==============================] - 0s 1ms/step - loss: 76.7464 - IoU: 0.8189\n",
      "Epoch 188/200\n",
      "173/173 [==============================] - 0s 1ms/step - loss: 78.7850 - IoU: 0.8220\n",
      "Epoch 189/200\n",
      "173/173 [==============================] - 0s 1ms/step - loss: 88.2781 - IoU: 0.8017\n",
      "Epoch 190/200\n",
      "173/173 [==============================] - 0s 1ms/step - loss: 78.9191 - IoU: 0.8161\n",
      "Epoch 191/200\n",
      "173/173 [==============================] - 0s 1ms/step - loss: 81.7333 - IoU: 0.8088\n",
      "\n",
      "Epoch 00191: ReduceLROnPlateau reducing learning rate to 1e-07.\n",
      "Epoch 192/200\n",
      "173/173 [==============================] - 0s 1ms/step - loss: 81.2633 - IoU: 0.8102\n",
      "Epoch 193/200\n",
      "173/173 [==============================] - 0s 1ms/step - loss: 87.7615 - IoU: 0.8098\n",
      "Epoch 194/200\n",
      "173/173 [==============================] - 0s 1ms/step - loss: 86.3005 - IoU: 0.8132\n",
      "Epoch 195/200\n",
      "173/173 [==============================] - 0s 1ms/step - loss: 83.4632 - IoU: 0.8258\n",
      "Epoch 196/200\n",
      "173/173 [==============================] - 0s 1ms/step - loss: 80.5642 - IoU: 0.8151\n",
      "\n",
      "Epoch 00196: ReduceLROnPlateau reducing learning rate to 1e-07.\n",
      "Epoch 197/200\n",
      "173/173 [==============================] - 0s 1ms/step - loss: 83.1311 - IoU: 0.8105\n",
      "Epoch 198/200\n",
      "173/173 [==============================] - 0s 1ms/step - loss: 85.4755 - IoU: 0.7999\n",
      "Epoch 199/200\n",
      "173/173 [==============================] - 0s 1ms/step - loss: 88.0946 - IoU: 0.8004\n",
      "Epoch 200/200\n",
      "173/173 [==============================] - 0s 1ms/step - loss: 80.0230 - IoU: 0.8162\n"
     ]
    },
    {
     "data": {
      "text/plain": [
       "<keras.callbacks.callbacks.History at 0x2aa138969b0>"
      ]
     },
     "execution_count": 15,
     "metadata": {},
     "output_type": "execute_result"
    }
   ],
   "source": [
    "model.compile(optimizer='Adam', loss='mse', metrics=[IoU]) # Regression loss is MSE\n",
    "\n",
    "#checkpoint = ModelCheckpoint(\"model-{val_iou:.2f}.h5\", verbose=1, save_best_only=True,\n",
    "#                              save_weights_only=True, mode=\"max\", period=1) # Checkpoint best validation model\n",
    "#es = EarlyStopping(monitor=\"IoU\", patience=5, mode=\"max\") # Stop early, if the validation error deteriorates\n",
    "reduce_lr = ReduceLROnPlateau(monitor=\"IoU\", factor=0.2, patience=PATIENCE, min_lr=1e-7, verbose=VERBOSE, mode=\"max\")\n",
    "# Reduce learning rate if Validation IOU does not improve\n",
    "\n",
    "gt = coords\n",
    "model.fit(batch_images, gt,\n",
    "            epochs=EPOCHS, \n",
    "            batch_size = BATCH_SIZE,\n",
    "            verbose=VERBOSE,\n",
    "            callbacks=[reduce_lr])"
   ]
  },
  {
   "cell_type": "markdown",
   "metadata": {
    "colab_type": "text",
    "id": "II1itmqiWGjK"
   },
   "source": [
    "### Pick a test image from the given data"
   ]
  },
  {
   "cell_type": "code",
   "execution_count": null,
   "metadata": {
    "colab": {},
    "colab_type": "code",
    "id": "0ULErYeSWGjK"
   },
   "outputs": [],
   "source": []
  },
  {
   "cell_type": "markdown",
   "metadata": {
    "colab_type": "text",
    "id": "h99SC9MjWGjO"
   },
   "source": [
    "### Resize the image to 128 * 128 and preprocess the image for the MobileNet model"
   ]
  },
  {
   "cell_type": "code",
   "execution_count": null,
   "metadata": {
    "colab": {},
    "colab_type": "code",
    "id": "J3jbKm7_WGjP"
   },
   "outputs": [],
   "source": []
  },
  {
   "cell_type": "markdown",
   "metadata": {
    "colab_type": "text",
    "id": "aGK4IjdaWGjR"
   },
   "source": [
    "### Predict the coordinates of the bounding box for the given test image"
   ]
  },
  {
   "cell_type": "code",
   "execution_count": null,
   "metadata": {
    "colab": {},
    "colab_type": "code",
    "id": "abnXH5F7WGjS"
   },
   "outputs": [],
   "source": []
  },
  {
   "cell_type": "markdown",
   "metadata": {
    "colab_type": "text",
    "id": "CXbjVdLWWGjW"
   },
   "source": [
    "### Plot the test image using .imshow and draw a boundary box around the image with the coordinates obtained from the model"
   ]
  },
  {
   "cell_type": "code",
   "execution_count": 16,
   "metadata": {
    "colab": {},
    "colab_type": "code",
    "id": "t4Ah05MlWGjY"
   },
   "outputs": [
    {
     "ename": "NameError",
     "evalue": "name 'region' is not defined",
     "output_type": "error",
     "traceback": [
      "\u001b[1;31m---------------------------------------------------------------------------\u001b[0m",
      "\u001b[1;31mNameError\u001b[0m                                 Traceback (most recent call last)",
      "\u001b[1;32m<ipython-input-16-030b845c03ef>\u001b[0m in \u001b[0;36m<module>\u001b[1;34m\u001b[0m\n\u001b[1;32m----> 1\u001b[1;33m \u001b[0mx0\u001b[0m \u001b[1;33m=\u001b[0m \u001b[0mint\u001b[0m\u001b[1;33m(\u001b[0m\u001b[0mregion\u001b[0m\u001b[1;33m[\u001b[0m\u001b[1;36m0\u001b[0m\u001b[1;33m]\u001b[0m \u001b[1;33m*\u001b[0m \u001b[0mimage_width\u001b[0m \u001b[1;33m/\u001b[0m \u001b[0mIMAGE_SIZE\u001b[0m\u001b[1;33m)\u001b[0m \u001b[1;31m# Scale the BBox\u001b[0m\u001b[1;33m\u001b[0m\u001b[1;33m\u001b[0m\u001b[0m\n\u001b[0m\u001b[0;32m      2\u001b[0m \u001b[0my0\u001b[0m \u001b[1;33m=\u001b[0m \u001b[0mint\u001b[0m\u001b[1;33m(\u001b[0m\u001b[0mregion\u001b[0m\u001b[1;33m[\u001b[0m\u001b[1;36m1\u001b[0m\u001b[1;33m]\u001b[0m \u001b[1;33m*\u001b[0m \u001b[0mimage_height\u001b[0m \u001b[1;33m/\u001b[0m \u001b[0mIMAGE_SIZE\u001b[0m\u001b[1;33m)\u001b[0m\u001b[1;33m\u001b[0m\u001b[1;33m\u001b[0m\u001b[0m\n\u001b[0;32m      3\u001b[0m \u001b[1;33m\u001b[0m\u001b[0m\n\u001b[0;32m      4\u001b[0m \u001b[0mx1\u001b[0m \u001b[1;33m=\u001b[0m \u001b[0mint\u001b[0m\u001b[1;33m(\u001b[0m\u001b[1;33m(\u001b[0m\u001b[0mregion\u001b[0m\u001b[1;33m[\u001b[0m\u001b[1;36m2\u001b[0m\u001b[1;33m]\u001b[0m\u001b[1;33m)\u001b[0m \u001b[1;33m*\u001b[0m \u001b[0mimage_width\u001b[0m \u001b[1;33m/\u001b[0m \u001b[0mIMAGE_SIZE\u001b[0m\u001b[1;33m)\u001b[0m\u001b[1;33m\u001b[0m\u001b[1;33m\u001b[0m\u001b[0m\n\u001b[0;32m      5\u001b[0m \u001b[0my1\u001b[0m \u001b[1;33m=\u001b[0m \u001b[0mint\u001b[0m\u001b[1;33m(\u001b[0m\u001b[1;33m(\u001b[0m\u001b[0mregion\u001b[0m\u001b[1;33m[\u001b[0m\u001b[1;36m3\u001b[0m\u001b[1;33m]\u001b[0m\u001b[1;33m)\u001b[0m \u001b[1;33m*\u001b[0m \u001b[0mimage_height\u001b[0m \u001b[1;33m/\u001b[0m \u001b[0mIMAGE_SIZE\u001b[0m\u001b[1;33m)\u001b[0m\u001b[1;33m\u001b[0m\u001b[1;33m\u001b[0m\u001b[0m\n",
      "\u001b[1;31mNameError\u001b[0m: name 'region' is not defined"
     ]
    }
   ],
   "source": [
    "x0 = int(region[0] * image_width / IMAGE_SIZE) # Scale the BBox\n",
    "y0 = int(region[1] * image_height / IMAGE_SIZE)\n",
    "\n",
    "x1 = int((region[2]) * image_width / IMAGE_SIZE)\n",
    "y1 = int((region[3]) * image_height / IMAGE_SIZE)\n",
    "\n",
    "\n",
    "import matplotlib.pyplot as plt\n",
    "import matplotlib.patches as patches\n",
    "from PIL import Image\n",
    "import numpy as np\n",
    "\n",
    "\n",
    "# Create figure and axes\n",
    "fig,ax = plt.subplots(1)\n",
    "\n",
    "# Display the image\n",
    "ax.imshow(unscaled)\n",
    "\n",
    "# Create a Rectangle patch\n",
    "rect = patches.Rectangle((x0, y0), (x1 - x0) , (y1 - y0) , linewidth=2, edgecolor='r', facecolor='none')\n",
    "\n",
    "# Add the patch to the Axes\n",
    "ax.add_patch(rect)\n",
    "\n",
    "plt.show()"
   ]
  },
  {
   "cell_type": "code",
   "execution_count": null,
   "metadata": {
    "colab": {},
    "colab_type": "code",
    "id": "FHbIWp-D7Jyn"
   },
   "outputs": [],
   "source": []
  }
 ],
 "metadata": {
  "colab": {
   "collapsed_sections": [],
   "name": "AIML.M.Mar19-Internal_Lab_Questions.ipynb",
   "provenance": []
  },
  "kernelspec": {
   "display_name": "Python 3",
   "language": "python",
   "name": "python3"
  },
  "language_info": {
   "codemirror_mode": {
    "name": "ipython",
    "version": 3
   },
   "file_extension": ".py",
   "mimetype": "text/x-python",
   "name": "python",
   "nbconvert_exporter": "python",
   "pygments_lexer": "ipython3",
   "version": "3.7.3"
  }
 },
 "nbformat": 4,
 "nbformat_minor": 1
}
