{
 "cells": [
  {
   "cell_type": "markdown",
   "metadata": {
    "colab_type": "text",
    "id": "sb7Epo0VOB58"
   },
   "source": [
    "### Load tensorflow"
   ]
  },
  {
   "cell_type": "code",
   "execution_count": 1,
   "metadata": {
    "colab": {},
    "colab_type": "code",
    "id": "fHpCNRv1OB5-"
   },
   "outputs": [
    {
     "name": "stderr",
     "output_type": "stream",
     "text": [
      "Using TensorFlow backend.\n"
     ]
    }
   ],
   "source": [
    "import tensorflow as tf\n",
    "import pandas as pd\n",
    "import numpy as np\n",
    "from sklearn.model_selection import train_test_split\n",
    "from scipy.stats import zscore\n",
    "import matplotlib.pyplot as plt\n",
    "\n",
    "import keras\n",
    "from keras.models import Sequential\n",
    "from keras.layers import Dense, Dropout\n",
    "from keras.optimizers import Nadam, SGD, Adam"
   ]
  },
  {
   "cell_type": "code",
   "execution_count": 2,
   "metadata": {
    "colab": {},
    "colab_type": "code",
    "id": "tnSsH8sNOB6F",
    "slideshow": {
     "slide_type": "fragment"
    }
   },
   "outputs": [],
   "source": [
    "#Reset Default graph - Needed only for Jupyter notebook\n",
    "tf.reset_default_graph()"
   ]
  },
  {
   "cell_type": "markdown",
   "metadata": {
    "colab_type": "text",
    "id": "DxJDmJqqOB6K",
    "slideshow": {
     "slide_type": "slide"
    }
   },
   "source": [
    "### Collect Data"
   ]
  },
  {
   "cell_type": "code",
   "execution_count": 3,
   "metadata": {
    "colab": {},
    "colab_type": "code",
    "id": "FhllFLyKOB6N"
   },
   "outputs": [],
   "source": [
    "import pandas as pd"
   ]
  },
  {
   "cell_type": "code",
   "execution_count": 4,
   "metadata": {
    "colab": {},
    "colab_type": "code",
    "id": "B4yQKMiJOB6R"
   },
   "outputs": [],
   "source": [
    "df_prices = pd.read_csv('./prices.csv')"
   ]
  },
  {
   "cell_type": "markdown",
   "metadata": {
    "colab_type": "text",
    "id": "fgkX6SEqOB6W"
   },
   "source": [
    "### Check all columns in the dataset"
   ]
  },
  {
   "cell_type": "code",
   "execution_count": 5,
   "metadata": {
    "colab": {},
    "colab_type": "code",
    "id": "7K8pWsNQOB6X"
   },
   "outputs": [
    {
     "data": {
      "text/html": [
       "<div>\n",
       "<style scoped>\n",
       "    .dataframe tbody tr th:only-of-type {\n",
       "        vertical-align: middle;\n",
       "    }\n",
       "\n",
       "    .dataframe tbody tr th {\n",
       "        vertical-align: top;\n",
       "    }\n",
       "\n",
       "    .dataframe thead th {\n",
       "        text-align: right;\n",
       "    }\n",
       "</style>\n",
       "<table border=\"1\" class=\"dataframe\">\n",
       "  <thead>\n",
       "    <tr style=\"text-align: right;\">\n",
       "      <th></th>\n",
       "      <th>date</th>\n",
       "      <th>symbol</th>\n",
       "      <th>open</th>\n",
       "      <th>close</th>\n",
       "      <th>low</th>\n",
       "      <th>high</th>\n",
       "      <th>volume</th>\n",
       "    </tr>\n",
       "  </thead>\n",
       "  <tbody>\n",
       "    <tr>\n",
       "      <th>0</th>\n",
       "      <td>2016-01-05 00:00:00</td>\n",
       "      <td>WLTW</td>\n",
       "      <td>123.430000</td>\n",
       "      <td>125.839996</td>\n",
       "      <td>122.309998</td>\n",
       "      <td>126.250000</td>\n",
       "      <td>2163600.0</td>\n",
       "    </tr>\n",
       "    <tr>\n",
       "      <th>1</th>\n",
       "      <td>2016-01-06 00:00:00</td>\n",
       "      <td>WLTW</td>\n",
       "      <td>125.239998</td>\n",
       "      <td>119.980003</td>\n",
       "      <td>119.940002</td>\n",
       "      <td>125.540001</td>\n",
       "      <td>2386400.0</td>\n",
       "    </tr>\n",
       "    <tr>\n",
       "      <th>2</th>\n",
       "      <td>2016-01-07 00:00:00</td>\n",
       "      <td>WLTW</td>\n",
       "      <td>116.379997</td>\n",
       "      <td>114.949997</td>\n",
       "      <td>114.930000</td>\n",
       "      <td>119.739998</td>\n",
       "      <td>2489500.0</td>\n",
       "    </tr>\n",
       "    <tr>\n",
       "      <th>3</th>\n",
       "      <td>2016-01-08 00:00:00</td>\n",
       "      <td>WLTW</td>\n",
       "      <td>115.480003</td>\n",
       "      <td>116.620003</td>\n",
       "      <td>113.500000</td>\n",
       "      <td>117.440002</td>\n",
       "      <td>2006300.0</td>\n",
       "    </tr>\n",
       "    <tr>\n",
       "      <th>4</th>\n",
       "      <td>2016-01-11 00:00:00</td>\n",
       "      <td>WLTW</td>\n",
       "      <td>117.010002</td>\n",
       "      <td>114.970001</td>\n",
       "      <td>114.089996</td>\n",
       "      <td>117.330002</td>\n",
       "      <td>1408600.0</td>\n",
       "    </tr>\n",
       "  </tbody>\n",
       "</table>\n",
       "</div>"
      ],
      "text/plain": [
       "                  date symbol        open       close         low        high  \\\n",
       "0  2016-01-05 00:00:00   WLTW  123.430000  125.839996  122.309998  126.250000   \n",
       "1  2016-01-06 00:00:00   WLTW  125.239998  119.980003  119.940002  125.540001   \n",
       "2  2016-01-07 00:00:00   WLTW  116.379997  114.949997  114.930000  119.739998   \n",
       "3  2016-01-08 00:00:00   WLTW  115.480003  116.620003  113.500000  117.440002   \n",
       "4  2016-01-11 00:00:00   WLTW  117.010002  114.970001  114.089996  117.330002   \n",
       "\n",
       "      volume  \n",
       "0  2163600.0  \n",
       "1  2386400.0  \n",
       "2  2489500.0  \n",
       "3  2006300.0  \n",
       "4  1408600.0  "
      ]
     },
     "execution_count": 5,
     "metadata": {},
     "output_type": "execute_result"
    }
   ],
   "source": [
    "df_prices.head()"
   ]
  },
  {
   "cell_type": "code",
   "execution_count": 6,
   "metadata": {},
   "outputs": [
    {
     "data": {
      "text/html": [
       "<div>\n",
       "<style scoped>\n",
       "    .dataframe tbody tr th:only-of-type {\n",
       "        vertical-align: middle;\n",
       "    }\n",
       "\n",
       "    .dataframe tbody tr th {\n",
       "        vertical-align: top;\n",
       "    }\n",
       "\n",
       "    .dataframe thead th {\n",
       "        text-align: right;\n",
       "    }\n",
       "</style>\n",
       "<table border=\"1\" class=\"dataframe\">\n",
       "  <thead>\n",
       "    <tr style=\"text-align: right;\">\n",
       "      <th></th>\n",
       "      <th>date</th>\n",
       "      <th>symbol</th>\n",
       "      <th>open</th>\n",
       "      <th>close</th>\n",
       "      <th>low</th>\n",
       "      <th>high</th>\n",
       "      <th>volume</th>\n",
       "    </tr>\n",
       "  </thead>\n",
       "  <tbody>\n",
       "    <tr>\n",
       "      <th>count</th>\n",
       "      <td>851264</td>\n",
       "      <td>851264</td>\n",
       "      <td>851264.000000</td>\n",
       "      <td>851264.000000</td>\n",
       "      <td>851264.000000</td>\n",
       "      <td>851264.000000</td>\n",
       "      <td>8.512640e+05</td>\n",
       "    </tr>\n",
       "    <tr>\n",
       "      <th>unique</th>\n",
       "      <td>3524</td>\n",
       "      <td>501</td>\n",
       "      <td>NaN</td>\n",
       "      <td>NaN</td>\n",
       "      <td>NaN</td>\n",
       "      <td>NaN</td>\n",
       "      <td>NaN</td>\n",
       "    </tr>\n",
       "    <tr>\n",
       "      <th>top</th>\n",
       "      <td>2016-07-28</td>\n",
       "      <td>MRO</td>\n",
       "      <td>NaN</td>\n",
       "      <td>NaN</td>\n",
       "      <td>NaN</td>\n",
       "      <td>NaN</td>\n",
       "      <td>NaN</td>\n",
       "    </tr>\n",
       "    <tr>\n",
       "      <th>freq</th>\n",
       "      <td>498</td>\n",
       "      <td>1762</td>\n",
       "      <td>NaN</td>\n",
       "      <td>NaN</td>\n",
       "      <td>NaN</td>\n",
       "      <td>NaN</td>\n",
       "      <td>NaN</td>\n",
       "    </tr>\n",
       "    <tr>\n",
       "      <th>mean</th>\n",
       "      <td>NaN</td>\n",
       "      <td>NaN</td>\n",
       "      <td>70.836986</td>\n",
       "      <td>70.857109</td>\n",
       "      <td>70.118414</td>\n",
       "      <td>71.543476</td>\n",
       "      <td>5.415113e+06</td>\n",
       "    </tr>\n",
       "    <tr>\n",
       "      <th>std</th>\n",
       "      <td>NaN</td>\n",
       "      <td>NaN</td>\n",
       "      <td>83.695876</td>\n",
       "      <td>83.689686</td>\n",
       "      <td>82.877294</td>\n",
       "      <td>84.465504</td>\n",
       "      <td>1.249468e+07</td>\n",
       "    </tr>\n",
       "    <tr>\n",
       "      <th>min</th>\n",
       "      <td>NaN</td>\n",
       "      <td>NaN</td>\n",
       "      <td>0.850000</td>\n",
       "      <td>0.860000</td>\n",
       "      <td>0.830000</td>\n",
       "      <td>0.880000</td>\n",
       "      <td>0.000000e+00</td>\n",
       "    </tr>\n",
       "    <tr>\n",
       "      <th>25%</th>\n",
       "      <td>NaN</td>\n",
       "      <td>NaN</td>\n",
       "      <td>33.840000</td>\n",
       "      <td>33.849998</td>\n",
       "      <td>33.480000</td>\n",
       "      <td>34.189999</td>\n",
       "      <td>1.221500e+06</td>\n",
       "    </tr>\n",
       "    <tr>\n",
       "      <th>50%</th>\n",
       "      <td>NaN</td>\n",
       "      <td>NaN</td>\n",
       "      <td>52.770000</td>\n",
       "      <td>52.799999</td>\n",
       "      <td>52.230000</td>\n",
       "      <td>53.310001</td>\n",
       "      <td>2.476250e+06</td>\n",
       "    </tr>\n",
       "    <tr>\n",
       "      <th>75%</th>\n",
       "      <td>NaN</td>\n",
       "      <td>NaN</td>\n",
       "      <td>79.879997</td>\n",
       "      <td>79.889999</td>\n",
       "      <td>79.110001</td>\n",
       "      <td>80.610001</td>\n",
       "      <td>5.222500e+06</td>\n",
       "    </tr>\n",
       "    <tr>\n",
       "      <th>max</th>\n",
       "      <td>NaN</td>\n",
       "      <td>NaN</td>\n",
       "      <td>1584.439941</td>\n",
       "      <td>1578.130005</td>\n",
       "      <td>1549.939941</td>\n",
       "      <td>1600.930054</td>\n",
       "      <td>8.596434e+08</td>\n",
       "    </tr>\n",
       "  </tbody>\n",
       "</table>\n",
       "</div>"
      ],
      "text/plain": [
       "              date  symbol           open          close            low  \\\n",
       "count       851264  851264  851264.000000  851264.000000  851264.000000   \n",
       "unique        3524     501            NaN            NaN            NaN   \n",
       "top     2016-07-28     MRO            NaN            NaN            NaN   \n",
       "freq           498    1762            NaN            NaN            NaN   \n",
       "mean           NaN     NaN      70.836986      70.857109      70.118414   \n",
       "std            NaN     NaN      83.695876      83.689686      82.877294   \n",
       "min            NaN     NaN       0.850000       0.860000       0.830000   \n",
       "25%            NaN     NaN      33.840000      33.849998      33.480000   \n",
       "50%            NaN     NaN      52.770000      52.799999      52.230000   \n",
       "75%            NaN     NaN      79.879997      79.889999      79.110001   \n",
       "max            NaN     NaN    1584.439941    1578.130005    1549.939941   \n",
       "\n",
       "                 high        volume  \n",
       "count   851264.000000  8.512640e+05  \n",
       "unique            NaN           NaN  \n",
       "top               NaN           NaN  \n",
       "freq              NaN           NaN  \n",
       "mean        71.543476  5.415113e+06  \n",
       "std         84.465504  1.249468e+07  \n",
       "min          0.880000  0.000000e+00  \n",
       "25%         34.189999  1.221500e+06  \n",
       "50%         53.310001  2.476250e+06  \n",
       "75%         80.610001  5.222500e+06  \n",
       "max       1600.930054  8.596434e+08  "
      ]
     },
     "execution_count": 6,
     "metadata": {},
     "output_type": "execute_result"
    }
   ],
   "source": [
    "df_prices.describe(include='all')"
   ]
  },
  {
   "cell_type": "markdown",
   "metadata": {
    "colab_type": "text",
    "id": "7dU6X7MpOB6c"
   },
   "source": [
    "### Drop columns `date` and  `symbol`"
   ]
  },
  {
   "cell_type": "code",
   "execution_count": 7,
   "metadata": {
    "colab": {},
    "colab_type": "code",
    "id": "lh_6spSKOB6e"
   },
   "outputs": [],
   "source": [
    "df_prices.drop(['date', 'symbol'], axis=1, inplace=True, errors='ignore')"
   ]
  },
  {
   "cell_type": "code",
   "execution_count": 8,
   "metadata": {
    "colab": {},
    "colab_type": "code",
    "id": "xlwbUgTwOB6i",
    "outputId": "56bad82a-f271-415a-e0d6-cbe1c4290743"
   },
   "outputs": [
    {
     "data": {
      "text/html": [
       "<div>\n",
       "<style scoped>\n",
       "    .dataframe tbody tr th:only-of-type {\n",
       "        vertical-align: middle;\n",
       "    }\n",
       "\n",
       "    .dataframe tbody tr th {\n",
       "        vertical-align: top;\n",
       "    }\n",
       "\n",
       "    .dataframe thead th {\n",
       "        text-align: right;\n",
       "    }\n",
       "</style>\n",
       "<table border=\"1\" class=\"dataframe\">\n",
       "  <thead>\n",
       "    <tr style=\"text-align: right;\">\n",
       "      <th></th>\n",
       "      <th>open</th>\n",
       "      <th>close</th>\n",
       "      <th>low</th>\n",
       "      <th>high</th>\n",
       "      <th>volume</th>\n",
       "    </tr>\n",
       "  </thead>\n",
       "  <tbody>\n",
       "    <tr>\n",
       "      <th>0</th>\n",
       "      <td>123.430000</td>\n",
       "      <td>125.839996</td>\n",
       "      <td>122.309998</td>\n",
       "      <td>126.250000</td>\n",
       "      <td>2163600.0</td>\n",
       "    </tr>\n",
       "    <tr>\n",
       "      <th>1</th>\n",
       "      <td>125.239998</td>\n",
       "      <td>119.980003</td>\n",
       "      <td>119.940002</td>\n",
       "      <td>125.540001</td>\n",
       "      <td>2386400.0</td>\n",
       "    </tr>\n",
       "    <tr>\n",
       "      <th>2</th>\n",
       "      <td>116.379997</td>\n",
       "      <td>114.949997</td>\n",
       "      <td>114.930000</td>\n",
       "      <td>119.739998</td>\n",
       "      <td>2489500.0</td>\n",
       "    </tr>\n",
       "    <tr>\n",
       "      <th>3</th>\n",
       "      <td>115.480003</td>\n",
       "      <td>116.620003</td>\n",
       "      <td>113.500000</td>\n",
       "      <td>117.440002</td>\n",
       "      <td>2006300.0</td>\n",
       "    </tr>\n",
       "    <tr>\n",
       "      <th>4</th>\n",
       "      <td>117.010002</td>\n",
       "      <td>114.970001</td>\n",
       "      <td>114.089996</td>\n",
       "      <td>117.330002</td>\n",
       "      <td>1408600.0</td>\n",
       "    </tr>\n",
       "  </tbody>\n",
       "</table>\n",
       "</div>"
      ],
      "text/plain": [
       "         open       close         low        high     volume\n",
       "0  123.430000  125.839996  122.309998  126.250000  2163600.0\n",
       "1  125.239998  119.980003  119.940002  125.540001  2386400.0\n",
       "2  116.379997  114.949997  114.930000  119.739998  2489500.0\n",
       "3  115.480003  116.620003  113.500000  117.440002  2006300.0\n",
       "4  117.010002  114.970001  114.089996  117.330002  1408600.0"
      ]
     },
     "execution_count": 8,
     "metadata": {},
     "output_type": "execute_result"
    }
   ],
   "source": [
    "df_prices.head()"
   ]
  },
  {
   "cell_type": "markdown",
   "metadata": {
    "colab_type": "text",
    "id": "3DBv3WWYOB6q"
   },
   "source": [
    "### Consider only first 1000 rows in the dataset for building feature set and target set"
   ]
  },
  {
   "cell_type": "code",
   "execution_count": 9,
   "metadata": {
    "colab": {},
    "colab_type": "code",
    "id": "Z_hG9rGBOB6s"
   },
   "outputs": [
    {
     "data": {
      "text/plain": [
       "(1000, 5)"
      ]
     },
     "execution_count": 9,
     "metadata": {},
     "output_type": "execute_result"
    }
   ],
   "source": [
    "df_prices_mini = df_prices[0:1000]\n",
    "df_prices_mini.shape"
   ]
  },
  {
   "cell_type": "markdown",
   "metadata": {
    "colab_type": "text",
    "id": "M3UaApqYOB6x"
   },
   "source": [
    "### Divide the data into train and test sets"
   ]
  },
  {
   "cell_type": "code",
   "execution_count": 10,
   "metadata": {
    "colab": {},
    "colab_type": "code",
    "id": "2EkKAy7fOB6y"
   },
   "outputs": [
    {
     "data": {
      "text/plain": [
       "((1000, 4), 1000)"
      ]
     },
     "execution_count": 10,
     "metadata": {},
     "output_type": "execute_result"
    }
   ],
   "source": [
    "X = df_prices_mini.drop('close', axis=1)\n",
    "X = X.apply(zscore)\n",
    "y = df_prices_mini['close']\n",
    "y = zscore(y)\n",
    "y = [[v] for v in y]\n",
    "\n",
    "X.shape, len(y)"
   ]
  },
  {
   "cell_type": "code",
   "execution_count": 11,
   "metadata": {},
   "outputs": [],
   "source": [
    "X_train, X_test, y_train, y_test = train_test_split(X, y, test_size=0.30, random_state=42)"
   ]
  },
  {
   "cell_type": "code",
   "execution_count": 12,
   "metadata": {},
   "outputs": [
    {
     "data": {
      "text/plain": [
       "((700, 4), (300, 4), 700, 300)"
      ]
     },
     "execution_count": 12,
     "metadata": {},
     "output_type": "execute_result"
    }
   ],
   "source": [
    "X_train.shape, X_test.shape, len(y_train), len(y_test)"
   ]
  },
  {
   "cell_type": "code",
   "execution_count": 13,
   "metadata": {},
   "outputs": [
    {
     "data": {
      "text/plain": [
       "(700, 4)"
      ]
     },
     "execution_count": 13,
     "metadata": {},
     "output_type": "execute_result"
    }
   ],
   "source": [
    "n_samples, n_features = X_train.shape[0], X_train.shape[1]\n",
    "n_samples, n_features"
   ]
  },
  {
   "cell_type": "markdown",
   "metadata": {
    "colab_type": "text",
    "id": "v6vE4eYCOB62",
    "slideshow": {
     "slide_type": "slide"
    }
   },
   "source": [
    "## Building the graph in tensorflow"
   ]
  },
  {
   "cell_type": "code",
   "execution_count": 14,
   "metadata": {},
   "outputs": [],
   "source": [
    "rs = np.random.RandomState(seed=123)"
   ]
  },
  {
   "cell_type": "code",
   "execution_count": 15,
   "metadata": {},
   "outputs": [
    {
     "name": "stdout",
     "output_type": "stream",
     "text": [
      "WARNING:tensorflow:From C:\\Users\\Beejal\\Anaconda3\\lib\\site-packages\\tensorflow\\python\\framework\\op_def_library.py:263: colocate_with (from tensorflow.python.framework.ops) is deprecated and will be removed in a future version.\n",
      "Instructions for updating:\n",
      "Colocations handled automatically by placer.\n"
     ]
    }
   ],
   "source": [
    "X_placeholder = tf.placeholder(tf.float32, shape=[None, n_features])\n",
    "y_placeholder = tf.placeholder(tf.float32, shape=[None, 1])\n",
    "W = tf.Variable(tf.random_normal(shape=[n_features, 1]))\n",
    "b = tf.Variable(rs.rand())"
   ]
  },
  {
   "cell_type": "code",
   "execution_count": 16,
   "metadata": {},
   "outputs": [
    {
     "name": "stdout",
     "output_type": "stream",
     "text": [
      "X_placeholder =  Tensor(\"Placeholder:0\", shape=(?, 4), dtype=float32)\n",
      "y_placeholder =  Tensor(\"Placeholder_1:0\", shape=(?, 1), dtype=float32)\n",
      "W =  <tf.Variable 'Variable:0' shape=(4, 1) dtype=float32_ref>\n",
      "b =  <tf.Variable 'Variable_1:0' shape=() dtype=float32_ref>\n"
     ]
    }
   ],
   "source": [
    "print(\"X_placeholder = \" , X_placeholder)\n",
    "print(\"y_placeholder = \", y_placeholder)\n",
    "print(\"W = \", W)\n",
    "print(\"b = \", b)"
   ]
  },
  {
   "cell_type": "markdown",
   "metadata": {
    "colab_type": "text",
    "id": "xK0zBd1VOB64",
    "slideshow": {
     "slide_type": "slide"
    }
   },
   "source": [
    "1.Define input data placeholders"
   ]
  },
  {
   "cell_type": "markdown",
   "metadata": {
    "colab_type": "text",
    "id": "297_qja4OB7A",
    "slideshow": {
     "slide_type": "slide"
    }
   },
   "source": [
    "2.Define Weights and Bias"
   ]
  },
  {
   "cell_type": "markdown",
   "metadata": {
    "colab_type": "text",
    "id": "HgtWA-UIOB7F",
    "slideshow": {
     "slide_type": "slide"
    }
   },
   "source": [
    "3.Prediction"
   ]
  },
  {
   "cell_type": "code",
   "execution_count": 17,
   "metadata": {
    "colab": {},
    "colab_type": "code",
    "id": "JveGlx25OB7H"
   },
   "outputs": [],
   "source": [
    "y_hat = tf.add(tf.matmul(X_placeholder, W),  b)"
   ]
  },
  {
   "cell_type": "markdown",
   "metadata": {
    "colab_type": "text",
    "id": "TL1hIwf_OB7M",
    "slideshow": {
     "slide_type": "slide"
    }
   },
   "source": [
    "4.Loss (Cost) Function [Mean square error]"
   ]
  },
  {
   "cell_type": "code",
   "execution_count": 18,
   "metadata": {
    "colab": {},
    "colab_type": "code",
    "id": "8VSWPiGXOB7P"
   },
   "outputs": [],
   "source": [
    "# Mean squared error \n",
    "cost = tf.reduce_mean(tf.square(tf.subtract(y_placeholder, y_hat)))"
   ]
  },
  {
   "cell_type": "markdown",
   "metadata": {
    "colab_type": "text",
    "id": "jzG85FUlOB7U",
    "slideshow": {
     "slide_type": "slide"
    }
   },
   "source": [
    "5.GradientDescent Optimizer to minimize Loss [GradientDescentOptimizer]"
   ]
  },
  {
   "cell_type": "code",
   "execution_count": 19,
   "metadata": {},
   "outputs": [],
   "source": [
    "learning_rate = 0.05"
   ]
  },
  {
   "cell_type": "code",
   "execution_count": 20,
   "metadata": {
    "colab": {},
    "colab_type": "code",
    "id": "cj802w-3OB7X"
   },
   "outputs": [],
   "source": [
    "# Gradient descent \n",
    "optimizer = tf.train.GradientDescentOptimizer(learning_rate).minimize(cost) # opearational tensor\n",
    "\n",
    "# Initializing the variables \n",
    "init = tf.global_variables_initializer() "
   ]
  },
  {
   "cell_type": "markdown",
   "metadata": {
    "colab_type": "text",
    "id": "xSypb_u8OB7e",
    "slideshow": {
     "slide_type": "slide"
    }
   },
   "source": [
    "## Execute the Graph for 100 epochs and observe the loss"
   ]
  },
  {
   "cell_type": "code",
   "execution_count": 21,
   "metadata": {},
   "outputs": [],
   "source": [
    "training_epochs = 100\n",
    "display_step = 20"
   ]
  },
  {
   "cell_type": "code",
   "execution_count": 22,
   "metadata": {
    "colab": {},
    "colab_type": "code",
    "id": "DVvgj7eQOB7f"
   },
   "outputs": [
    {
     "name": "stdout",
     "output_type": "stream",
     "text": [
      "Epoch:20 \t Cost:0.05083097890019417 \t W:['[-0.9132568]', '[1.0919683]', '[0.7620585]', '[-0.20498997]'] \t b:0.08194610476493835\n",
      "Epoch:40 \t Cost:0.0007842706982046366 \t W:['[-0.8958571]', '[1.1092755]', '[0.779468]', '[-0.02407327]'] \t b:0.009406397119164467\n",
      "Epoch:60 \t Cost:9.757715451996773e-05 \t W:['[-0.89366984]', '[1.1113361]', '[0.7816444]', '[-0.00284594]'] \t b:0.0010751377558335662\n",
      "Epoch:80 \t Cost:8.814118336886168e-05 \t W:['[-0.8933699]', '[1.1115057]', '[0.7819311]', '[-0.00035117]'] \t b:0.00011997971159871668\n",
      "Epoch:100 \t Cost:8.800152863841504e-05 \t W:['[-0.89329195]', '[1.1114526]', '[0.7819951]', '[-5.790812e-05]'] \t b:1.0635621947585605e-05\n",
      "Optimization Finished!\n",
      "Final training cost: 8.800153e-05 W: [[-8.9329195e-01]\n",
      " [ 1.1114526e+00]\n",
      " [ 7.8199512e-01]\n",
      " [-5.7908121e-05]] b: 1.0635622e-05 \n",
      "\n"
     ]
    },
    {
     "data": {
      "image/png": "[encoded data removed]",
      "text/plain": [
       "<Figure size 432x288 with 1 Axes>"
      ]
     },
     "metadata": {
      "needs_background": "light"
     },
     "output_type": "display_data"
    },
    {
     "name": "stdout",
     "output_type": "stream",
     "text": [
      "Final testing cost: 0.00011511242\n",
      "Absolute mean square loss difference: 2.7110895e-05\n"
     ]
    },
    {
     "data": {
      "image/png": "[encoded data removed]",
      "text/plain": [
       "<Figure size 432x288 with 1 Axes>"
      ]
     },
     "metadata": {
      "needs_background": "light"
     },
     "output_type": "display_data"
    }
   ],
   "source": [
    "with tf.Session() as sess: \n",
    "    # Load initialized variables in current session \n",
    "    sess.run(init) \n",
    "\n",
    "    # Fit all training data \n",
    "    for epoch in range(training_epochs): \n",
    "\n",
    "        # perform gradient descent step \n",
    "        sess.run(optimizer, feed_dict={X_placeholder: X_train, y_placeholder: y_train}) \n",
    "        \n",
    "        # Display logs per epoch step \n",
    "        if (epoch + 1) % display_step == 0: \n",
    "            c = sess.run(cost, feed_dict={X_placeholder: X_train, y_placeholder: y_train}) \n",
    "            print(\"Epoch:{} \\t Cost:{} \\t W:{} \\t b:{}\".format(epoch+1, c, [str(w) for w in sess.run(W)], sess.run(b))) \n",
    "\n",
    "    # Print final parameter values \n",
    "    print(\"Optimization Finished!\") \n",
    "    training_cost = sess.run(cost, feed_dict={X_placeholder: X_train, y_placeholder: y_train}) \n",
    "    print(\"Final training cost:\", training_cost, \"W:\", sess.run(W), \"b:\", sess.run(b), '\\n') \n",
    "       \n",
    "    # Graphic display \n",
    "    y_train_pred = sess.run(y_hat, feed_dict={X_placeholder: X_train})\n",
    "    plt.plot(X_train['open'], y_train, 'ro', label='Original data') \n",
    "    plt.plot(X_train['open'], y_train_pred, label='Fitted line') \n",
    "    plt.xlabel(\"Opening Price\")\n",
    "    plt.ylabel(\"Closing Price\")\n",
    "    plt.legend() \n",
    "    plt.show() \n",
    "\n",
    "    # Testing the model \n",
    "    testing_cost = sess.run(cost, feed_dict={X_placeholder: X_test, y_placeholder: y_test}) \n",
    "    \n",
    "    print(\"Final testing cost:\", testing_cost) \n",
    "    print(\"Absolute mean square loss difference:\", abs(training_cost - testing_cost)) \n",
    "\n",
    "    # Display fitted line on test data \n",
    "    y_test_pred = sess.run(y_hat, feed_dict={X_placeholder: X_test})\n",
    "    plt.plot(X_test['open'], y_test, 'bo', label='Testing data') \n",
    "    plt.plot(X_train['open'], y_train_pred, label='Fitted line') \n",
    "    plt.xlabel(\"Opening Price\")\n",
    "    plt.ylabel(\"Closing Price\")\n",
    "    plt.legend() \n",
    "    plt.show()"
   ]
  },
  {
   "cell_type": "markdown",
   "metadata": {
    "colab_type": "text",
    "id": "DOL2ncA1OB7q"
   },
   "source": [
    "### Get the shapes and values of W and b\n",
    "\n",
    "Hint: Use sess.run(W) to get W."
   ]
  },
  {
   "cell_type": "code",
   "execution_count": 23,
   "metadata": {
    "colab": {},
    "colab_type": "code",
    "id": "ZGvtyTeuOB7r"
   },
   "outputs": [],
   "source": [
    "# Beejal - Done above"
   ]
  },
  {
   "cell_type": "markdown",
   "metadata": {
    "colab_type": "text",
    "id": "SZqKUEFsOB71"
   },
   "source": [
    "### Find the Absolute mean square loss difference between training and testing loss."
   ]
  },
  {
   "cell_type": "code",
   "execution_count": 24,
   "metadata": {
    "colab": {},
    "colab_type": "code",
    "id": "97t-grQgOB71"
   },
   "outputs": [],
   "source": [
    "# Beejal - Done above"
   ]
  },
  {
   "cell_type": "markdown",
   "metadata": {
    "colab_type": "text",
    "id": "YJRBuqXhOB7_"
   },
   "source": [
    "### Linear Classification using Keras"
   ]
  },
  {
   "cell_type": "markdown",
   "metadata": {
    "colab_type": "text",
    "id": "8GoNTWXAOB8C",
    "slideshow": {
     "slide_type": "slide"
    }
   },
   "source": [
    "### Building the simple Neural Network in Keras with one neuron in the dense hidden layer.\n",
    "#### Use Mean square error as loss function and sgd as optimizer"
   ]
  },
  {
   "cell_type": "code",
   "execution_count": 25,
   "metadata": {
    "colab": {},
    "colab_type": "code",
    "id": "zpeL5rCTOB8D"
   },
   "outputs": [
    {
     "name": "stdout",
     "output_type": "stream",
     "text": [
      "_________________________________________________________________\n",
      "Layer (type)                 Output Shape              Param #   \n",
      "=================================================================\n",
      "dense_1 (Dense)              (None, 1)                 5         \n",
      "_________________________________________________________________\n",
      "dense_2 (Dense)              (None, 1)                 2         \n",
      "=================================================================\n",
      "Total params: 7\n",
      "Trainable params: 7\n",
      "Non-trainable params: 0\n",
      "_________________________________________________________________\n"
     ]
    }
   ],
   "source": [
    "model = Sequential() # the first layer has to specify the dimensions of the input vector \n",
    "model.add( Dense( units = 1, activation ='sigmoid', input_shape =( n_features,)))\n",
    "model.add( Dense( units = 1, activation ='linear')) # print the summary of our model \n",
    "model.summary() \n",
    "\n",
    "# compile the model \n",
    "model.compile( loss ='mse', optimizer = SGD(), metrics =['mae'])"
   ]
  },
  {
   "cell_type": "markdown",
   "metadata": {
    "colab_type": "text",
    "id": "Wt-HYFMEOB8G",
    "slideshow": {
     "slide_type": "slide"
    }
   },
   "source": [
    "### Execute the model"
   ]
  },
  {
   "cell_type": "code",
   "execution_count": 26,
   "metadata": {},
   "outputs": [],
   "source": [
    "batch_size=50\n",
    "n_epochs = 20"
   ]
  },
  {
   "cell_type": "code",
   "execution_count": 27,
   "metadata": {},
   "outputs": [],
   "source": [
    "X = df_prices_mini.drop('close', axis=1)\n",
    "y = df_prices_mini['close']\n",
    "X = X.apply(zscore)\n",
    "y = zscore(y)\n",
    "X_train, X_test, y_train, y_test = train_test_split(X, y, test_size=0.30, random_state=42)"
   ]
  },
  {
   "cell_type": "code",
   "execution_count": 28,
   "metadata": {
    "colab": {},
    "colab_type": "code",
    "id": "66JGJt7GOB8H"
   },
   "outputs": [
    {
     "name": "stdout",
     "output_type": "stream",
     "text": [
      "WARNING:tensorflow:From C:\\Users\\Beejal\\Anaconda3\\lib\\site-packages\\tensorflow\\python\\ops\\math_ops.py:3066: to_int32 (from tensorflow.python.ops.math_ops) is deprecated and will be removed in a future version.\n",
      "Instructions for updating:\n",
      "Use tf.cast instead.\n",
      "Epoch 1/20\n",
      "700/700 [==============================] - 0s 331us/step - loss: 0.8969 - mean_absolute_error: 0.7120\n",
      "Epoch 2/20\n",
      "700/700 [==============================] - 0s 40us/step - loss: 0.8919 - mean_absolute_error: 0.7055\n",
      "Epoch 3/20\n",
      "700/700 [==============================] - 0s 38us/step - loss: 0.8886 - mean_absolute_error: 0.7018\n",
      "Epoch 4/20\n",
      "700/700 [==============================] - 0s 36us/step - loss: 0.8851 - mean_absolute_error: 0.6973\n",
      "Epoch 5/20\n",
      "700/700 [==============================] - 0s 34us/step - loss: 0.8821 - mean_absolute_error: 0.6933\n",
      "Epoch 6/20\n",
      "700/700 [==============================] - 0s 38us/step - loss: 0.8783 - mean_absolute_error: 0.6914\n",
      "Epoch 7/20\n",
      "700/700 [==============================] - 0s 31us/step - loss: 0.8749 - mean_absolute_error: 0.6892\n",
      "Epoch 8/20\n",
      "700/700 [==============================] - 0s 41us/step - loss: 0.8708 - mean_absolute_error: 0.6858\n",
      "Epoch 9/20\n",
      "700/700 [==============================] - 0s 34us/step - loss: 0.8664 - mean_absolute_error: 0.6839\n",
      "Epoch 10/20\n",
      "700/700 [==============================] - 0s 42us/step - loss: 0.8614 - mean_absolute_error: 0.6821\n",
      "Epoch 11/20\n",
      "700/700 [==============================] - 0s 39us/step - loss: 0.8561 - mean_absolute_error: 0.6816\n",
      "Epoch 12/20\n",
      "700/700 [==============================] - 0s 42us/step - loss: 0.8504 - mean_absolute_error: 0.6760\n",
      "Epoch 13/20\n",
      "700/700 [==============================] - 0s 41us/step - loss: 0.8442 - mean_absolute_error: 0.6743\n",
      "Epoch 14/20\n",
      "700/700 [==============================] - 0s 40us/step - loss: 0.8373 - mean_absolute_error: 0.6710\n",
      "Epoch 15/20\n",
      "700/700 [==============================] - 0s 38us/step - loss: 0.8296 - mean_absolute_error: 0.6673\n",
      "Epoch 16/20\n",
      "700/700 [==============================] - 0s 42us/step - loss: 0.8221 - mean_absolute_error: 0.6643\n",
      "Epoch 17/20\n",
      "700/700 [==============================] - 0s 38us/step - loss: 0.8138 - mean_absolute_error: 0.6585\n",
      "Epoch 18/20\n",
      "700/700 [==============================] - 0s 47us/step - loss: 0.8044 - mean_absolute_error: 0.6534\n",
      "Epoch 19/20\n",
      "700/700 [==============================] - 0s 43us/step - loss: 0.7947 - mean_absolute_error: 0.6499\n",
      "Epoch 20/20\n",
      "700/700 [==============================] - 0s 38us/step - loss: 0.7843 - mean_absolute_error: 0.6430\n"
     ]
    },
    {
     "data": {
      "text/plain": [
       "<keras.callbacks.History at 0x2254e3b1080>"
      ]
     },
     "execution_count": 28,
     "metadata": {},
     "output_type": "execute_result"
    }
   ],
   "source": [
    "model.fit( X_train, y_train, batch_size = batch_size, epochs = n_epochs) "
   ]
  },
  {
   "cell_type": "code",
   "execution_count": 29,
   "metadata": {},
   "outputs": [
    {
     "name": "stdout",
     "output_type": "stream",
     "text": [
      "300/300 [==============================] - 0s 224us/step\n"
     ]
    }
   ],
   "source": [
    "scores = model.evaluate(X_test, y_test)"
   ]
  },
  {
   "cell_type": "code",
   "execution_count": 30,
   "metadata": {},
   "outputs": [
    {
     "name": "stdout",
     "output_type": "stream",
     "text": [
      "loss: 1.1009619104862214\n",
      "mae: 0.6653611946105957\n"
     ]
    }
   ],
   "source": [
    "print('loss:', scores[0]) \n",
    "print('mae:', scores[1])"
   ]
  },
  {
   "cell_type": "markdown",
   "metadata": {
    "colab_type": "text",
    "id": "UbUPQ2iGTyOC"
   },
   "source": [
    "### Classification using Keras "
   ]
  },
  {
   "cell_type": "code",
   "execution_count": null,
   "metadata": {
    "colab": {},
    "colab_type": "code",
    "id": "YxJfb_2vTyOD"
   },
   "outputs": [],
   "source": []
  },
  {
   "cell_type": "markdown",
   "metadata": {
    "colab_type": "text",
    "id": "hRouHBtITyOF"
   },
   "source": [
    "### Load the given Iris data using pandas (Iris.csv)"
   ]
  },
  {
   "cell_type": "code",
   "execution_count": 31,
   "metadata": {
    "colab": {},
    "colab_type": "code",
    "id": "yEN7BRzvTyOF"
   },
   "outputs": [],
   "source": [
    "df = pd.read_csv('Iris.csv')"
   ]
  },
  {
   "cell_type": "code",
   "execution_count": 32,
   "metadata": {},
   "outputs": [
    {
     "data": {
      "text/html": [
       "<div>\n",
       "<style scoped>\n",
       "    .dataframe tbody tr th:only-of-type {\n",
       "        vertical-align: middle;\n",
       "    }\n",
       "\n",
       "    .dataframe tbody tr th {\n",
       "        vertical-align: top;\n",
       "    }\n",
       "\n",
       "    .dataframe thead th {\n",
       "        text-align: right;\n",
       "    }\n",
       "</style>\n",
       "<table border=\"1\" class=\"dataframe\">\n",
       "  <thead>\n",
       "    <tr style=\"text-align: right;\">\n",
       "      <th></th>\n",
       "      <th>Id</th>\n",
       "      <th>SepalLengthCm</th>\n",
       "      <th>SepalWidthCm</th>\n",
       "      <th>PetalLengthCm</th>\n",
       "      <th>PetalWidthCm</th>\n",
       "      <th>Species</th>\n",
       "    </tr>\n",
       "  </thead>\n",
       "  <tbody>\n",
       "    <tr>\n",
       "      <th>0</th>\n",
       "      <td>1</td>\n",
       "      <td>5.1</td>\n",
       "      <td>3.5</td>\n",
       "      <td>1.4</td>\n",
       "      <td>0.2</td>\n",
       "      <td>Iris-setosa</td>\n",
       "    </tr>\n",
       "    <tr>\n",
       "      <th>1</th>\n",
       "      <td>2</td>\n",
       "      <td>4.9</td>\n",
       "      <td>3.0</td>\n",
       "      <td>1.4</td>\n",
       "      <td>0.2</td>\n",
       "      <td>Iris-setosa</td>\n",
       "    </tr>\n",
       "    <tr>\n",
       "      <th>2</th>\n",
       "      <td>3</td>\n",
       "      <td>4.7</td>\n",
       "      <td>3.2</td>\n",
       "      <td>1.3</td>\n",
       "      <td>0.2</td>\n",
       "      <td>Iris-setosa</td>\n",
       "    </tr>\n",
       "    <tr>\n",
       "      <th>3</th>\n",
       "      <td>4</td>\n",
       "      <td>4.6</td>\n",
       "      <td>3.1</td>\n",
       "      <td>1.5</td>\n",
       "      <td>0.2</td>\n",
       "      <td>Iris-setosa</td>\n",
       "    </tr>\n",
       "    <tr>\n",
       "      <th>4</th>\n",
       "      <td>5</td>\n",
       "      <td>5.0</td>\n",
       "      <td>3.6</td>\n",
       "      <td>1.4</td>\n",
       "      <td>0.2</td>\n",
       "      <td>Iris-setosa</td>\n",
       "    </tr>\n",
       "  </tbody>\n",
       "</table>\n",
       "</div>"
      ],
      "text/plain": [
       "   Id  SepalLengthCm  SepalWidthCm  PetalLengthCm  PetalWidthCm      Species\n",
       "0   1            5.1           3.5            1.4           0.2  Iris-setosa\n",
       "1   2            4.9           3.0            1.4           0.2  Iris-setosa\n",
       "2   3            4.7           3.2            1.3           0.2  Iris-setosa\n",
       "3   4            4.6           3.1            1.5           0.2  Iris-setosa\n",
       "4   5            5.0           3.6            1.4           0.2  Iris-setosa"
      ]
     },
     "execution_count": 32,
     "metadata": {},
     "output_type": "execute_result"
    }
   ],
   "source": [
    "df.head()"
   ]
  },
  {
   "cell_type": "markdown",
   "metadata": {
    "colab_type": "text",
    "id": "8wbhz0SgTyOI"
   },
   "source": [
    "### Splitting the data into feature set and target set"
   ]
  },
  {
   "cell_type": "code",
   "execution_count": 33,
   "metadata": {
    "colab": {},
    "colab_type": "code",
    "id": "If4kadhPTyOJ"
   },
   "outputs": [],
   "source": [
    "df.drop('Id', axis=1, inplace=True, errors='ignore')"
   ]
  },
  {
   "cell_type": "code",
   "execution_count": 34,
   "metadata": {},
   "outputs": [],
   "source": [
    "X = df.drop('Species', axis=1)\n",
    "y = df['Species']"
   ]
  },
  {
   "cell_type": "code",
   "execution_count": 35,
   "metadata": {},
   "outputs": [
    {
     "data": {
      "text/plain": [
       "((150, 4), 150)"
      ]
     },
     "execution_count": 35,
     "metadata": {},
     "output_type": "execute_result"
    }
   ],
   "source": [
    "X.shape, len(y)"
   ]
  },
  {
   "cell_type": "markdown",
   "metadata": {
    "colab_type": "text",
    "id": "QuLlR5E8TyOP"
   },
   "source": [
    "### Target set has different categories. So, Label encode them. And convert into one-hot vectors using get_dummies in pandas."
   ]
  },
  {
   "cell_type": "code",
   "execution_count": 36,
   "metadata": {},
   "outputs": [
    {
     "data": {
      "text/plain": [
       "array(['Iris-setosa', 'Iris-versicolor', 'Iris-virginica'], dtype=object)"
      ]
     },
     "execution_count": 36,
     "metadata": {},
     "output_type": "execute_result"
    }
   ],
   "source": [
    "y.unique()"
   ]
  },
  {
   "cell_type": "code",
   "execution_count": 37,
   "metadata": {
    "colab": {},
    "colab_type": "code",
    "id": "Lui4BZRgTyOR"
   },
   "outputs": [],
   "source": [
    "y_en = pd.get_dummies(y)"
   ]
  },
  {
   "cell_type": "code",
   "execution_count": 38,
   "metadata": {},
   "outputs": [
    {
     "data": {
      "text/html": [
       "<div>\n",
       "<style scoped>\n",
       "    .dataframe tbody tr th:only-of-type {\n",
       "        vertical-align: middle;\n",
       "    }\n",
       "\n",
       "    .dataframe tbody tr th {\n",
       "        vertical-align: top;\n",
       "    }\n",
       "\n",
       "    .dataframe thead th {\n",
       "        text-align: right;\n",
       "    }\n",
       "</style>\n",
       "<table border=\"1\" class=\"dataframe\">\n",
       "  <thead>\n",
       "    <tr style=\"text-align: right;\">\n",
       "      <th></th>\n",
       "      <th>Iris-setosa</th>\n",
       "      <th>Iris-versicolor</th>\n",
       "      <th>Iris-virginica</th>\n",
       "    </tr>\n",
       "  </thead>\n",
       "  <tbody>\n",
       "    <tr>\n",
       "      <th>0</th>\n",
       "      <td>1</td>\n",
       "      <td>0</td>\n",
       "      <td>0</td>\n",
       "    </tr>\n",
       "    <tr>\n",
       "      <th>1</th>\n",
       "      <td>1</td>\n",
       "      <td>0</td>\n",
       "      <td>0</td>\n",
       "    </tr>\n",
       "    <tr>\n",
       "      <th>2</th>\n",
       "      <td>1</td>\n",
       "      <td>0</td>\n",
       "      <td>0</td>\n",
       "    </tr>\n",
       "    <tr>\n",
       "      <th>3</th>\n",
       "      <td>1</td>\n",
       "      <td>0</td>\n",
       "      <td>0</td>\n",
       "    </tr>\n",
       "    <tr>\n",
       "      <th>4</th>\n",
       "      <td>1</td>\n",
       "      <td>0</td>\n",
       "      <td>0</td>\n",
       "    </tr>\n",
       "  </tbody>\n",
       "</table>\n",
       "</div>"
      ],
      "text/plain": [
       "   Iris-setosa  Iris-versicolor  Iris-virginica\n",
       "0            1                0               0\n",
       "1            1                0               0\n",
       "2            1                0               0\n",
       "3            1                0               0\n",
       "4            1                0               0"
      ]
     },
     "execution_count": 38,
     "metadata": {},
     "output_type": "execute_result"
    }
   ],
   "source": [
    "y_en.head()"
   ]
  },
  {
   "cell_type": "markdown",
   "metadata": {
    "colab_type": "text",
    "id": "QBCfIFH8TyOV"
   },
   "source": [
    "### Divide the dataset into Training and test (70:30)"
   ]
  },
  {
   "cell_type": "code",
   "execution_count": 39,
   "metadata": {},
   "outputs": [],
   "source": [
    "X_train, X_test, y_train, y_test = train_test_split(X, y_en, test_size=0.33, random_state=42)"
   ]
  },
  {
   "cell_type": "code",
   "execution_count": 40,
   "metadata": {},
   "outputs": [
    {
     "data": {
      "text/plain": [
       "((100, 4), (50, 4), (100, 3), (50, 3))"
      ]
     },
     "execution_count": 40,
     "metadata": {},
     "output_type": "execute_result"
    }
   ],
   "source": [
    "X_train.shape, X_test.shape, y_train.shape, y_test.shape"
   ]
  },
  {
   "cell_type": "markdown",
   "metadata": {
    "colab_type": "text",
    "id": "N31GZ7-YTyOY"
   },
   "source": [
    "### Model\n",
    "Build the model with following layers: <br>\n",
    "1. First dense layer with 10 neurons with input shape 4 (according to the feature set) <br>\n",
    "2. Second Dense layer with 8 neurons <br>\n",
    "3. Output layer with 3 neurons with softmax activation (output layer, 3 neurons as we have 3 classes) <br>\n",
    "4. Use SGD and categorical_crossentropy loss "
   ]
  },
  {
   "cell_type": "code",
   "execution_count": 41,
   "metadata": {
    "colab": {},
    "colab_type": "code",
    "id": "5mNXvtQiTyOa"
   },
   "outputs": [
    {
     "name": "stdout",
     "output_type": "stream",
     "text": [
      "WARNING:tensorflow:From C:\\Users\\Beejal\\Anaconda3\\lib\\site-packages\\keras\\backend\\tensorflow_backend.py:3445: calling dropout (from tensorflow.python.ops.nn_ops) with keep_prob is deprecated and will be removed in a future version.\n",
      "Instructions for updating:\n",
      "Please use `rate` instead of `keep_prob`. Rate should be set to `rate = 1 - keep_prob`.\n",
      "_________________________________________________________________\n",
      "Layer (type)                 Output Shape              Param #   \n",
      "=================================================================\n",
      "dense_3 (Dense)              (None, 10)                50        \n",
      "_________________________________________________________________\n",
      "dropout_1 (Dropout)          (None, 10)                0         \n",
      "_________________________________________________________________\n",
      "dense_4 (Dense)              (None, 8)                 88        \n",
      "_________________________________________________________________\n",
      "dropout_2 (Dropout)          (None, 8)                 0         \n",
      "_________________________________________________________________\n",
      "dense_5 (Dense)              (None, 3)                 27        \n",
      "=================================================================\n",
      "Total params: 165\n",
      "Trainable params: 165\n",
      "Non-trainable params: 0\n",
      "_________________________________________________________________\n"
     ]
    }
   ],
   "source": [
    "# define some hyper parameters \n",
    "n_inputs = 4\n",
    "n_classes = len(y.unique())\n",
    "batch_size = 100 \n",
    "n_epochs = 150\n",
    "\n",
    "# [Beejal] To achieve more accuracy, I have used 'relu' as activation function (Non Linear function) \n",
    "# & Optimizer as 'Nadam'.\n",
    "# Combination of 'sigmoid' as activation function (Non Linear function) & SGD (Linear function)\n",
    "# was giving just 30% accuracy\n",
    "model = Sequential() # the first layer has to specify the dimensions of the input vector \n",
    "model.add( Dense( units = 10, activation ='relu', input_shape =( n_inputs,))) # add dropout layer for preventing overfitting \n",
    "model.add( Dropout( 0.1)) \n",
    "model.add( Dense( units = 8, activation ='relu')) \n",
    "model.add( Dropout( 0.1)) # output layer can only have the neurons equal to the number of outputs \n",
    "model.add( Dense( units = n_classes, activation ='softmax')) # print the summary of our model \n",
    "model.summary() \n",
    "\n",
    "# compile the model \n",
    "model.compile( loss ='categorical_crossentropy', optimizer = Nadam(), metrics =['accuracy'])"
   ]
  },
  {
   "cell_type": "markdown",
   "metadata": {
    "colab_type": "text",
    "id": "IMqTdhwfTyOf"
   },
   "source": [
    "### Fitting the model and predicting "
   ]
  },
  {
   "cell_type": "code",
   "execution_count": 42,
   "metadata": {
    "colab": {},
    "colab_type": "code",
    "id": "z9tI_ZAJTyOg"
   },
   "outputs": [
    {
     "name": "stdout",
     "output_type": "stream",
     "text": [
      "Epoch 1/150\n",
      "100/100 [==============================] - 1s 6ms/step - loss: 5.3817 - acc: 0.3500\n",
      "Epoch 2/150\n",
      "100/100 [==============================] - 0s 61us/step - loss: 5.3198 - acc: 0.3500\n",
      "Epoch 3/150\n",
      "100/100 [==============================] - 0s 10us/step - loss: 4.8868 - acc: 0.3500\n",
      "Epoch 4/150\n",
      "100/100 [==============================] - 0s 32us/step - loss: 5.0827 - acc: 0.3500\n",
      "Epoch 5/150\n",
      "100/100 [==============================] - 0s 52us/step - loss: 4.6884 - acc: 0.3500\n",
      "Epoch 6/150\n",
      "100/100 [==============================] - 0s 37us/step - loss: 4.5133 - acc: 0.3500\n",
      "Epoch 7/150\n",
      "100/100 [==============================] - 0s 34us/step - loss: 4.2811 - acc: 0.3500\n",
      "Epoch 8/150\n",
      "100/100 [==============================] - 0s 36us/step - loss: 4.6672 - acc: 0.3500\n",
      "Epoch 9/150\n",
      "100/100 [==============================] - 0s 46us/step - loss: 4.4417 - acc: 0.3500\n",
      "Epoch 10/150\n",
      "100/100 [==============================] - 0s 28us/step - loss: 4.1679 - acc: 0.3500\n",
      "Epoch 11/150\n",
      "100/100 [==============================] - 0s 40us/step - loss: 4.1584 - acc: 0.3500\n",
      "Epoch 12/150\n",
      "100/100 [==============================] - 0s 57us/step - loss: 3.9685 - acc: 0.3500\n",
      "Epoch 13/150\n",
      "100/100 [==============================] - 0s 37us/step - loss: 3.4950 - acc: 0.3500\n",
      "Epoch 14/150\n",
      "100/100 [==============================] - 0s 44us/step - loss: 3.7240 - acc: 0.3500\n",
      "Epoch 15/150\n",
      "100/100 [==============================] - 0s 23us/step - loss: 3.4174 - acc: 0.3500\n",
      "Epoch 16/150\n",
      "100/100 [==============================] - 0s 30us/step - loss: 3.2927 - acc: 0.3500\n",
      "Epoch 17/150\n",
      "100/100 [==============================] - 0s 34us/step - loss: 3.2237 - acc: 0.3500\n",
      "Epoch 18/150\n",
      "100/100 [==============================] - 0s 36us/step - loss: 3.1130 - acc: 0.3500\n",
      "Epoch 19/150\n",
      "100/100 [==============================] - 0s 32us/step - loss: 3.0772 - acc: 0.3500\n",
      "Epoch 20/150\n",
      "100/100 [==============================] - 0s 41us/step - loss: 2.5991 - acc: 0.3500\n",
      "Epoch 21/150\n",
      "100/100 [==============================] - 0s 47us/step - loss: 2.6987 - acc: 0.3500\n",
      "Epoch 22/150\n",
      "100/100 [==============================] - 0s 84us/step - loss: 2.5769 - acc: 0.3500\n",
      "Epoch 23/150\n",
      "100/100 [==============================] - 0s 45us/step - loss: 2.5773 - acc: 0.3400\n",
      "Epoch 24/150\n",
      "100/100 [==============================] - 0s 41us/step - loss: 2.3844 - acc: 0.3500\n",
      "Epoch 25/150\n",
      "100/100 [==============================] - 0s 49us/step - loss: 2.3116 - acc: 0.3700\n",
      "Epoch 26/150\n",
      "100/100 [==============================] - 0s 21us/step - loss: 2.0323 - acc: 0.3600\n",
      "Epoch 27/150\n",
      "100/100 [==============================] - 0s 40us/step - loss: 2.3141 - acc: 0.3600\n",
      "Epoch 28/150\n",
      "100/100 [==============================] - 0s 82us/step - loss: 2.0822 - acc: 0.3400\n",
      "Epoch 29/150\n",
      "100/100 [==============================] - 0s 40us/step - loss: 1.9868 - acc: 0.3400\n",
      "Epoch 30/150\n",
      "100/100 [==============================] - 0s 41us/step - loss: 1.9824 - acc: 0.3600\n",
      "Epoch 31/150\n",
      "100/100 [==============================] - 0s 53us/step - loss: 1.9018 - acc: 0.3300\n",
      "Epoch 32/150\n",
      "100/100 [==============================] - 0s 44us/step - loss: 1.8961 - acc: 0.3600\n",
      "Epoch 33/150\n",
      "100/100 [==============================] - 0s 52us/step - loss: 1.6160 - acc: 0.3400\n",
      "Epoch 34/150\n",
      "100/100 [==============================] - 0s 37us/step - loss: 1.5785 - acc: 0.3900\n",
      "Epoch 35/150\n",
      "100/100 [==============================] - 0s 43us/step - loss: 1.4719 - acc: 0.4000\n",
      "Epoch 36/150\n",
      "100/100 [==============================] - 0s 10us/step - loss: 1.5848 - acc: 0.3600\n",
      "Epoch 37/150\n",
      "100/100 [==============================] - 0s 10us/step - loss: 1.5039 - acc: 0.4200\n",
      "Epoch 38/150\n",
      "100/100 [==============================] - 0s 0us/step - loss: 1.5030 - acc: 0.3900\n",
      "Epoch 39/150\n",
      "100/100 [==============================] - 0s 37us/step - loss: 1.6023 - acc: 0.3100\n",
      "Epoch 40/150\n",
      "100/100 [==============================] - 0s 60us/step - loss: 1.3771 - acc: 0.3500\n",
      "Epoch 41/150\n",
      "100/100 [==============================] - 0s 57us/step - loss: 1.2823 - acc: 0.4200\n",
      "Epoch 42/150\n",
      "100/100 [==============================] - 0s 42us/step - loss: 1.3886 - acc: 0.3900\n",
      "Epoch 43/150\n",
      "100/100 [==============================] - 0s 44us/step - loss: 1.2065 - acc: 0.4000\n",
      "Epoch 44/150\n",
      "100/100 [==============================] - 0s 43us/step - loss: 1.3196 - acc: 0.2800\n",
      "Epoch 45/150\n",
      "100/100 [==============================] - 0s 50us/step - loss: 1.1884 - acc: 0.4400\n",
      "Epoch 46/150\n",
      "100/100 [==============================] - 0s 54us/step - loss: 1.0949 - acc: 0.4300\n",
      "Epoch 47/150\n",
      "100/100 [==============================] - 0s 21us/step - loss: 1.2459 - acc: 0.4000\n",
      "Epoch 48/150\n",
      "100/100 [==============================] - 0s 10us/step - loss: 1.0936 - acc: 0.4400\n",
      "Epoch 49/150\n",
      "100/100 [==============================] - 0s 48us/step - loss: 1.1133 - acc: 0.4300\n",
      "Epoch 50/150\n",
      "100/100 [==============================] - 0s 35us/step - loss: 1.2723 - acc: 0.4000\n",
      "Epoch 51/150\n",
      "100/100 [==============================] - 0s 26us/step - loss: 1.1088 - acc: 0.4600\n",
      "Epoch 52/150\n",
      "100/100 [==============================] - 0s 43us/step - loss: 1.0829 - acc: 0.4400\n",
      "Epoch 53/150\n",
      "100/100 [==============================] - 0s 30us/step - loss: 1.0018 - acc: 0.4700\n",
      "Epoch 54/150\n",
      "100/100 [==============================] - 0s 0us/step - loss: 1.0938 - acc: 0.4500\n",
      "Epoch 55/150\n",
      "100/100 [==============================] - 0s 40us/step - loss: 0.9979 - acc: 0.4500\n",
      "Epoch 56/150\n",
      "100/100 [==============================] - 0s 0us/step - loss: 0.9863 - acc: 0.4600\n",
      "Epoch 57/150\n",
      "100/100 [==============================] - 0s 38us/step - loss: 0.9971 - acc: 0.5100\n",
      "Epoch 58/150\n",
      "100/100 [==============================] - 0s 37us/step - loss: 0.9777 - acc: 0.4600\n",
      "Epoch 59/150\n",
      "100/100 [==============================] - 0s 19us/step - loss: 1.0306 - acc: 0.4100\n",
      "Epoch 60/150\n",
      "100/100 [==============================] - 0s 34us/step - loss: 1.0218 - acc: 0.5000\n",
      "Epoch 61/150\n",
      "100/100 [==============================] - 0s 34us/step - loss: 1.0532 - acc: 0.5000\n",
      "Epoch 62/150\n",
      "100/100 [==============================] - 0s 33us/step - loss: 0.9805 - acc: 0.5300\n",
      "Epoch 63/150\n",
      "100/100 [==============================] - 0s 21us/step - loss: 0.9632 - acc: 0.5000\n",
      "Epoch 64/150\n",
      "100/100 [==============================] - 0s 39us/step - loss: 0.9861 - acc: 0.5800\n",
      "Epoch 65/150\n",
      "100/100 [==============================] - 0s 0us/step - loss: 0.9250 - acc: 0.5600\n",
      "Epoch 66/150\n",
      "100/100 [==============================] - 0s 0us/step - loss: 0.9463 - acc: 0.5500\n",
      "Epoch 67/150\n",
      "100/100 [==============================] - 0s 10us/step - loss: 0.9134 - acc: 0.6300\n",
      "Epoch 68/150\n",
      "100/100 [==============================] - 0s 34us/step - loss: 0.9991 - acc: 0.5300\n",
      "Epoch 69/150\n",
      "100/100 [==============================] - 0s 0us/step - loss: 1.0159 - acc: 0.5200\n",
      "Epoch 70/150\n",
      "100/100 [==============================] - 0s 0us/step - loss: 0.9953 - acc: 0.6000\n",
      "Epoch 71/150\n",
      "100/100 [==============================] - 0s 50us/step - loss: 0.9484 - acc: 0.5700\n",
      "Epoch 72/150\n",
      "100/100 [==============================] - 0s 22us/step - loss: 0.9055 - acc: 0.6000\n",
      "Epoch 73/150\n",
      "100/100 [==============================] - 0s 35us/step - loss: 0.9215 - acc: 0.6200\n",
      "Epoch 74/150\n",
      "100/100 [==============================] - 0s 40us/step - loss: 0.8866 - acc: 0.5900\n",
      "Epoch 75/150\n",
      "100/100 [==============================] - 0s 0us/step - loss: 0.8558 - acc: 0.6600\n",
      "Epoch 76/150\n",
      "100/100 [==============================] - 0s 0us/step - loss: 0.8344 - acc: 0.6500\n",
      "Epoch 77/150\n",
      "100/100 [==============================] - 0s 0us/step - loss: 0.8976 - acc: 0.5800\n",
      "Epoch 78/150\n",
      "100/100 [==============================] - 0s 21us/step - loss: 0.8689 - acc: 0.6000\n",
      "Epoch 79/150\n",
      "100/100 [==============================] - 0s 28us/step - loss: 0.9037 - acc: 0.6200\n",
      "Epoch 80/150\n",
      "100/100 [==============================] - 0s 43us/step - loss: 0.8551 - acc: 0.6900\n",
      "Epoch 81/150\n",
      "100/100 [==============================] - 0s 0us/step - loss: 0.8978 - acc: 0.6200\n",
      "Epoch 82/150\n",
      "100/100 [==============================] - 0s 41us/step - loss: 0.9306 - acc: 0.6000\n",
      "Epoch 83/150\n",
      "100/100 [==============================] - 0s 37us/step - loss: 0.8293 - acc: 0.6500\n",
      "Epoch 84/150\n",
      "100/100 [==============================] - 0s 54us/step - loss: 0.8615 - acc: 0.6400\n"
     ]
    },
    {
     "name": "stdout",
     "output_type": "stream",
     "text": [
      "Epoch 85/150\n",
      "100/100 [==============================] - 0s 48us/step - loss: 0.9050 - acc: 0.6900\n",
      "Epoch 86/150\n",
      "100/100 [==============================] - 0s 27us/step - loss: 0.9223 - acc: 0.6300\n",
      "Epoch 87/150\n",
      "100/100 [==============================] - 0s 45us/step - loss: 0.8532 - acc: 0.6600\n",
      "Epoch 88/150\n",
      "100/100 [==============================] - 0s 60us/step - loss: 0.8580 - acc: 0.6400\n",
      "Epoch 89/150\n",
      "100/100 [==============================] - 0s 10us/step - loss: 0.9450 - acc: 0.6200\n",
      "Epoch 90/150\n",
      "100/100 [==============================] - 0s 41us/step - loss: 0.8782 - acc: 0.6500\n",
      "Epoch 91/150\n",
      "100/100 [==============================] - 0s 54us/step - loss: 0.8663 - acc: 0.6100\n",
      "Epoch 92/150\n",
      "100/100 [==============================] - 0s 48us/step - loss: 0.8165 - acc: 0.7000\n",
      "Epoch 93/150\n",
      "100/100 [==============================] - 0s 64us/step - loss: 0.8262 - acc: 0.6600\n",
      "Epoch 94/150\n",
      "100/100 [==============================] - 0s 23us/step - loss: 0.7474 - acc: 0.7000\n",
      "Epoch 95/150\n",
      "100/100 [==============================] - 0s 51us/step - loss: 0.8582 - acc: 0.6500\n",
      "Epoch 96/150\n",
      "100/100 [==============================] - 0s 64us/step - loss: 0.8770 - acc: 0.6300\n",
      "Epoch 97/150\n",
      "100/100 [==============================] - 0s 56us/step - loss: 0.8537 - acc: 0.6300\n",
      "Epoch 98/150\n",
      "100/100 [==============================] - 0s 50us/step - loss: 0.8919 - acc: 0.5900\n",
      "Epoch 99/150\n",
      "100/100 [==============================] - 0s 41us/step - loss: 0.8367 - acc: 0.6600\n",
      "Epoch 100/150\n",
      "100/100 [==============================] - 0s 41us/step - loss: 0.8641 - acc: 0.6400\n",
      "Epoch 101/150\n",
      "100/100 [==============================] - 0s 42us/step - loss: 0.8566 - acc: 0.6300\n",
      "Epoch 102/150\n",
      "100/100 [==============================] - 0s 66us/step - loss: 0.8380 - acc: 0.6400\n",
      "Epoch 103/150\n",
      "100/100 [==============================] - 0s 0us/step - loss: 0.7107 - acc: 0.7100\n",
      "Epoch 104/150\n",
      "100/100 [==============================] - 0s 56us/step - loss: 0.8417 - acc: 0.6500\n",
      "Epoch 105/150\n",
      "100/100 [==============================] - 0s 40us/step - loss: 0.7824 - acc: 0.7000\n",
      "Epoch 106/150\n",
      "100/100 [==============================] - 0s 30us/step - loss: 0.7665 - acc: 0.7100\n",
      "Epoch 107/150\n",
      "100/100 [==============================] - 0s 35us/step - loss: 0.8125 - acc: 0.6900\n",
      "Epoch 108/150\n",
      "100/100 [==============================] - 0s 10us/step - loss: 0.7928 - acc: 0.6400\n",
      "Epoch 109/150\n",
      "100/100 [==============================] - 0s 51us/step - loss: 0.8770 - acc: 0.5800\n",
      "Epoch 110/150\n",
      "100/100 [==============================] - 0s 13us/step - loss: 0.6818 - acc: 0.7200\n",
      "Epoch 111/150\n",
      "100/100 [==============================] - 0s 10us/step - loss: 0.8481 - acc: 0.6700\n",
      "Epoch 112/150\n",
      "100/100 [==============================] - 0s 10us/step - loss: 0.7667 - acc: 0.7000\n",
      "Epoch 113/150\n",
      "100/100 [==============================] - 0s 20us/step - loss: 0.8389 - acc: 0.5800\n",
      "Epoch 114/150\n",
      "100/100 [==============================] - 0s 30us/step - loss: 0.7054 - acc: 0.6800\n",
      "Epoch 115/150\n",
      "100/100 [==============================] - 0s 37us/step - loss: 0.7969 - acc: 0.6300\n",
      "Epoch 116/150\n",
      "100/100 [==============================] - 0s 52us/step - loss: 0.7992 - acc: 0.6800\n",
      "Epoch 117/150\n",
      "100/100 [==============================] - 0s 29us/step - loss: 0.7650 - acc: 0.6900\n",
      "Epoch 118/150\n",
      "100/100 [==============================] - 0s 47us/step - loss: 0.8501 - acc: 0.6300\n",
      "Epoch 119/150\n",
      "100/100 [==============================] - 0s 50us/step - loss: 0.8636 - acc: 0.6400\n",
      "Epoch 120/150\n",
      "100/100 [==============================] - 0s 50us/step - loss: 0.7528 - acc: 0.6900\n",
      "Epoch 121/150\n",
      "100/100 [==============================] - 0s 50us/step - loss: 0.7647 - acc: 0.6100\n",
      "Epoch 122/150\n",
      "100/100 [==============================] - 0s 42us/step - loss: 0.7943 - acc: 0.6500\n",
      "Epoch 123/150\n",
      "100/100 [==============================] - 0s 52us/step - loss: 0.8002 - acc: 0.6000\n",
      "Epoch 124/150\n",
      "100/100 [==============================] - 0s 49us/step - loss: 0.7257 - acc: 0.7000\n",
      "Epoch 125/150\n",
      "100/100 [==============================] - 0s 49us/step - loss: 0.7877 - acc: 0.6400\n",
      "Epoch 126/150\n",
      "100/100 [==============================] - 0s 42us/step - loss: 0.8080 - acc: 0.6800\n",
      "Epoch 127/150\n",
      "100/100 [==============================] - 0s 31us/step - loss: 0.7479 - acc: 0.6200\n",
      "Epoch 128/150\n",
      "100/100 [==============================] - 0s 52us/step - loss: 0.7873 - acc: 0.6700\n",
      "Epoch 129/150\n",
      "100/100 [==============================] - 0s 38us/step - loss: 0.8248 - acc: 0.5900\n",
      "Epoch 130/150\n",
      "100/100 [==============================] - 0s 44us/step - loss: 0.7812 - acc: 0.6200\n",
      "Epoch 131/150\n",
      "100/100 [==============================] - 0s 33us/step - loss: 0.8287 - acc: 0.6300\n",
      "Epoch 132/150\n",
      "100/100 [==============================] - 0s 44us/step - loss: 0.7786 - acc: 0.6700\n",
      "Epoch 133/150\n",
      "100/100 [==============================] - 0s 41us/step - loss: 0.7825 - acc: 0.6500\n",
      "Epoch 134/150\n",
      "100/100 [==============================] - 0s 38us/step - loss: 0.7224 - acc: 0.7000\n",
      "Epoch 135/150\n",
      "100/100 [==============================] - 0s 48us/step - loss: 0.7504 - acc: 0.7300\n",
      "Epoch 136/150\n",
      "100/100 [==============================] - 0s 33us/step - loss: 0.8288 - acc: 0.6000\n",
      "Epoch 137/150\n",
      "100/100 [==============================] - 0s 52us/step - loss: 0.7429 - acc: 0.6700\n",
      "Epoch 138/150\n",
      "100/100 [==============================] - 0s 31us/step - loss: 0.7705 - acc: 0.6200\n",
      "Epoch 139/150\n",
      "100/100 [==============================] - 0s 54us/step - loss: 0.7157 - acc: 0.6700\n",
      "Epoch 140/150\n",
      "100/100 [==============================] - 0s 75us/step - loss: 0.8294 - acc: 0.6300\n",
      "Epoch 141/150\n",
      "100/100 [==============================] - 0s 51us/step - loss: 0.7046 - acc: 0.7100\n",
      "Epoch 142/150\n",
      "100/100 [==============================] - 0s 40us/step - loss: 0.7918 - acc: 0.5900\n",
      "Epoch 143/150\n",
      "100/100 [==============================] - 0s 20us/step - loss: 0.7925 - acc: 0.6400\n",
      "Epoch 144/150\n",
      "100/100 [==============================] - 0s 58us/step - loss: 0.8037 - acc: 0.6500\n",
      "Epoch 145/150\n",
      "100/100 [==============================] - 0s 31us/step - loss: 0.7668 - acc: 0.6400\n",
      "Epoch 146/150\n",
      "100/100 [==============================] - 0s 50us/step - loss: 0.7780 - acc: 0.6200\n",
      "Epoch 147/150\n",
      "100/100 [==============================] - 0s 51us/step - loss: 0.6923 - acc: 0.6700\n",
      "Epoch 148/150\n",
      "100/100 [==============================] - 0s 84us/step - loss: 0.6108 - acc: 0.7600\n",
      "Epoch 149/150\n",
      "100/100 [==============================] - 0s 52us/step - loss: 0.6606 - acc: 0.7100\n",
      "Epoch 150/150\n",
      "100/100 [==============================] - 0s 71us/step - loss: 0.7055 - acc: 0.6600\n"
     ]
    },
    {
     "data": {
      "text/plain": [
       "<keras.callbacks.History at 0x2254e8b5400>"
      ]
     },
     "execution_count": 42,
     "metadata": {},
     "output_type": "execute_result"
    }
   ],
   "source": [
    "# train the model \n",
    "model.fit( X_train, y_train, batch_size = batch_size, epochs = n_epochs) "
   ]
  },
  {
   "cell_type": "code",
   "execution_count": 43,
   "metadata": {},
   "outputs": [],
   "source": [
    "y_pred = model.predict(X_test)"
   ]
  },
  {
   "cell_type": "code",
   "execution_count": 44,
   "metadata": {
    "colab": {},
    "colab_type": "code",
    "id": "e4-Rfd5iTyOj"
   },
   "outputs": [
    {
     "name": "stdout",
     "output_type": "stream",
     "text": [
      "50/50 [==============================] - 0s 2ms/step\n"
     ]
    }
   ],
   "source": [
    "# evaluate the model and print the accuracy score \n",
    "scores = model.evaluate(X_test, y_test)"
   ]
  },
  {
   "cell_type": "markdown",
   "metadata": {
    "colab_type": "text",
    "id": "z39NQp9dTyOp"
   },
   "source": [
    "### Report Accuracy of the predicted values"
   ]
  },
  {
   "cell_type": "code",
   "execution_count": 45,
   "metadata": {
    "colab": {},
    "colab_type": "code",
    "id": "zJL7Lgm-TyOp"
   },
   "outputs": [
    {
     "name": "stdout",
     "output_type": "stream",
     "text": [
      "loss: 0.5342120730876923\n",
      "accuracy: 0.8599999904632568\n"
     ]
    }
   ],
   "source": [
    "print('loss:', scores[0]) \n",
    "print('accuracy:', scores[1])"
   ]
  }
 ],
 "metadata": {
  "colab": {
   "name": "R6_InternalLab_AIML.ipynb",
   "provenance": [],
   "version": "0.3.2"
  },
  "kernelspec": {
   "display_name": "Python 3",
   "language": "python",
   "name": "python3"
  },
  "language_info": {
   "codemirror_mode": {
    "name": "ipython",
    "version": 3
   },
   "file_extension": ".py",
   "mimetype": "text/x-python",
   "name": "python",
   "nbconvert_exporter": "python",
   "pygments_lexer": "ipython3",
   "version": "3.7.3"
  }
 },
 "nbformat": 4,
 "nbformat_minor": 1
}
