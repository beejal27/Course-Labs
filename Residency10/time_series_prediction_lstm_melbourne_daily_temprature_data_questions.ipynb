{
 "cells": [
  {
   "cell_type": "markdown",
   "metadata": {},
   "source": [
    "## Time Series Prediction using LSTM"
   ]
  },
  {
   "cell_type": "markdown",
   "metadata": {},
   "source": [
    "### Download Data\n",
    "Link: https://datamarket.com/data/set/2324/daily-minimum-temperatures-in-melbourne-australia-1981-1990#!ds=2324&display=line\n",
    "\n",
    "#### Description\n",
    "Daily minimum temperatures in Melbourne, Australia, 1981-1990\n",
    "\n",
    "Units: Degrees Celcius\n",
    "\n",
    "#### Steps before loading\n",
    "- Rename the column name with temprature values to \"Temprature\"\n",
    "- In the last, there is one extra row in the data, remove it by opening the file and save it again.\n",
    "- There are some values in Temprature column which have a \"?\" before them, they will give error, remove \"?\" before them and save the file\n",
    "- If you don't want to do these steps, just load the data file given by Great Learning."
   ]
  },
  {
   "cell_type": "markdown",
   "metadata": {},
   "source": [
    "#### Mount google drive"
   ]
  },
  {
   "cell_type": "code",
   "execution_count": 10,
   "metadata": {
    "colab": {
     "base_uri": "https://localhost:8080/",
     "height": 122
    },
    "colab_type": "code",
    "id": "VjoLRSg57qlt",
    "outputId": "921fa685-1256-4bd1-ccff-a68abe0b08d2"
   },
   "outputs": [],
   "source": [
    "import pandas as pd\n",
    "import numpy as np\n",
    "import matplotlib.pyplot as plt\n",
    "%matplotlib inline\n",
    "import seaborn as sns"
   ]
  },
  {
   "cell_type": "markdown",
   "metadata": {},
   "source": [
    "#### Change your present working directory"
   ]
  },
  {
   "cell_type": "code",
   "execution_count": null,
   "metadata": {},
   "outputs": [],
   "source": []
  },
  {
   "cell_type": "markdown",
   "metadata": {},
   "source": [
    "### Load your data file"
   ]
  },
  {
   "cell_type": "code",
   "execution_count": 4,
   "metadata": {
    "colab": {
     "base_uri": "https://localhost:8080/",
     "height": 486
    },
    "colab_type": "code",
    "id": "AanHqGBu7Jw2",
    "outputId": "a47cdd4d-d71a-4ce6-b193-6ccf23714cf2"
   },
   "outputs": [
    {
     "data": {
      "text/html": [
       "<div>\n",
       "<style scoped>\n",
       "    .dataframe tbody tr th:only-of-type {\n",
       "        vertical-align: middle;\n",
       "    }\n",
       "\n",
       "    .dataframe tbody tr th {\n",
       "        vertical-align: top;\n",
       "    }\n",
       "\n",
       "    .dataframe thead th {\n",
       "        text-align: right;\n",
       "    }\n",
       "</style>\n",
       "<table border=\"1\" class=\"dataframe\">\n",
       "  <thead>\n",
       "    <tr style=\"text-align: right;\">\n",
       "      <th></th>\n",
       "      <th>Date</th>\n",
       "      <th>Temperature</th>\n",
       "    </tr>\n",
       "  </thead>\n",
       "  <tbody>\n",
       "    <tr>\n",
       "      <th>0</th>\n",
       "      <td>1981-01-01</td>\n",
       "      <td>20.7</td>\n",
       "    </tr>\n",
       "    <tr>\n",
       "      <th>1</th>\n",
       "      <td>1981-01-02</td>\n",
       "      <td>17.9</td>\n",
       "    </tr>\n",
       "    <tr>\n",
       "      <th>2</th>\n",
       "      <td>1981-01-03</td>\n",
       "      <td>18.8</td>\n",
       "    </tr>\n",
       "    <tr>\n",
       "      <th>3</th>\n",
       "      <td>1981-01-04</td>\n",
       "      <td>14.6</td>\n",
       "    </tr>\n",
       "    <tr>\n",
       "      <th>4</th>\n",
       "      <td>1981-01-05</td>\n",
       "      <td>15.8</td>\n",
       "    </tr>\n",
       "    <tr>\n",
       "      <th>5</th>\n",
       "      <td>1981-01-06</td>\n",
       "      <td>15.8</td>\n",
       "    </tr>\n",
       "    <tr>\n",
       "      <th>6</th>\n",
       "      <td>1981-01-07</td>\n",
       "      <td>15.8</td>\n",
       "    </tr>\n",
       "    <tr>\n",
       "      <th>7</th>\n",
       "      <td>1981-01-08</td>\n",
       "      <td>17.4</td>\n",
       "    </tr>\n",
       "  </tbody>\n",
       "</table>\n",
       "</div>"
      ],
      "text/plain": [
       "         Date  Temperature\n",
       "0  1981-01-01         20.7\n",
       "1  1981-01-02         17.9\n",
       "2  1981-01-03         18.8\n",
       "3  1981-01-04         14.6\n",
       "4  1981-01-05         15.8\n",
       "5  1981-01-06         15.8\n",
       "6  1981-01-07         15.8\n",
       "7  1981-01-08         17.4"
      ]
     },
     "execution_count": 4,
     "metadata": {},
     "output_type": "execute_result"
    }
   ],
   "source": [
    "df = pd.read_csv('daily-minimum-temperatures-in-me.csv')\n",
    "df.sort_index(inplace=True)\n",
    "df.head(8)"
   ]
  },
  {
   "cell_type": "markdown",
   "metadata": {},
   "source": [
    "#### Plot data"
   ]
  },
  {
   "cell_type": "code",
   "execution_count": 26,
   "metadata": {},
   "outputs": [
    {
     "data": {
      "text/plain": [
       "(3650, 1)"
      ]
     },
     "execution_count": 26,
     "metadata": {},
     "output_type": "execute_result"
    }
   ],
   "source": [
    "df.shape"
   ]
  },
  {
   "cell_type": "code",
   "execution_count": 9,
   "metadata": {},
   "outputs": [
    {
     "data": {
      "text/plain": [
       "<matplotlib.axes._subplots.AxesSubplot at 0x1a4729ad548>"
      ]
     },
     "execution_count": 9,
     "metadata": {},
     "output_type": "execute_result"
    },
    {
     "data": {
      "image/png": "[encoded data removed]",
      "text/plain": [
       "<Figure size 432x288 with 1 Axes>"
      ]
     },
     "metadata": {
      "needs_background": "light"
     },
     "output_type": "display_data"
    }
   ],
   "source": [
    "df.plot()"
   ]
  },
  {
   "cell_type": "markdown",
   "metadata": {},
   "source": [
    "#### Descibe your dataframe"
   ]
  },
  {
   "cell_type": "code",
   "execution_count": 6,
   "metadata": {
    "colab": {
     "base_uri": "https://localhost:8080/",
     "height": 284
    },
    "colab_type": "code",
    "id": "oBWNA_kG7JxC",
    "outputId": "20125bf8-6ef9-493f-8804-d61f295919a3"
   },
   "outputs": [
    {
     "data": {
      "text/html": [
       "<div>\n",
       "<style scoped>\n",
       "    .dataframe tbody tr th:only-of-type {\n",
       "        vertical-align: middle;\n",
       "    }\n",
       "\n",
       "    .dataframe tbody tr th {\n",
       "        vertical-align: top;\n",
       "    }\n",
       "\n",
       "    .dataframe thead th {\n",
       "        text-align: right;\n",
       "    }\n",
       "</style>\n",
       "<table border=\"1\" class=\"dataframe\">\n",
       "  <thead>\n",
       "    <tr style=\"text-align: right;\">\n",
       "      <th></th>\n",
       "      <th>Temperature</th>\n",
       "    </tr>\n",
       "  </thead>\n",
       "  <tbody>\n",
       "    <tr>\n",
       "      <th>count</th>\n",
       "      <td>3650.000000</td>\n",
       "    </tr>\n",
       "    <tr>\n",
       "      <th>mean</th>\n",
       "      <td>11.177753</td>\n",
       "    </tr>\n",
       "    <tr>\n",
       "      <th>std</th>\n",
       "      <td>4.071837</td>\n",
       "    </tr>\n",
       "    <tr>\n",
       "      <th>min</th>\n",
       "      <td>0.000000</td>\n",
       "    </tr>\n",
       "    <tr>\n",
       "      <th>25%</th>\n",
       "      <td>8.300000</td>\n",
       "    </tr>\n",
       "    <tr>\n",
       "      <th>50%</th>\n",
       "      <td>11.000000</td>\n",
       "    </tr>\n",
       "    <tr>\n",
       "      <th>75%</th>\n",
       "      <td>14.000000</td>\n",
       "    </tr>\n",
       "    <tr>\n",
       "      <th>max</th>\n",
       "      <td>26.300000</td>\n",
       "    </tr>\n",
       "  </tbody>\n",
       "</table>\n",
       "</div>"
      ],
      "text/plain": [
       "       Temperature\n",
       "count  3650.000000\n",
       "mean     11.177753\n",
       "std       4.071837\n",
       "min       0.000000\n",
       "25%       8.300000\n",
       "50%      11.000000\n",
       "75%      14.000000\n",
       "max      26.300000"
      ]
     },
     "execution_count": 6,
     "metadata": {},
     "output_type": "execute_result"
    }
   ],
   "source": [
    "df.describe()"
   ]
  },
  {
   "cell_type": "markdown",
   "metadata": {},
   "source": [
    "#### Check for null values"
   ]
  },
  {
   "cell_type": "code",
   "execution_count": 7,
   "metadata": {
    "colab": {
     "base_uri": "https://localhost:8080/",
     "height": 50
    },
    "colab_type": "code",
    "id": "97MVIy_N7JxH",
    "outputId": "99a95285-60e0-40da-cc29-0928c02f3f1f"
   },
   "outputs": [
    {
     "data": {
      "text/plain": [
       "Date           0\n",
       "Temperature    0\n",
       "dtype: int64"
      ]
     },
     "execution_count": 7,
     "metadata": {},
     "output_type": "execute_result"
    }
   ],
   "source": [
    "df.isnull().sum()"
   ]
  },
  {
   "cell_type": "markdown",
   "metadata": {},
   "source": [
    "#### Drop null values"
   ]
  },
  {
   "cell_type": "code",
   "execution_count": null,
   "metadata": {
    "colab": {},
    "colab_type": "code",
    "id": "fgh7mdOI7JxS"
   },
   "outputs": [],
   "source": [
    "# There aren't any null values"
   ]
  },
  {
   "cell_type": "markdown",
   "metadata": {},
   "source": [
    "#### Get the representation of the distribution of data in the form of histogram"
   ]
  },
  {
   "cell_type": "code",
   "execution_count": 12,
   "metadata": {
    "colab": {
     "base_uri": "https://localhost:8080/",
     "height": 395
    },
    "colab_type": "code",
    "id": "659sLAx27Jxc",
    "outputId": "71c29143-30d4-4d88-919c-65fb4ba3b0fb"
   },
   "outputs": [
    {
     "data": {
      "text/plain": [
       "(array([ 53., 181., 564., 862., 830., 670., 347., 102.,  32.,   9.]),\n",
       " array([ 0.  ,  2.63,  5.26,  7.89, 10.52, 13.15, 15.78, 18.41, 21.04,\n",
       "        23.67, 26.3 ]),\n",
       " <a list of 10 Patch objects>)"
      ]
     },
     "execution_count": 12,
     "metadata": {},
     "output_type": "execute_result"
    },
    {
     "data": {
      "image/png": "[encoded data removed]",
      "text/plain": [
       "<Figure size 432x288 with 1 Axes>"
      ]
     },
     "metadata": {
      "needs_background": "light"
     },
     "output_type": "display_data"
    }
   ],
   "source": [
    "#plt.plot(df['Temperature']\n",
    "plt.hist(x=df['Temperature'])"
   ]
  },
  {
   "cell_type": "markdown",
   "metadata": {},
   "source": [
    "#### Check the maximum and minimum values"
   ]
  },
  {
   "cell_type": "code",
   "execution_count": 14,
   "metadata": {
    "colab": {
     "base_uri": "https://localhost:8080/",
     "height": 84
    },
    "colab_type": "code",
    "id": "WmkjCx8c7Jxn",
    "outputId": "c2618394-70bb-43d8-b07b-e928d0fee975"
   },
   "outputs": [
    {
     "data": {
      "text/plain": [
       "(26.3, 0.0)"
      ]
     },
     "execution_count": 14,
     "metadata": {},
     "output_type": "execute_result"
    }
   ],
   "source": [
    "df['Temperature'].max(), df['Temperature'].min()"
   ]
  },
  {
   "cell_type": "markdown",
   "metadata": {},
   "source": [
    "### Normalize the data"
   ]
  },
  {
   "cell_type": "code",
   "execution_count": 15,
   "metadata": {
    "colab": {
     "base_uri": "https://localhost:8080/",
     "height": 50
    },
    "colab_type": "code",
    "id": "fb4SNzD27Jxw",
    "outputId": "5161e76f-3f41-4a37-9cee-0e0085b206a6"
   },
   "outputs": [],
   "source": [
    "df.drop(\"Date\", axis=1, inplace=True)"
   ]
  },
  {
   "cell_type": "code",
   "execution_count": 16,
   "metadata": {},
   "outputs": [],
   "source": [
    "from sklearn.preprocessing import MinMaxScaler"
   ]
  },
  {
   "cell_type": "code",
   "execution_count": 17,
   "metadata": {},
   "outputs": [],
   "source": [
    "scaler = MinMaxScaler(feature_range=(0, 1))\n",
    "scaled = scaler.fit_transform(df)"
   ]
  },
  {
   "cell_type": "markdown",
   "metadata": {},
   "source": [
    "#### Check the maximum and minimum values of scaled data"
   ]
  },
  {
   "cell_type": "code",
   "execution_count": 23,
   "metadata": {
    "colab": {
     "base_uri": "https://localhost:8080/",
     "height": 50
    },
    "colab_type": "code",
    "id": "clv2rSfL7Jx4",
    "outputId": "e428ea49-9536-4df8-9cbc-8d305e07a74b"
   },
   "outputs": [
    {
     "data": {
      "text/plain": [
       "(0.0, 1.0)"
      ]
     },
     "execution_count": 23,
     "metadata": {},
     "output_type": "execute_result"
    }
   ],
   "source": [
    "# We have given feature_range as (0, 1). It means min should be 0 & max should be 1\n",
    "scaled.min(), scaled.max()"
   ]
  },
  {
   "cell_type": "markdown",
   "metadata": {},
   "source": [
    "#### Look into some of the scaled values"
   ]
  },
  {
   "cell_type": "code",
   "execution_count": 24,
   "metadata": {
    "colab": {
     "base_uri": "https://localhost:8080/",
     "height": 185
    },
    "colab_type": "code",
    "id": "Xq9CBinO7Jx9",
    "outputId": "ebbbcbf5-ea48-46dd-9ce8-038e17dd15a0"
   },
   "outputs": [
    {
     "data": {
      "text/plain": [
       "array([[0.78707224],\n",
       "       [0.68060837],\n",
       "       [0.7148289 ],\n",
       "       [0.55513308],\n",
       "       [0.60076046]])"
      ]
     },
     "execution_count": 24,
     "metadata": {},
     "output_type": "execute_result"
    }
   ],
   "source": [
    "scaled[0:5]"
   ]
  },
  {
   "cell_type": "markdown",
   "metadata": {},
   "source": [
    "### Split data into Training and Testing"
   ]
  },
  {
   "cell_type": "code",
   "execution_count": 28,
   "metadata": {
    "colab": {
     "base_uri": "https://localhost:8080/",
     "height": 50
    },
    "colab_type": "code",
    "id": "-0Uh7lCO7JyD",
    "outputId": "917976aa-b4fc-494a-bd72-90b806e170d3"
   },
   "outputs": [
    {
     "name": "stdout",
     "output_type": "stream",
     "text": [
      "train_end_index :  2555\n",
      "test_end_index :  3650\n",
      "len train: 2555\n",
      "len test: 1095\n"
     ]
    }
   ],
   "source": [
    "#70% examples will used for training (in the begining)\n",
    "train_end_index = int(len(scaled) * 0.70)\n",
    "print('train_end_index : ', train_end_index)\n",
    "\n",
    "#30% will be used for Test\n",
    "test_end_index = len(scaled - train_end_index)\n",
    "print('test_end_index : ', test_end_index)\n",
    "\n",
    "#Split the data\n",
    "train, test = scaled[0:train_end_index, :], scaled[train_end_index: len(scaled), :]\n",
    "print('len train: {}\\nlen test: {}'.format(len(train), len(test)))"
   ]
  },
  {
   "cell_type": "markdown",
   "metadata": {},
   "source": [
    "#### Print train and test size"
   ]
  },
  {
   "cell_type": "code",
   "execution_count": null,
   "metadata": {},
   "outputs": [],
   "source": [
    "# Printed above"
   ]
  },
  {
   "cell_type": "markdown",
   "metadata": {},
   "source": [
    "## Create the sequential data\n",
    "Map the temprature at a particular time t to the temprature at time t+n, where n is any number you define.\n",
    "\n",
    "For example: to map tempratures of consecutive days, use t+1, i.e. loop_back = 1"
   ]
  },
  {
   "cell_type": "markdown",
   "metadata": {},
   "source": [
    "#### Define your function to create dataset"
   ]
  },
  {
   "cell_type": "code",
   "execution_count": 29,
   "metadata": {
    "colab": {},
    "colab_type": "code",
    "id": "jWIvInPB7JyK"
   },
   "outputs": [],
   "source": [
    "#window - how long the sequence will be\n",
    "def create_dataset(dataset, window=1):\n",
    "    \n",
    "    dataX, dataY = [], []\n",
    "    \n",
    "    for i in range(len(dataset)-window):\n",
    "        \n",
    "        a = dataset[i:(i+window), 0]        \n",
    "        dataX.append(a)\n",
    "        dataY.append(dataset[i + window, 0])\n",
    "    \n",
    "    return np.array(dataX), np.array(dataY)"
   ]
  },
  {
   "cell_type": "markdown",
   "metadata": {},
   "source": [
    "#### Use function to get training and test set"
   ]
  },
  {
   "cell_type": "code",
   "execution_count": 30,
   "metadata": {
    "colab": {
     "base_uri": "https://localhost:8080/",
     "height": 11810
    },
    "colab_type": "code",
    "id": "uarOJcPk7JyQ",
    "outputId": "ad8963e8-04cc-4b80-ff66-db92cd78c023",
    "scrolled": true
   },
   "outputs": [],
   "source": [
    "window_size = 1\n",
    "X_train, y_train = create_dataset(train, window_size)\n",
    "X_test, y_test = create_dataset(test, window_size)"
   ]
  },
  {
   "cell_type": "code",
   "execution_count": 31,
   "metadata": {
    "colab": {
     "base_uri": "https://localhost:8080/",
     "height": 50
    },
    "colab_type": "code",
    "id": "UJZ4VB4N7JyV",
    "outputId": "7a736a0a-1de0-47a7-9f37-5137f4fa3a98"
   },
   "outputs": [
    {
     "data": {
      "text/plain": [
       "((2554, 1), (2554,))"
      ]
     },
     "execution_count": 31,
     "metadata": {},
     "output_type": "execute_result"
    }
   ],
   "source": [
    "X_train.shape, y_train.shape"
   ]
  },
  {
   "cell_type": "code",
   "execution_count": 32,
   "metadata": {},
   "outputs": [
    {
     "data": {
      "text/plain": [
       "((1094, 1), (1094,))"
      ]
     },
     "execution_count": 32,
     "metadata": {},
     "output_type": "execute_result"
    }
   ],
   "source": [
    "X_test.shape, y_test.shape"
   ]
  },
  {
   "cell_type": "markdown",
   "metadata": {},
   "source": [
    "#### Transform the prepared train and test input data into the expected structure using numpy.reshape()"
   ]
  },
  {
   "cell_type": "code",
   "execution_count": 33,
   "metadata": {},
   "outputs": [
    {
     "name": "stdout",
     "output_type": "stream",
     "text": [
      "(2554, 1, 1)\n",
      "(1094, 1, 1)\n"
     ]
    }
   ],
   "source": [
    "#Make it 3 Dimensional Data - needed for LSTM\n",
    "X_train = np.reshape(X_train, (X_train.shape[0], X_train.shape[1], 1))\n",
    "X_test = np.reshape(X_test, (X_test.shape[0], X_test.shape[1], 1))\n",
    "print(X_train.shape)\n",
    "print(X_test.shape)"
   ]
  },
  {
   "cell_type": "markdown",
   "metadata": {},
   "source": [
    "## Define Model"
   ]
  },
  {
   "cell_type": "markdown",
   "metadata": {},
   "source": [
    "### Define sequntial model, add LSTM layer and compile the model"
   ]
  },
  {
   "cell_type": "code",
   "execution_count": 34,
   "metadata": {
    "colab": {
     "base_uri": "https://localhost:8080/",
     "height": 3514
    },
    "colab_type": "code",
    "id": "yRW-Txvt7Jya",
    "outputId": "f459387c-b6a4-4436-8f9f-f98fcfa19f20"
   },
   "outputs": [],
   "source": [
    "import tensorflow as tf\n",
    "\n",
    "tf.keras.backend.clear_session()\n",
    "model = tf.keras.Sequential()\n",
    "model.add(tf.keras.layers.LSTM(32, input_shape=(window_size, 1)))\n",
    "model.add(tf.keras.layers.Dense(1))\n",
    "model.compile(optimizer='adam', loss='mse')"
   ]
  },
  {
   "cell_type": "markdown",
   "metadata": {},
   "source": [
    "### Summarize your model"
   ]
  },
  {
   "cell_type": "code",
   "execution_count": 35,
   "metadata": {},
   "outputs": [
    {
     "name": "stdout",
     "output_type": "stream",
     "text": [
      "Model: \"sequential\"\n",
      "_________________________________________________________________\n",
      "Layer (type)                 Output Shape              Param #   \n",
      "=================================================================\n",
      "lstm (LSTM)                  (None, 32)                4352      \n",
      "_________________________________________________________________\n",
      "dense (Dense)                (None, 1)                 33        \n",
      "=================================================================\n",
      "Total params: 4,385\n",
      "Trainable params: 4,385\n",
      "Non-trainable params: 0\n",
      "_________________________________________________________________\n"
     ]
    }
   ],
   "source": [
    "model.summary()"
   ]
  },
  {
   "cell_type": "markdown",
   "metadata": {},
   "source": [
    "### Train the model"
   ]
  },
  {
   "cell_type": "code",
   "execution_count": 36,
   "metadata": {},
   "outputs": [
    {
     "name": "stdout",
     "output_type": "stream",
     "text": [
      "Train on 2554 samples, validate on 1094 samples\n",
      "Epoch 1/400\n",
      "2554/2554 [==============================] - 12s 5ms/sample - loss: 0.1114 - val_loss: 0.0392\n",
      "Epoch 2/400\n",
      "2554/2554 [==============================] - 1s 494us/sample - loss: 0.0190 - val_loss: 0.0140\n",
      "Epoch 3/400\n",
      "2554/2554 [==============================] - 1s 480us/sample - loss: 0.0147 - val_loss: 0.0132\n",
      "Epoch 4/400\n",
      "2554/2554 [==============================] - 1s 483us/sample - loss: 0.0138 - val_loss: 0.0122\n",
      "Epoch 5/400\n",
      "2554/2554 [==============================] - 1s 509us/sample - loss: 0.0129 - val_loss: 0.0113\n",
      "Epoch 6/400\n",
      "2554/2554 [==============================] - 1s 515us/sample - loss: 0.0121 - val_loss: 0.0105\n",
      "Epoch 7/400\n",
      "2554/2554 [==============================] - 1s 503us/sample - loss: 0.0114 - val_loss: 0.0099\n",
      "Epoch 8/400\n",
      "2554/2554 [==============================] - 1s 494us/sample - loss: 0.0109 - val_loss: 0.0096\n",
      "Epoch 9/400\n",
      "2554/2554 [==============================] - 1s 518us/sample - loss: 0.0105 - val_loss: 0.0090\n",
      "Epoch 10/400\n",
      "2554/2554 [==============================] - 1s 495us/sample - loss: 0.0103 - val_loss: 0.0089\n",
      "Epoch 11/400\n",
      "2554/2554 [==============================] - 1s 518us/sample - loss: 0.0101 - val_loss: 0.0088\n",
      "Epoch 12/400\n",
      "2554/2554 [==============================] - 1s 501us/sample - loss: 0.0101 - val_loss: 0.0087\n",
      "Epoch 13/400\n",
      "2554/2554 [==============================] - 1s 506us/sample - loss: 0.0100 - val_loss: 0.0087\n",
      "Epoch 14/400\n",
      "2554/2554 [==============================] - 1s 487us/sample - loss: 0.0101 - val_loss: 0.0087\n",
      "Epoch 15/400\n",
      "2554/2554 [==============================] - 1s 486us/sample - loss: 0.0101 - val_loss: 0.0086\n",
      "Epoch 16/400\n",
      "2554/2554 [==============================] - 1s 488us/sample - loss: 0.0101 - val_loss: 0.0087\n",
      "Epoch 17/400\n",
      "2554/2554 [==============================] - 1s 484us/sample - loss: 0.0101 - val_loss: 0.0088\n",
      "Epoch 18/400\n",
      "2554/2554 [==============================] - 1s 515us/sample - loss: 0.0101 - val_loss: 0.0088\n",
      "Epoch 19/400\n",
      "2554/2554 [==============================] - 1s 495us/sample - loss: 0.0101 - val_loss: 0.0088\n",
      "Epoch 20/400\n",
      "2554/2554 [==============================] - 1s 512us/sample - loss: 0.0101 - val_loss: 0.0089\n",
      "Epoch 21/400\n",
      "2554/2554 [==============================] - 1s 516us/sample - loss: 0.0100 - val_loss: 0.0086\n",
      "Epoch 22/400\n",
      "2554/2554 [==============================] - 1s 511us/sample - loss: 0.0101 - val_loss: 0.0087\n",
      "Epoch 23/400\n",
      "2554/2554 [==============================] - 1s 545us/sample - loss: 0.0101 - val_loss: 0.0086\n",
      "Epoch 24/400\n",
      "2554/2554 [==============================] - 1s 506us/sample - loss: 0.0100 - val_loss: 0.0086\n",
      "Epoch 25/400\n",
      "2554/2554 [==============================] - 1s 505us/sample - loss: 0.0101 - val_loss: 0.0089\n",
      "Epoch 26/400\n",
      "2554/2554 [==============================] - 1s 531us/sample - loss: 0.0101 - val_loss: 0.0087\n",
      "Epoch 27/400\n",
      "2554/2554 [==============================] - 1s 557us/sample - loss: 0.0101 - val_loss: 0.0087\n",
      "Epoch 28/400\n",
      "2554/2554 [==============================] - 1s 516us/sample - loss: 0.0101 - val_loss: 0.0087\n",
      "Epoch 29/400\n",
      "2554/2554 [==============================] - 1s 474us/sample - loss: 0.0101 - val_loss: 0.0087\n",
      "Epoch 30/400\n",
      "2554/2554 [==============================] - 1s 484us/sample - loss: 0.0100 - val_loss: 0.0087\n",
      "Epoch 31/400\n",
      "2554/2554 [==============================] - 1s 480us/sample - loss: 0.0101 - val_loss: 0.0087\n",
      "Epoch 32/400\n",
      "2554/2554 [==============================] - 1s 524us/sample - loss: 0.0100 - val_loss: 0.0086\n",
      "Epoch 33/400\n",
      "2554/2554 [==============================] - 1s 502us/sample - loss: 0.0101 - val_loss: 0.0087\n",
      "Epoch 34/400\n",
      "2554/2554 [==============================] - 1s 501us/sample - loss: 0.0101 - val_loss: 0.0087\n",
      "Epoch 35/400\n",
      "2554/2554 [==============================] - 1s 507us/sample - loss: 0.0101 - val_loss: 0.0086\n",
      "Epoch 36/400\n",
      "2554/2554 [==============================] - 1s 484us/sample - loss: 0.0100 - val_loss: 0.0087\n",
      "Epoch 37/400\n",
      "2554/2554 [==============================] - 1s 508us/sample - loss: 0.0100 - val_loss: 0.0087\n",
      "Epoch 38/400\n",
      "2554/2554 [==============================] - 1s 508us/sample - loss: 0.0101 - val_loss: 0.0088\n",
      "Epoch 39/400\n",
      "2554/2554 [==============================] - 1s 481us/sample - loss: 0.0100 - val_loss: 0.0087\n",
      "Epoch 40/400\n",
      "2554/2554 [==============================] - 1s 486us/sample - loss: 0.0100 - val_loss: 0.0086\n",
      "Epoch 41/400\n",
      "2554/2554 [==============================] - 1s 500us/sample - loss: 0.0101 - val_loss: 0.0088\n",
      "Epoch 42/400\n",
      "2554/2554 [==============================] - 1s 506us/sample - loss: 0.0100 - val_loss: 0.0086\n",
      "Epoch 43/400\n",
      "2554/2554 [==============================] - 1s 517us/sample - loss: 0.0100 - val_loss: 0.0088\n",
      "Epoch 44/400\n",
      "2554/2554 [==============================] - 1s 501us/sample - loss: 0.0100 - val_loss: 0.0093\n",
      "Epoch 45/400\n",
      "2554/2554 [==============================] - 1s 490us/sample - loss: 0.0100 - val_loss: 0.0086\n",
      "Epoch 46/400\n",
      "2554/2554 [==============================] - 1s 514us/sample - loss: 0.0100 - val_loss: 0.0087\n",
      "Epoch 47/400\n",
      "2554/2554 [==============================] - 1s 496us/sample - loss: 0.0100 - val_loss: 0.0088\n",
      "Epoch 48/400\n",
      "2554/2554 [==============================] - 1s 504us/sample - loss: 0.0100 - val_loss: 0.0087\n",
      "Epoch 49/400\n",
      "2554/2554 [==============================] - 1s 512us/sample - loss: 0.0100 - val_loss: 0.0087\n",
      "Epoch 50/400\n",
      "2554/2554 [==============================] - 1s 488us/sample - loss: 0.0100 - val_loss: 0.0086\n",
      "Epoch 51/400\n",
      "2554/2554 [==============================] - 1s 487us/sample - loss: 0.0100 - val_loss: 0.0087\n",
      "Epoch 52/400\n",
      "2554/2554 [==============================] - 1s 479us/sample - loss: 0.0100 - val_loss: 0.0087\n",
      "Epoch 53/400\n",
      "2554/2554 [==============================] - 1s 480us/sample - loss: 0.0100 - val_loss: 0.0089\n",
      "Epoch 54/400\n",
      "2554/2554 [==============================] - 1s 494us/sample - loss: 0.0101 - val_loss: 0.0087\n",
      "Epoch 55/400\n",
      "2554/2554 [==============================] - 1s 557us/sample - loss: 0.0100 - val_loss: 0.0088\n",
      "Epoch 56/400\n",
      "2554/2554 [==============================] - 1s 531us/sample - loss: 0.0101 - val_loss: 0.0086\n",
      "Epoch 57/400\n",
      "2554/2554 [==============================] - 1s 518us/sample - loss: 0.0100 - val_loss: 0.0086\n",
      "Epoch 58/400\n",
      "2554/2554 [==============================] - 1s 500us/sample - loss: 0.0100 - val_loss: 0.0088\n",
      "Epoch 59/400\n",
      "2554/2554 [==============================] - 1s 480us/sample - loss: 0.0100 - val_loss: 0.0086\n",
      "Epoch 60/400\n",
      "2554/2554 [==============================] - 1s 475us/sample - loss: 0.0100 - val_loss: 0.0086\n",
      "Epoch 61/400\n",
      "2554/2554 [==============================] - 1s 466us/sample - loss: 0.0100 - val_loss: 0.0086\n",
      "Epoch 62/400\n",
      "2554/2554 [==============================] - 1s 466us/sample - loss: 0.0100 - val_loss: 0.0087\n",
      "Epoch 63/400\n",
      "2554/2554 [==============================] - 1s 469us/sample - loss: 0.0100 - val_loss: 0.0087\n",
      "Epoch 64/400\n",
      "2554/2554 [==============================] - 1s 488us/sample - loss: 0.0100 - val_loss: 0.0089\n",
      "Epoch 65/400\n",
      "2554/2554 [==============================] - 1s 507us/sample - loss: 0.0100 - val_loss: 0.0086\n",
      "Epoch 66/400\n",
      "2554/2554 [==============================] - 1s 528us/sample - loss: 0.0100 - val_loss: 0.0087\n",
      "Epoch 67/400\n",
      "2554/2554 [==============================] - 1s 545us/sample - loss: 0.0100 - val_loss: 0.0087\n",
      "Epoch 68/400\n",
      "2554/2554 [==============================] - 1s 562us/sample - loss: 0.0100 - val_loss: 0.0086\n",
      "Epoch 69/400\n",
      "2554/2554 [==============================] - 1s 541us/sample - loss: 0.0100 - val_loss: 0.0087\n",
      "Epoch 70/400\n",
      "2554/2554 [==============================] - 1s 537us/sample - loss: 0.0101 - val_loss: 0.0090\n",
      "Epoch 71/400\n",
      "2554/2554 [==============================] - 1s 537us/sample - loss: 0.0100 - val_loss: 0.0086\n",
      "Epoch 72/400\n",
      "2554/2554 [==============================] - 1s 519us/sample - loss: 0.0100 - val_loss: 0.0087\n",
      "Epoch 73/400\n",
      "2554/2554 [==============================] - 1s 499us/sample - loss: 0.0101 - val_loss: 0.0086\n",
      "Epoch 74/400\n",
      "2554/2554 [==============================] - 1s 538us/sample - loss: 0.0100 - val_loss: 0.0086\n",
      "Epoch 75/400\n",
      "2554/2554 [==============================] - 1s 532us/sample - loss: 0.0100 - val_loss: 0.0090\n",
      "Epoch 76/400\n"
     ]
    },
    {
     "name": "stdout",
     "output_type": "stream",
     "text": [
      "2554/2554 [==============================] - 1s 508us/sample - loss: 0.0100 - val_loss: 0.0087\n",
      "Epoch 77/400\n",
      "2554/2554 [==============================] - 1s 491us/sample - loss: 0.0100 - val_loss: 0.0087\n",
      "Epoch 78/400\n",
      "2554/2554 [==============================] - 1s 478us/sample - loss: 0.0100 - val_loss: 0.0086\n",
      "Epoch 79/400\n",
      "2554/2554 [==============================] - 1s 488us/sample - loss: 0.0100 - val_loss: 0.0087\n",
      "Epoch 80/400\n",
      "2554/2554 [==============================] - 1s 480us/sample - loss: 0.0100 - val_loss: 0.0086\n",
      "Epoch 81/400\n",
      "2554/2554 [==============================] - 1s 481us/sample - loss: 0.0100 - val_loss: 0.0089\n",
      "Epoch 82/400\n",
      "2554/2554 [==============================] - 1s 478us/sample - loss: 0.0101 - val_loss: 0.0087\n",
      "Epoch 83/400\n",
      "2554/2554 [==============================] - 1s 491us/sample - loss: 0.0100 - val_loss: 0.0090\n",
      "Epoch 84/400\n",
      "2554/2554 [==============================] - 1s 510us/sample - loss: 0.0100 - val_loss: 0.0086\n",
      "Epoch 85/400\n",
      "2554/2554 [==============================] - 1s 567us/sample - loss: 0.0100 - val_loss: 0.0087\n",
      "Epoch 86/400\n",
      "2554/2554 [==============================] - 1s 496us/sample - loss: 0.0100 - val_loss: 0.0087\n",
      "Epoch 87/400\n",
      "2554/2554 [==============================] - 1s 462us/sample - loss: 0.0100 - val_loss: 0.0087\n",
      "Epoch 88/400\n",
      "2554/2554 [==============================] - 1s 482us/sample - loss: 0.0100 - val_loss: 0.0086\n",
      "Epoch 89/400\n",
      "2554/2554 [==============================] - 1s 492us/sample - loss: 0.0100 - val_loss: 0.0087\n",
      "Epoch 90/400\n",
      "2554/2554 [==============================] - 1s 475us/sample - loss: 0.0100 - val_loss: 0.0090\n",
      "Epoch 91/400\n",
      "2554/2554 [==============================] - 1s 487us/sample - loss: 0.0101 - val_loss: 0.0086\n",
      "Epoch 92/400\n",
      "2554/2554 [==============================] - 1s 503us/sample - loss: 0.0100 - val_loss: 0.0088\n",
      "Epoch 93/400\n",
      "2554/2554 [==============================] - 2s 591us/sample - loss: 0.0100 - val_loss: 0.0086\n",
      "Epoch 94/400\n",
      "2554/2554 [==============================] - 1s 533us/sample - loss: 0.0100 - val_loss: 0.0086\n",
      "Epoch 95/400\n",
      "2554/2554 [==============================] - 1s 498us/sample - loss: 0.0100 - val_loss: 0.0087\n",
      "Epoch 96/400\n",
      "2554/2554 [==============================] - 1s 533us/sample - loss: 0.0100 - val_loss: 0.0087\n",
      "Epoch 97/400\n",
      "2554/2554 [==============================] - 1s 520us/sample - loss: 0.0100 - val_loss: 0.0087\n",
      "Epoch 98/400\n",
      "2554/2554 [==============================] - 1s 509us/sample - loss: 0.0100 - val_loss: 0.0086\n",
      "Epoch 99/400\n",
      "2554/2554 [==============================] - 1s 531us/sample - loss: 0.0100 - val_loss: 0.0087\n",
      "Epoch 100/400\n",
      "2554/2554 [==============================] - 1s 546us/sample - loss: 0.0100 - val_loss: 0.0087\n",
      "Epoch 101/400\n",
      "2554/2554 [==============================] - 1s 500us/sample - loss: 0.0101 - val_loss: 0.0086\n",
      "Epoch 102/400\n",
      "2554/2554 [==============================] - 1s 535us/sample - loss: 0.0100 - val_loss: 0.0088\n",
      "Epoch 103/400\n",
      "2554/2554 [==============================] - 1s 577us/sample - loss: 0.0100 - val_loss: 0.0087\n",
      "Epoch 104/400\n",
      "2554/2554 [==============================] - 1s 565us/sample - loss: 0.0100 - val_loss: 0.0086\n",
      "Epoch 105/400\n",
      "2554/2554 [==============================] - 1s 569us/sample - loss: 0.0100 - val_loss: 0.0086\n",
      "Epoch 106/400\n",
      "2554/2554 [==============================] - 1s 546us/sample - loss: 0.0100 - val_loss: 0.0087\n",
      "Epoch 107/400\n",
      "2554/2554 [==============================] - 1s 518us/sample - loss: 0.0100 - val_loss: 0.0086\n",
      "Epoch 108/400\n",
      "2554/2554 [==============================] - 1s 490us/sample - loss: 0.0100 - val_loss: 0.0087\n",
      "Epoch 109/400\n",
      "2554/2554 [==============================] - 1s 532us/sample - loss: 0.0100 - val_loss: 0.0088\n",
      "Epoch 110/400\n",
      "2554/2554 [==============================] - 1s 524us/sample - loss: 0.0100 - val_loss: 0.0088\n",
      "Epoch 111/400\n",
      "2554/2554 [==============================] - 1s 536us/sample - loss: 0.0100 - val_loss: 0.0088\n",
      "Epoch 112/400\n",
      "2554/2554 [==============================] - 1s 501us/sample - loss: 0.0100 - val_loss: 0.0086\n",
      "Epoch 113/400\n",
      "2554/2554 [==============================] - 1s 491us/sample - loss: 0.0100 - val_loss: 0.0087\n",
      "Epoch 114/400\n",
      "2554/2554 [==============================] - 1s 534us/sample - loss: 0.0100 - val_loss: 0.0087\n",
      "Epoch 115/400\n",
      "2554/2554 [==============================] - 1s 542us/sample - loss: 0.0099 - val_loss: 0.0087\n",
      "Epoch 116/400\n",
      "2554/2554 [==============================] - 1s 490us/sample - loss: 0.0100 - val_loss: 0.0087\n",
      "Epoch 117/400\n",
      "2554/2554 [==============================] - 1s 520us/sample - loss: 0.0100 - val_loss: 0.0088\n",
      "Epoch 118/400\n",
      "2554/2554 [==============================] - 1s 538us/sample - loss: 0.0100 - val_loss: 0.0087\n",
      "Epoch 119/400\n",
      "2554/2554 [==============================] - 1s 563us/sample - loss: 0.0100 - val_loss: 0.0087\n",
      "Epoch 120/400\n",
      "2554/2554 [==============================] - 1s 499us/sample - loss: 0.0100 - val_loss: 0.0086\n",
      "Epoch 121/400\n",
      "2554/2554 [==============================] - 1s 566us/sample - loss: 0.0100 - val_loss: 0.0088\n",
      "Epoch 122/400\n",
      "2554/2554 [==============================] - 1s 518us/sample - loss: 0.0100 - val_loss: 0.0087\n",
      "Epoch 123/400\n",
      "2554/2554 [==============================] - 1s 484us/sample - loss: 0.0100 - val_loss: 0.0087\n",
      "Epoch 124/400\n",
      "2554/2554 [==============================] - 1s 502us/sample - loss: 0.0100 - val_loss: 0.0087\n",
      "Epoch 125/400\n",
      "2554/2554 [==============================] - 1s 562us/sample - loss: 0.0100 - val_loss: 0.0087\n",
      "Epoch 126/400\n",
      "2554/2554 [==============================] - 1s 517us/sample - loss: 0.0099 - val_loss: 0.0087\n",
      "Epoch 127/400\n",
      "2554/2554 [==============================] - 1s 509us/sample - loss: 0.0100 - val_loss: 0.0087\n",
      "Epoch 128/400\n",
      "2554/2554 [==============================] - 1s 579us/sample - loss: 0.0100 - val_loss: 0.0088\n",
      "Epoch 129/400\n",
      "2554/2554 [==============================] - 1s 500us/sample - loss: 0.0100 - val_loss: 0.0087\n",
      "Epoch 130/400\n",
      "2554/2554 [==============================] - 1s 531us/sample - loss: 0.0100 - val_loss: 0.0087\n",
      "Epoch 131/400\n",
      "2554/2554 [==============================] - 1s 507us/sample - loss: 0.0100 - val_loss: 0.0087\n",
      "Epoch 132/400\n",
      "2554/2554 [==============================] - 1s 526us/sample - loss: 0.0100 - val_loss: 0.0087\n",
      "Epoch 133/400\n",
      "2554/2554 [==============================] - 1s 502us/sample - loss: 0.0100 - val_loss: 0.0087\n",
      "Epoch 134/400\n",
      "2554/2554 [==============================] - 1s 542us/sample - loss: 0.0100 - val_loss: 0.0089\n",
      "Epoch 135/400\n",
      "2554/2554 [==============================] - 1s 548us/sample - loss: 0.0100 - val_loss: 0.0088\n",
      "Epoch 136/400\n",
      "2554/2554 [==============================] - 1s 552us/sample - loss: 0.0100 - val_loss: 0.0087\n",
      "Epoch 137/400\n",
      "2554/2554 [==============================] - 1s 546us/sample - loss: 0.0100 - val_loss: 0.0087\n",
      "Epoch 138/400\n",
      "2554/2554 [==============================] - 1s 583us/sample - loss: 0.0099 - val_loss: 0.0091\n",
      "Epoch 139/400\n",
      "2554/2554 [==============================] - 1s 523us/sample - loss: 0.0101 - val_loss: 0.0088\n",
      "Epoch 140/400\n",
      "2554/2554 [==============================] - 1s 520us/sample - loss: 0.0100 - val_loss: 0.0087\n",
      "Epoch 141/400\n",
      "2554/2554 [==============================] - 1s 505us/sample - loss: 0.0100 - val_loss: 0.0087\n",
      "Epoch 142/400\n",
      "2554/2554 [==============================] - 1s 575us/sample - loss: 0.0100 - val_loss: 0.0087\n",
      "Epoch 143/400\n",
      "2554/2554 [==============================] - 1s 517us/sample - loss: 0.0100 - val_loss: 0.0088\n",
      "Epoch 144/400\n",
      "2554/2554 [==============================] - 1s 507us/sample - loss: 0.0100 - val_loss: 0.0087\n",
      "Epoch 145/400\n",
      "2554/2554 [==============================] - 1s 501us/sample - loss: 0.0100 - val_loss: 0.0088\n",
      "Epoch 146/400\n",
      "2554/2554 [==============================] - 1s 496us/sample - loss: 0.0100 - val_loss: 0.0089\n",
      "Epoch 147/400\n",
      "2554/2554 [==============================] - 1s 520us/sample - loss: 0.0100 - val_loss: 0.0088\n",
      "Epoch 148/400\n",
      "2554/2554 [==============================] - 1s 528us/sample - loss: 0.0100 - val_loss: 0.0089\n",
      "Epoch 149/400\n",
      "2554/2554 [==============================] - 1s 496us/sample - loss: 0.0100 - val_loss: 0.0087\n",
      "Epoch 150/400\n",
      "2554/2554 [==============================] - 1s 529us/sample - loss: 0.0100 - val_loss: 0.0087\n",
      "Epoch 151/400\n"
     ]
    },
    {
     "name": "stdout",
     "output_type": "stream",
     "text": [
      "2554/2554 [==============================] - 1s 520us/sample - loss: 0.0100 - val_loss: 0.0087\n",
      "Epoch 152/400\n",
      "2554/2554 [==============================] - 1s 563us/sample - loss: 0.0100 - val_loss: 0.0087\n",
      "Epoch 153/400\n",
      "2554/2554 [==============================] - 2s 594us/sample - loss: 0.0100 - val_loss: 0.0088\n",
      "Epoch 154/400\n",
      "2554/2554 [==============================] - 2s 613us/sample - loss: 0.0100 - val_loss: 0.0087\n",
      "Epoch 155/400\n",
      "2554/2554 [==============================] - 1s 552us/sample - loss: 0.0100 - val_loss: 0.0088\n",
      "Epoch 156/400\n",
      "2554/2554 [==============================] - 1s 524us/sample - loss: 0.0100 - val_loss: 0.0087\n",
      "Epoch 157/400\n",
      "2554/2554 [==============================] - 1s 458us/sample - loss: 0.0100 - val_loss: 0.0087\n",
      "Epoch 158/400\n",
      "2554/2554 [==============================] - 1s 457us/sample - loss: 0.0100 - val_loss: 0.0087\n",
      "Epoch 159/400\n",
      "2554/2554 [==============================] - 1s 447us/sample - loss: 0.0100 - val_loss: 0.0088\n",
      "Epoch 160/400\n",
      "2554/2554 [==============================] - 1s 449us/sample - loss: 0.0100 - val_loss: 0.0087\n",
      "Epoch 161/400\n",
      "2554/2554 [==============================] - 1s 449us/sample - loss: 0.0099 - val_loss: 0.0089\n",
      "Epoch 162/400\n",
      "2554/2554 [==============================] - 1s 451us/sample - loss: 0.0100 - val_loss: 0.0088\n",
      "Epoch 163/400\n",
      "2554/2554 [==============================] - 1s 582us/sample - loss: 0.0100 - val_loss: 0.0087\n",
      "Epoch 164/400\n",
      "2554/2554 [==============================] - 1s 581us/sample - loss: 0.0100 - val_loss: 0.0090\n",
      "Epoch 165/400\n",
      "2554/2554 [==============================] - 1s 548us/sample - loss: 0.0100 - val_loss: 0.0087\n",
      "Epoch 166/400\n",
      "2554/2554 [==============================] - 1s 535us/sample - loss: 0.0100 - val_loss: 0.0087\n",
      "Epoch 167/400\n",
      "2554/2554 [==============================] - 1s 568us/sample - loss: 0.0100 - val_loss: 0.0087\n",
      "Epoch 168/400\n",
      "2554/2554 [==============================] - 1s 552us/sample - loss: 0.0100 - val_loss: 0.0088\n",
      "Epoch 169/400\n",
      "2554/2554 [==============================] - 1s 538us/sample - loss: 0.0100 - val_loss: 0.0088\n",
      "Epoch 170/400\n",
      "2554/2554 [==============================] - 1s 529us/sample - loss: 0.0100 - val_loss: 0.0087\n",
      "Epoch 171/400\n",
      "2554/2554 [==============================] - 1s 530us/sample - loss: 0.0100 - val_loss: 0.0088\n",
      "Epoch 172/400\n",
      "2554/2554 [==============================] - 1s 525us/sample - loss: 0.0100 - val_loss: 0.0087\n",
      "Epoch 173/400\n",
      "2554/2554 [==============================] - 1s 504us/sample - loss: 0.0100 - val_loss: 0.0089\n",
      "Epoch 174/400\n",
      "2554/2554 [==============================] - 1s 479us/sample - loss: 0.0100 - val_loss: 0.0087\n",
      "Epoch 175/400\n",
      "2554/2554 [==============================] - 1s 512us/sample - loss: 0.0100 - val_loss: 0.0087\n",
      "Epoch 176/400\n",
      "2554/2554 [==============================] - 1s 524us/sample - loss: 0.0100 - val_loss: 0.0087\n",
      "Epoch 177/400\n",
      "2554/2554 [==============================] - 1s 497us/sample - loss: 0.0099 - val_loss: 0.0087\n",
      "Epoch 178/400\n",
      "2554/2554 [==============================] - 1s 483us/sample - loss: 0.0100 - val_loss: 0.0087\n",
      "Epoch 179/400\n",
      "2554/2554 [==============================] - 1s 526us/sample - loss: 0.0100 - val_loss: 0.0088\n",
      "Epoch 180/400\n",
      "2554/2554 [==============================] - 1s 481us/sample - loss: 0.0100 - val_loss: 0.0087\n",
      "Epoch 181/400\n",
      "2554/2554 [==============================] - 1s 503us/sample - loss: 0.0100 - val_loss: 0.0087\n",
      "Epoch 182/400\n",
      "2554/2554 [==============================] - 1s 510us/sample - loss: 0.0101 - val_loss: 0.0087\n",
      "Epoch 183/400\n",
      "2554/2554 [==============================] - 1s 521us/sample - loss: 0.0100 - val_loss: 0.0087\n",
      "Epoch 184/400\n",
      "2554/2554 [==============================] - 1s 478us/sample - loss: 0.0100 - val_loss: 0.0088\n",
      "Epoch 185/400\n",
      "2554/2554 [==============================] - 1s 517us/sample - loss: 0.0100 - val_loss: 0.0087\n",
      "Epoch 186/400\n",
      "2554/2554 [==============================] - 1s 537us/sample - loss: 0.0100 - val_loss: 0.0087\n",
      "Epoch 187/400\n",
      "2554/2554 [==============================] - 1s 566us/sample - loss: 0.0100 - val_loss: 0.0087\n",
      "Epoch 188/400\n",
      "2554/2554 [==============================] - 1s 517us/sample - loss: 0.0100 - val_loss: 0.0088\n",
      "Epoch 189/400\n",
      "2554/2554 [==============================] - 1s 565us/sample - loss: 0.0100 - val_loss: 0.0088\n",
      "Epoch 190/400\n",
      "2554/2554 [==============================] - 1s 496us/sample - loss: 0.0100 - val_loss: 0.0088\n",
      "Epoch 191/400\n",
      "2554/2554 [==============================] - 1s 580us/sample - loss: 0.0100 - val_loss: 0.0090\n",
      "Epoch 192/400\n",
      "2554/2554 [==============================] - 1s 536us/sample - loss: 0.0099 - val_loss: 0.0087\n",
      "Epoch 193/400\n",
      "2554/2554 [==============================] - 1s 585us/sample - loss: 0.0100 - val_loss: 0.0088\n",
      "Epoch 194/400\n",
      "2554/2554 [==============================] - 1s 527us/sample - loss: 0.0100 - val_loss: 0.0087\n",
      "Epoch 195/400\n",
      "2554/2554 [==============================] - 1s 543us/sample - loss: 0.0100 - val_loss: 0.0087\n",
      "Epoch 196/400\n",
      "2554/2554 [==============================] - 1s 461us/sample - loss: 0.0099 - val_loss: 0.0087\n",
      "Epoch 197/400\n",
      "2554/2554 [==============================] - 1s 453us/sample - loss: 0.0100 - val_loss: 0.0088\n",
      "Epoch 198/400\n",
      "2554/2554 [==============================] - 1s 451us/sample - loss: 0.0100 - val_loss: 0.0088\n",
      "Epoch 199/400\n",
      "2554/2554 [==============================] - 1s 451us/sample - loss: 0.0100 - val_loss: 0.0087\n",
      "Epoch 200/400\n",
      "2554/2554 [==============================] - 1s 449us/sample - loss: 0.0100 - val_loss: 0.0087\n",
      "Epoch 201/400\n",
      "2554/2554 [==============================] - 1s 448us/sample - loss: 0.0100 - val_loss: 0.0087\n",
      "Epoch 202/400\n",
      "2554/2554 [==============================] - 1s 452us/sample - loss: 0.0100 - val_loss: 0.0089\n",
      "Epoch 203/400\n",
      "2554/2554 [==============================] - 1s 452us/sample - loss: 0.0099 - val_loss: 0.0087\n",
      "Epoch 204/400\n",
      "2554/2554 [==============================] - 1s 449us/sample - loss: 0.0100 - val_loss: 0.0089\n",
      "Epoch 205/400\n",
      "2554/2554 [==============================] - 1s 453us/sample - loss: 0.0100 - val_loss: 0.0087\n",
      "Epoch 206/400\n",
      "2554/2554 [==============================] - 1s 511us/sample - loss: 0.0099 - val_loss: 0.0088\n",
      "Epoch 207/400\n",
      "2554/2554 [==============================] - 1s 574us/sample - loss: 0.0100 - val_loss: 0.0087\n",
      "Epoch 208/400\n",
      "2554/2554 [==============================] - 1s 453us/sample - loss: 0.0100 - val_loss: 0.0090\n",
      "Epoch 209/400\n",
      "2554/2554 [==============================] - 1s 453us/sample - loss: 0.0100 - val_loss: 0.0087\n",
      "Epoch 210/400\n",
      "2554/2554 [==============================] - 1s 454us/sample - loss: 0.0100 - val_loss: 0.0089\n",
      "Epoch 211/400\n",
      "2554/2554 [==============================] - 1s 450us/sample - loss: 0.0100 - val_loss: 0.0088\n",
      "Epoch 212/400\n",
      "2554/2554 [==============================] - 1s 449us/sample - loss: 0.0100 - val_loss: 0.0087\n",
      "Epoch 213/400\n",
      "2554/2554 [==============================] - 1s 478us/sample - loss: 0.0100 - val_loss: 0.0090\n",
      "Epoch 214/400\n",
      "2554/2554 [==============================] - 1s 484us/sample - loss: 0.0100 - val_loss: 0.0087\n",
      "Epoch 215/400\n",
      "2554/2554 [==============================] - 1s 536us/sample - loss: 0.0100 - val_loss: 0.0090\n",
      "Epoch 216/400\n",
      "2554/2554 [==============================] - 1s 562us/sample - loss: 0.0100 - val_loss: 0.0088\n",
      "Epoch 217/400\n",
      "2554/2554 [==============================] - 1s 532us/sample - loss: 0.0099 - val_loss: 0.0088\n",
      "Epoch 218/400\n",
      "2554/2554 [==============================] - 1s 551us/sample - loss: 0.0099 - val_loss: 0.0088\n",
      "Epoch 219/400\n",
      "2554/2554 [==============================] - 1s 520us/sample - loss: 0.0100 - val_loss: 0.0087\n",
      "Epoch 220/400\n",
      "2554/2554 [==============================] - 1s 505us/sample - loss: 0.0100 - val_loss: 0.0088\n",
      "Epoch 221/400\n",
      "2554/2554 [==============================] - 1s 480us/sample - loss: 0.0100 - val_loss: 0.0087\n",
      "Epoch 222/400\n",
      "2554/2554 [==============================] - 1s 501us/sample - loss: 0.0100 - val_loss: 0.0089\n",
      "Epoch 223/400\n",
      "2554/2554 [==============================] - 1s 506us/sample - loss: 0.0100 - val_loss: 0.0088\n",
      "Epoch 224/400\n",
      "2554/2554 [==============================] - 1s 489us/sample - loss: 0.0100 - val_loss: 0.0088\n",
      "Epoch 225/400\n",
      "2554/2554 [==============================] - 1s 530us/sample - loss: 0.0099 - val_loss: 0.0087\n",
      "Epoch 226/400\n"
     ]
    },
    {
     "name": "stdout",
     "output_type": "stream",
     "text": [
      "2554/2554 [==============================] - 1s 526us/sample - loss: 0.0100 - val_loss: 0.0088\n",
      "Epoch 227/400\n",
      "2554/2554 [==============================] - 1s 507us/sample - loss: 0.0100 - val_loss: 0.0087\n",
      "Epoch 228/400\n",
      "2554/2554 [==============================] - 1s 515us/sample - loss: 0.0100 - val_loss: 0.0087\n",
      "Epoch 229/400\n",
      "2554/2554 [==============================] - 1s 527us/sample - loss: 0.0100 - val_loss: 0.0090\n",
      "Epoch 230/400\n",
      "2554/2554 [==============================] - 1s 516us/sample - loss: 0.0099 - val_loss: 0.0087\n",
      "Epoch 231/400\n",
      "2554/2554 [==============================] - 1s 545us/sample - loss: 0.0099 - val_loss: 0.0087\n",
      "Epoch 232/400\n",
      "2554/2554 [==============================] - 1s 516us/sample - loss: 0.0100 - val_loss: 0.0087\n",
      "Epoch 233/400\n",
      "2554/2554 [==============================] - 1s 491us/sample - loss: 0.0100 - val_loss: 0.0087\n",
      "Epoch 234/400\n",
      "2554/2554 [==============================] - 1s 483us/sample - loss: 0.0100 - val_loss: 0.0087\n",
      "Epoch 235/400\n",
      "2554/2554 [==============================] - 1s 502us/sample - loss: 0.0100 - val_loss: 0.0088\n",
      "Epoch 236/400\n",
      "2554/2554 [==============================] - 1s 569us/sample - loss: 0.0100 - val_loss: 0.0087\n",
      "Epoch 237/400\n",
      "2554/2554 [==============================] - 1s 537us/sample - loss: 0.0101 - val_loss: 0.0087\n",
      "Epoch 238/400\n",
      "2554/2554 [==============================] - 1s 497us/sample - loss: 0.0100 - val_loss: 0.0087\n",
      "Epoch 239/400\n",
      "2554/2554 [==============================] - 1s 517us/sample - loss: 0.0100 - val_loss: 0.0087\n",
      "Epoch 240/400\n",
      "2554/2554 [==============================] - 1s 522us/sample - loss: 0.0100 - val_loss: 0.0088\n",
      "Epoch 241/400\n",
      "2554/2554 [==============================] - 1s 503us/sample - loss: 0.0101 - val_loss: 0.0087\n",
      "Epoch 242/400\n",
      "2554/2554 [==============================] - 1s 535us/sample - loss: 0.0100 - val_loss: 0.0087\n",
      "Epoch 243/400\n",
      "2554/2554 [==============================] - 1s 484us/sample - loss: 0.0100 - val_loss: 0.0087\n",
      "Epoch 244/400\n",
      "2554/2554 [==============================] - 1s 574us/sample - loss: 0.0100 - val_loss: 0.0087\n",
      "Epoch 245/400\n",
      "2554/2554 [==============================] - 1s 480us/sample - loss: 0.0099 - val_loss: 0.0089\n",
      "Epoch 246/400\n",
      "2554/2554 [==============================] - 1s 568us/sample - loss: 0.0100 - val_loss: 0.0087\n",
      "Epoch 247/400\n",
      "2554/2554 [==============================] - 1s 583us/sample - loss: 0.0100 - val_loss: 0.0087\n",
      "Epoch 248/400\n",
      "2554/2554 [==============================] - 1s 476us/sample - loss: 0.0100 - val_loss: 0.0090\n",
      "Epoch 249/400\n",
      "2554/2554 [==============================] - 1s 501us/sample - loss: 0.0100 - val_loss: 0.0087\n",
      "Epoch 250/400\n",
      "2554/2554 [==============================] - 1s 516us/sample - loss: 0.0100 - val_loss: 0.0087\n",
      "Epoch 251/400\n",
      "2554/2554 [==============================] - 1s 497us/sample - loss: 0.0100 - val_loss: 0.0087\n",
      "Epoch 252/400\n",
      "2554/2554 [==============================] - 1s 481us/sample - loss: 0.0100 - val_loss: 0.0087\n",
      "Epoch 253/400\n",
      "2554/2554 [==============================] - 1s 521us/sample - loss: 0.0100 - val_loss: 0.0087\n",
      "Epoch 254/400\n",
      "2554/2554 [==============================] - 1s 481us/sample - loss: 0.0100 - val_loss: 0.0088\n",
      "Epoch 255/400\n",
      "2554/2554 [==============================] - 1s 503us/sample - loss: 0.0100 - val_loss: 0.0087\n",
      "Epoch 256/400\n",
      "2554/2554 [==============================] - 1s 480us/sample - loss: 0.0100 - val_loss: 0.0087\n",
      "Epoch 257/400\n",
      "2554/2554 [==============================] - 1s 520us/sample - loss: 0.0100 - val_loss: 0.0089\n",
      "Epoch 258/400\n",
      "2554/2554 [==============================] - 1s 516us/sample - loss: 0.0100 - val_loss: 0.0090\n",
      "Epoch 259/400\n",
      "2554/2554 [==============================] - 1s 546us/sample - loss: 0.0100 - val_loss: 0.0087\n",
      "Epoch 260/400\n",
      "2554/2554 [==============================] - 1s 524us/sample - loss: 0.0100 - val_loss: 0.0087\n",
      "Epoch 261/400\n",
      "2554/2554 [==============================] - 1s 545us/sample - loss: 0.0100 - val_loss: 0.0087\n",
      "Epoch 262/400\n",
      "2554/2554 [==============================] - 1s 531us/sample - loss: 0.0100 - val_loss: 0.0087\n",
      "Epoch 263/400\n",
      "2554/2554 [==============================] - 1s 531us/sample - loss: 0.0100 - val_loss: 0.0087\n",
      "Epoch 264/400\n",
      "2554/2554 [==============================] - 1s 473us/sample - loss: 0.0100 - val_loss: 0.0087\n",
      "Epoch 265/400\n",
      "2554/2554 [==============================] - 1s 494us/sample - loss: 0.0101 - val_loss: 0.0087\n",
      "Epoch 266/400\n",
      "2554/2554 [==============================] - 1s 484us/sample - loss: 0.0100 - val_loss: 0.0088\n",
      "Epoch 267/400\n",
      "2554/2554 [==============================] - 1s 484us/sample - loss: 0.0100 - val_loss: 0.0088\n",
      "Epoch 268/400\n",
      "2554/2554 [==============================] - 1s 511us/sample - loss: 0.0100 - val_loss: 0.0087\n",
      "Epoch 269/400\n",
      "2554/2554 [==============================] - 1s 493us/sample - loss: 0.0100 - val_loss: 0.0087\n",
      "Epoch 270/400\n",
      "2554/2554 [==============================] - 1s 531us/sample - loss: 0.0100 - val_loss: 0.0087\n",
      "Epoch 271/400\n",
      "2554/2554 [==============================] - 1s 521us/sample - loss: 0.0100 - val_loss: 0.0087\n",
      "Epoch 272/400\n",
      "2554/2554 [==============================] - 1s 465us/sample - loss: 0.0100 - val_loss: 0.0089\n",
      "Epoch 273/400\n",
      "2554/2554 [==============================] - 1s 520us/sample - loss: 0.0100 - val_loss: 0.0087\n",
      "Epoch 274/400\n",
      "2554/2554 [==============================] - 1s 502us/sample - loss: 0.0100 - val_loss: 0.0088\n",
      "Epoch 275/400\n",
      "2554/2554 [==============================] - 1s 523us/sample - loss: 0.0100 - val_loss: 0.0087\n",
      "Epoch 276/400\n",
      "2554/2554 [==============================] - 1s 546us/sample - loss: 0.0100 - val_loss: 0.0087\n",
      "Epoch 277/400\n",
      "2554/2554 [==============================] - 1s 541us/sample - loss: 0.0100 - val_loss: 0.0089\n",
      "Epoch 278/400\n",
      "2554/2554 [==============================] - 1s 577us/sample - loss: 0.0100 - val_loss: 0.0088\n",
      "Epoch 279/400\n",
      "2554/2554 [==============================] - 1s 577us/sample - loss: 0.0099 - val_loss: 0.0087\n",
      "Epoch 280/400\n",
      "2554/2554 [==============================] - 1s 534us/sample - loss: 0.0100 - val_loss: 0.0088\n",
      "Epoch 281/400\n",
      "2554/2554 [==============================] - 1s 506us/sample - loss: 0.0100 - val_loss: 0.0087\n",
      "Epoch 282/400\n",
      "2554/2554 [==============================] - 1s 474us/sample - loss: 0.0100 - val_loss: 0.0087\n",
      "Epoch 283/400\n",
      "2554/2554 [==============================] - 1s 557us/sample - loss: 0.0100 - val_loss: 0.0087\n",
      "Epoch 284/400\n",
      "2554/2554 [==============================] - 1s 494us/sample - loss: 0.0100 - val_loss: 0.0089\n",
      "Epoch 285/400\n",
      "2554/2554 [==============================] - 2s 600us/sample - loss: 0.0100 - val_loss: 0.0087\n",
      "Epoch 286/400\n",
      "2554/2554 [==============================] - 1s 569us/sample - loss: 0.0100 - val_loss: 0.0088\n",
      "Epoch 287/400\n",
      "2554/2554 [==============================] - 1s 479us/sample - loss: 0.0100 - val_loss: 0.0088\n",
      "Epoch 288/400\n",
      "2554/2554 [==============================] - 1s 506us/sample - loss: 0.0100 - val_loss: 0.0089\n",
      "Epoch 289/400\n",
      "2554/2554 [==============================] - 2s 597us/sample - loss: 0.0100 - val_loss: 0.0089\n",
      "Epoch 290/400\n",
      "2554/2554 [==============================] - 1s 515us/sample - loss: 0.0099 - val_loss: 0.0087\n",
      "Epoch 291/400\n",
      "2554/2554 [==============================] - 1s 509us/sample - loss: 0.0100 - val_loss: 0.0087\n",
      "Epoch 292/400\n",
      "2554/2554 [==============================] - 1s 529us/sample - loss: 0.0100 - val_loss: 0.0089\n",
      "Epoch 293/400\n",
      "2554/2554 [==============================] - 1s 567us/sample - loss: 0.0100 - val_loss: 0.0087\n",
      "Epoch 294/400\n",
      "2554/2554 [==============================] - 1s 549us/sample - loss: 0.0100 - val_loss: 0.0087\n",
      "Epoch 295/400\n",
      "2554/2554 [==============================] - 1s 469us/sample - loss: 0.0100 - val_loss: 0.0087\n",
      "Epoch 296/400\n",
      "2554/2554 [==============================] - 1s 453us/sample - loss: 0.0100 - val_loss: 0.0089\n",
      "Epoch 297/400\n",
      "2554/2554 [==============================] - 1s 452us/sample - loss: 0.0100 - val_loss: 0.0087\n",
      "Epoch 298/400\n",
      "2554/2554 [==============================] - 1s 451us/sample - loss: 0.0100 - val_loss: 0.0089\n",
      "Epoch 299/400\n",
      "2554/2554 [==============================] - 1s 448us/sample - loss: 0.0100 - val_loss: 0.0087\n",
      "Epoch 300/400\n",
      "2554/2554 [==============================] - 1s 449us/sample - loss: 0.0100 - val_loss: 0.0089\n",
      "Epoch 301/400\n"
     ]
    },
    {
     "name": "stdout",
     "output_type": "stream",
     "text": [
      "2554/2554 [==============================] - 1s 467us/sample - loss: 0.0100 - val_loss: 0.0087\n",
      "Epoch 302/400\n",
      "2554/2554 [==============================] - 1s 478us/sample - loss: 0.0100 - val_loss: 0.0087\n",
      "Epoch 303/400\n",
      "2554/2554 [==============================] - 1s 474us/sample - loss: 0.0100 - val_loss: 0.0088\n",
      "Epoch 304/400\n",
      "2554/2554 [==============================] - 1s 539us/sample - loss: 0.0100 - val_loss: 0.0087\n",
      "Epoch 305/400\n",
      "2554/2554 [==============================] - 1s 540us/sample - loss: 0.0100 - val_loss: 0.0087\n",
      "Epoch 306/400\n",
      "2554/2554 [==============================] - 1s 450us/sample - loss: 0.0100 - val_loss: 0.0088\n",
      "Epoch 307/400\n",
      "2554/2554 [==============================] - 1s 457us/sample - loss: 0.0100 - val_loss: 0.0087\n",
      "Epoch 308/400\n",
      "2554/2554 [==============================] - 1s 511us/sample - loss: 0.0100 - val_loss: 0.0087\n",
      "Epoch 309/400\n",
      "2554/2554 [==============================] - 1s 571us/sample - loss: 0.0100 - val_loss: 0.0087\n",
      "Epoch 310/400\n",
      "2554/2554 [==============================] - 1s 549us/sample - loss: 0.0100 - val_loss: 0.0087\n",
      "Epoch 311/400\n",
      "2554/2554 [==============================] - 1s 520us/sample - loss: 0.0100 - val_loss: 0.0087\n",
      "Epoch 312/400\n",
      "2554/2554 [==============================] - 1s 519us/sample - loss: 0.0100 - val_loss: 0.0087\n",
      "Epoch 313/400\n",
      "2554/2554 [==============================] - 1s 501us/sample - loss: 0.0100 - val_loss: 0.0087\n",
      "Epoch 314/400\n",
      "2554/2554 [==============================] - 1s 486us/sample - loss: 0.0100 - val_loss: 0.0088\n",
      "Epoch 315/400\n",
      "2554/2554 [==============================] - 1s 501us/sample - loss: 0.0100 - val_loss: 0.0089\n",
      "Epoch 316/400\n",
      "2554/2554 [==============================] - 1s 523us/sample - loss: 0.0099 - val_loss: 0.0087\n",
      "Epoch 317/400\n",
      "2554/2554 [==============================] - 1s 512us/sample - loss: 0.0100 - val_loss: 0.0088\n",
      "Epoch 318/400\n",
      "2554/2554 [==============================] - 1s 498us/sample - loss: 0.0100 - val_loss: 0.0087\n",
      "Epoch 319/400\n",
      "2554/2554 [==============================] - 1s 494us/sample - loss: 0.0100 - val_loss: 0.0087\n",
      "Epoch 320/400\n",
      "2554/2554 [==============================] - 1s 480us/sample - loss: 0.0100 - val_loss: 0.0088\n",
      "Epoch 321/400\n",
      "2554/2554 [==============================] - 1s 484us/sample - loss: 0.0100 - val_loss: 0.0087\n",
      "Epoch 322/400\n",
      "2554/2554 [==============================] - 1s 510us/sample - loss: 0.0100 - val_loss: 0.0088\n",
      "Epoch 323/400\n",
      "2554/2554 [==============================] - 1s 511us/sample - loss: 0.0100 - val_loss: 0.0087\n",
      "Epoch 324/400\n",
      "2554/2554 [==============================] - 1s 556us/sample - loss: 0.0100 - val_loss: 0.0089\n",
      "Epoch 325/400\n",
      "2554/2554 [==============================] - 1s 507us/sample - loss: 0.0100 - val_loss: 0.0088\n",
      "Epoch 326/400\n",
      "2554/2554 [==============================] - 1s 479us/sample - loss: 0.0100 - val_loss: 0.0090\n",
      "Epoch 327/400\n",
      "2554/2554 [==============================] - 1s 547us/sample - loss: 0.0100 - val_loss: 0.0087\n",
      "Epoch 328/400\n",
      "2554/2554 [==============================] - 1s 505us/sample - loss: 0.0100 - val_loss: 0.0087\n",
      "Epoch 329/400\n",
      "2554/2554 [==============================] - 1s 495us/sample - loss: 0.0100 - val_loss: 0.0087\n",
      "Epoch 330/400\n",
      "2554/2554 [==============================] - 1s 493us/sample - loss: 0.0100 - val_loss: 0.0089\n",
      "Epoch 331/400\n",
      "2554/2554 [==============================] - 1s 493us/sample - loss: 0.0100 - val_loss: 0.0087\n",
      "Epoch 332/400\n",
      "2554/2554 [==============================] - 1s 539us/sample - loss: 0.0099 - val_loss: 0.0087\n",
      "Epoch 333/400\n",
      "2554/2554 [==============================] - 1s 542us/sample - loss: 0.0100 - val_loss: 0.0089\n",
      "Epoch 334/400\n",
      "2554/2554 [==============================] - 1s 555us/sample - loss: 0.0100 - val_loss: 0.0087\n",
      "Epoch 335/400\n",
      "2554/2554 [==============================] - 2s 598us/sample - loss: 0.0100 - val_loss: 0.0088\n",
      "Epoch 336/400\n",
      "2554/2554 [==============================] - 2s 630us/sample - loss: 0.0100 - val_loss: 0.0087\n",
      "Epoch 337/400\n",
      "2554/2554 [==============================] - 1s 563us/sample - loss: 0.0100 - val_loss: 0.0088\n",
      "Epoch 338/400\n",
      "2554/2554 [==============================] - 2s 594us/sample - loss: 0.0100 - val_loss: 0.0088\n",
      "Epoch 339/400\n",
      "2554/2554 [==============================] - 2s 627us/sample - loss: 0.0100 - val_loss: 0.0090\n",
      "Epoch 340/400\n",
      "2554/2554 [==============================] - 1s 536us/sample - loss: 0.0100 - val_loss: 0.0087\n",
      "Epoch 341/400\n",
      "2554/2554 [==============================] - 1s 533us/sample - loss: 0.0100 - val_loss: 0.0089\n",
      "Epoch 342/400\n",
      "2554/2554 [==============================] - 1s 520us/sample - loss: 0.0100 - val_loss: 0.0087\n",
      "Epoch 343/400\n",
      "2554/2554 [==============================] - 1s 484us/sample - loss: 0.0100 - val_loss: 0.0087\n",
      "Epoch 344/400\n",
      "2554/2554 [==============================] - 1s 504us/sample - loss: 0.0099 - val_loss: 0.0087\n",
      "Epoch 345/400\n",
      "2554/2554 [==============================] - 1s 504us/sample - loss: 0.0100 - val_loss: 0.0087\n",
      "Epoch 346/400\n",
      "2554/2554 [==============================] - 1s 539us/sample - loss: 0.0100 - val_loss: 0.0087\n",
      "Epoch 347/400\n",
      "2554/2554 [==============================] - 2s 623us/sample - loss: 0.0100 - val_loss: 0.0088\n",
      "Epoch 348/400\n",
      "2554/2554 [==============================] - 1s 540us/sample - loss: 0.0099 - val_loss: 0.0091\n",
      "Epoch 349/400\n",
      "2554/2554 [==============================] - 1s 572us/sample - loss: 0.0100 - val_loss: 0.0088\n",
      "Epoch 350/400\n",
      "2554/2554 [==============================] - 1s 539us/sample - loss: 0.0100 - val_loss: 0.0087\n",
      "Epoch 351/400\n",
      "2554/2554 [==============================] - 1s 537us/sample - loss: 0.0099 - val_loss: 0.0087\n",
      "Epoch 352/400\n",
      "2554/2554 [==============================] - 2s 601us/sample - loss: 0.0100 - val_loss: 0.0088\n",
      "Epoch 353/400\n",
      "2554/2554 [==============================] - 2s 602us/sample - loss: 0.0100 - val_loss: 0.0089\n",
      "Epoch 354/400\n",
      "2554/2554 [==============================] - 2s 614us/sample - loss: 0.0100 - val_loss: 0.0087\n",
      "Epoch 355/400\n",
      "2554/2554 [==============================] - 1s 578us/sample - loss: 0.0100 - val_loss: 0.0087\n",
      "Epoch 356/400\n",
      "2554/2554 [==============================] - 1s 499us/sample - loss: 0.0100 - val_loss: 0.0087\n",
      "Epoch 357/400\n",
      "2554/2554 [==============================] - 1s 559us/sample - loss: 0.0100 - val_loss: 0.0087\n",
      "Epoch 358/400\n",
      "2554/2554 [==============================] - 2s 600us/sample - loss: 0.0100 - val_loss: 0.0087\n",
      "Epoch 359/400\n",
      "2554/2554 [==============================] - 1s 550us/sample - loss: 0.0100 - val_loss: 0.0088\n",
      "Epoch 360/400\n",
      "2554/2554 [==============================] - 1s 526us/sample - loss: 0.0100 - val_loss: 0.0087\n",
      "Epoch 361/400\n",
      "2554/2554 [==============================] - 1s 483us/sample - loss: 0.0100 - val_loss: 0.0087\n",
      "Epoch 362/400\n",
      "2554/2554 [==============================] - 1s 558us/sample - loss: 0.0100 - val_loss: 0.0087\n",
      "Epoch 363/400\n",
      "2554/2554 [==============================] - 1s 566us/sample - loss: 0.0099 - val_loss: 0.0087\n",
      "Epoch 364/400\n",
      "2554/2554 [==============================] - 2s 625us/sample - loss: 0.0100 - val_loss: 0.0087\n",
      "Epoch 365/400\n",
      "2554/2554 [==============================] - 2s 619us/sample - loss: 0.0100 - val_loss: 0.0087\n",
      "Epoch 366/400\n",
      "2554/2554 [==============================] - 2s 601us/sample - loss: 0.0099 - val_loss: 0.0090\n",
      "Epoch 367/400\n",
      "2554/2554 [==============================] - 1s 541us/sample - loss: 0.0100 - val_loss: 0.0087\n",
      "Epoch 368/400\n",
      "2554/2554 [==============================] - 2s 601us/sample - loss: 0.0100 - val_loss: 0.0087\n",
      "Epoch 369/400\n",
      "2554/2554 [==============================] - 1s 520us/sample - loss: 0.0100 - val_loss: 0.0087\n",
      "Epoch 370/400\n",
      "2554/2554 [==============================] - 1s 572us/sample - loss: 0.0100 - val_loss: 0.0090\n",
      "Epoch 371/400\n",
      "2554/2554 [==============================] - 1s 577us/sample - loss: 0.0100 - val_loss: 0.0091\n",
      "Epoch 372/400\n",
      "2554/2554 [==============================] - 1s 570us/sample - loss: 0.0100 - val_loss: 0.0087\n",
      "Epoch 373/400\n",
      "2554/2554 [==============================] - 1s 568us/sample - loss: 0.0100 - val_loss: 0.0087\n",
      "Epoch 374/400\n",
      "2554/2554 [==============================] - 1s 576us/sample - loss: 0.0100 - val_loss: 0.0087\n",
      "Epoch 375/400\n",
      "2554/2554 [==============================] - 2s 595us/sample - loss: 0.0100 - val_loss: 0.0087\n",
      "Epoch 376/400\n"
     ]
    },
    {
     "name": "stdout",
     "output_type": "stream",
     "text": [
      "2554/2554 [==============================] - 2s 588us/sample - loss: 0.0100 - val_loss: 0.0088\n",
      "Epoch 377/400\n",
      "2554/2554 [==============================] - 1s 528us/sample - loss: 0.0100 - val_loss: 0.0087\n",
      "Epoch 378/400\n",
      "2554/2554 [==============================] - 1s 524us/sample - loss: 0.0100 - val_loss: 0.0087\n",
      "Epoch 379/400\n",
      "2554/2554 [==============================] - 1s 558us/sample - loss: 0.0100 - val_loss: 0.0087\n",
      "Epoch 380/400\n",
      "2554/2554 [==============================] - 1s 539us/sample - loss: 0.0100 - val_loss: 0.0087\n",
      "Epoch 381/400\n",
      "2554/2554 [==============================] - 2s 607us/sample - loss: 0.0099 - val_loss: 0.0087\n",
      "Epoch 382/400\n",
      "2554/2554 [==============================] - 1s 552us/sample - loss: 0.0100 - val_loss: 0.0087\n",
      "Epoch 383/400\n",
      "2554/2554 [==============================] - 1s 529us/sample - loss: 0.0100 - val_loss: 0.0087\n",
      "Epoch 384/400\n",
      "2554/2554 [==============================] - 1s 574us/sample - loss: 0.0100 - val_loss: 0.0088\n",
      "Epoch 385/400\n",
      "2554/2554 [==============================] - 2s 592us/sample - loss: 0.0100 - val_loss: 0.0089\n",
      "Epoch 386/400\n",
      "2554/2554 [==============================] - 1s 580us/sample - loss: 0.0100 - val_loss: 0.0087\n",
      "Epoch 387/400\n",
      "2554/2554 [==============================] - 1s 563us/sample - loss: 0.0100 - val_loss: 0.0087\n",
      "Epoch 388/400\n",
      "2554/2554 [==============================] - 2s 601us/sample - loss: 0.0099 - val_loss: 0.0087\n",
      "Epoch 389/400\n",
      "2554/2554 [==============================] - 1s 576us/sample - loss: 0.0100 - val_loss: 0.0087\n",
      "Epoch 390/400\n",
      "2554/2554 [==============================] - 1s 571us/sample - loss: 0.0100 - val_loss: 0.0088\n",
      "Epoch 391/400\n",
      "2554/2554 [==============================] - 1s 548us/sample - loss: 0.0100 - val_loss: 0.0087\n",
      "Epoch 392/400\n",
      "2554/2554 [==============================] - 1s 512us/sample - loss: 0.0099 - val_loss: 0.0087\n",
      "Epoch 393/400\n",
      "2554/2554 [==============================] - 1s 543us/sample - loss: 0.0100 - val_loss: 0.0088\n",
      "Epoch 394/400\n",
      "2554/2554 [==============================] - 1s 517us/sample - loss: 0.0100 - val_loss: 0.0087\n",
      "Epoch 395/400\n",
      "2554/2554 [==============================] - 1s 520us/sample - loss: 0.0100 - val_loss: 0.0087\n",
      "Epoch 396/400\n",
      "2554/2554 [==============================] - 1s 550us/sample - loss: 0.0099 - val_loss: 0.0087\n",
      "Epoch 397/400\n",
      "2554/2554 [==============================] - 1s 543us/sample - loss: 0.0100 - val_loss: 0.0088\n",
      "Epoch 398/400\n",
      "2554/2554 [==============================] - 1s 558us/sample - loss: 0.0100 - val_loss: 0.0087\n",
      "Epoch 399/400\n",
      "2554/2554 [==============================] - 2s 609us/sample - loss: 0.0100 - val_loss: 0.0087\n",
      "Epoch 400/400\n",
      "2554/2554 [==============================] - 2s 612us/sample - loss: 0.0100 - val_loss: 0.0087\n"
     ]
    },
    {
     "data": {
      "text/plain": [
       "<tensorflow.python.keras.callbacks.History at 0x1a46ac01308>"
      ]
     },
     "execution_count": 36,
     "metadata": {},
     "output_type": "execute_result"
    }
   ],
   "source": [
    "model.fit(X_train, y_train, epochs=400, validation_data=(X_test, y_test), batch_size=32)"
   ]
  },
  {
   "cell_type": "markdown",
   "metadata": {},
   "source": [
    "## Make Predictions and Evaluate your model"
   ]
  },
  {
   "cell_type": "code",
   "execution_count": 37,
   "metadata": {
    "colab": {
     "base_uri": "https://localhost:8080/",
     "height": 50
    },
    "colab_type": "code",
    "id": "85Ip5wrq7Jyi",
    "outputId": "4635cc9e-df51-4171-b0d4-8ff482e7d925"
   },
   "outputs": [],
   "source": [
    "#Get prediction for both Training and Test Data\n",
    "trainPredict = model.predict(X_train)\n",
    "testPredict = model.predict(X_test)"
   ]
  },
  {
   "cell_type": "markdown",
   "metadata": {},
   "source": [
    "## Plot the results"
   ]
  },
  {
   "cell_type": "code",
   "execution_count": 38,
   "metadata": {
    "colab": {
     "base_uri": "https://localhost:8080/",
     "height": 592
    },
    "colab_type": "code",
    "id": "FHbIWp-D7Jyn",
    "outputId": "d8f497f1-2f52-46dd-fd44-1fcdebb698e6"
   },
   "outputs": [],
   "source": [
    "#Un-normalize the predited data\n",
    "trainPredict = scaler.inverse_transform(trainPredict)\n",
    "testPredict = scaler.inverse_transform(testPredict)"
   ]
  },
  {
   "cell_type": "code",
   "execution_count": 39,
   "metadata": {},
   "outputs": [],
   "source": [
    "import matplotlib.pyplot as plt"
   ]
  },
  {
   "cell_type": "code",
   "execution_count": 42,
   "metadata": {},
   "outputs": [
    {
     "data": {
      "image/png": "[encoded data removed]",
      "text/plain": [
       "<Figure size 1440x720 with 1 Axes>"
      ]
     },
     "metadata": {
      "needs_background": "light"
     },
     "output_type": "display_data"
    }
   ],
   "source": [
    "trainPredictPlot = np.empty_like(scaled)\n",
    "trainPredictPlot[:, :] = np.nan\n",
    "trainPredictPlot[window_size:len(trainPredict)+window_size, :] = trainPredict\n",
    "# shift test predictions for plotting\n",
    "testPredictPlot = np.empty_like(scaled)\n",
    "testPredictPlot[:, :] = np.nan\n",
    "testPredictPlot[len(trainPredict)+(window_size*2):len(scaled), :] = testPredict\n",
    "# plot baseline and predictions\n",
    "plt.figure(figsize=(20,10))\n",
    "plt.plot(scaler.inverse_transform(scaled))\n",
    "plt.plot(trainPredictPlot)\n",
    "plt.plot(testPredictPlot)\n",
    "plt.show()"
   ]
  },
  {
   "cell_type": "code",
   "execution_count": null,
   "metadata": {},
   "outputs": [],
   "source": []
  }
 ],
 "metadata": {
  "colab": {
   "name": "lstm_timeseries.ipynb",
   "provenance": [],
   "version": "0.3.2"
  },
  "kernelspec": {
   "display_name": "Python 3",
   "language": "python",
   "name": "python3"
  },
  "language_info": {
   "codemirror_mode": {
    "name": "ipython",
    "version": 3
   },
   "file_extension": ".py",
   "mimetype": "text/x-python",
   "name": "python",
   "nbconvert_exporter": "python",
   "pygments_lexer": "ipython3",
   "version": "3.7.5"
  }
 },
 "nbformat": 4,
 "nbformat_minor": 1
}
