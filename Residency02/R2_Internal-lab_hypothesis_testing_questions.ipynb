{
 "cells": [
  {
   "cell_type": "markdown",
   "metadata": {
    "colab_type": "text",
    "id": "xx5CxeVubU3W"
   },
   "source": [
    "# Hypothesis Testing"
   ]
  },
  {
   "cell_type": "markdown",
   "metadata": {
    "colab_type": "text",
    "id": "6OR23eWKbU3X"
   },
   "source": [
    "The purpose of the test is to tell if there is any significant difference between two data sets.\n",
    "\n"
   ]
  },
  {
   "cell_type": "markdown",
   "metadata": {
    "colab_type": "text",
    "id": "604OoWnTbU3Z"
   },
   "source": [
    "## Overview"
   ]
  },
  {
   "cell_type": "markdown",
   "metadata": {
    "colab_type": "text",
    "id": "o-il1iBSbU3b"
   },
   "source": [
    "This module covers,\n",
    "\n",
    "1) One sample and Two sample t-tests\n",
    "\n",
    "2) ANOVA\n",
    "\n",
    "3) Type I and Type II errors\n",
    "\n",
    "4) Chi-Squared Tests"
   ]
  },
  {
   "cell_type": "markdown",
   "metadata": {
    "colab_type": "text",
    "id": "G2yYl5cvbU3c"
   },
   "source": [
    "## Question 1 \n",
    "\n",
    "*A student is trying to decide between two GPUs. He want to use the GPU for his research to run Deep learning algorithms, so the only thing he is concerned with is speed.*\n",
    "\n",
    "*He picks a Deep Learning algorithm on a large data set and runs it on both GPUs 15 times, timing each run in hours. Results are given in the below lists GPU1 and GPU2.*"
   ]
  },
  {
   "cell_type": "code",
   "execution_count": 93,
   "metadata": {
    "colab": {},
    "colab_type": "code",
    "id": "ohh5XJ4ZbU3d"
   },
   "outputs": [],
   "source": [
    "import scipy.stats as stats\n",
    "from scipy.stats import ttest_1samp\n",
    "import numpy as np"
   ]
  },
  {
   "cell_type": "code",
   "execution_count": 94,
   "metadata": {
    "colab": {},
    "colab_type": "code",
    "id": "6yGkYI6EbU3i"
   },
   "outputs": [],
   "source": [
    "GPU1 = np.array([11,9,10,11,10,12,9,11,12,9,11,12,9,10,9])\n",
    "GPU2 = np.array([11,13,10,13,12,9,11,12,12,11,12,12,10,11,13])\n",
    "\n",
    "#Assumption: Both the datasets (GPU1 & GPU 2) are random, independent, parametric & normally distributed"
   ]
  },
  {
   "cell_type": "markdown",
   "metadata": {
    "colab_type": "text",
    "id": "L55jqmIXbU3m"
   },
   "source": [
    "Hint: You can import ttest function from scipy to perform t tests "
   ]
  },
  {
   "cell_type": "markdown",
   "metadata": {
    "colab_type": "text",
    "id": "v8fsIhPFbU3n"
   },
   "source": [
    "**First T test**\n",
    "\n",
    "*One sample t-test*\n",
    "\n",
    "Check if the mean of the GPU1 is equal to zero.\n",
    "- Null Hypothesis is that mean is equal to zero.\n",
    "- Alternate hypothesis is that it is not equal to zero."
   ]
  },
  {
   "cell_type": "code",
   "execution_count": 95,
   "metadata": {
    "colab": {},
    "colab_type": "code",
    "id": "wgMSWwApbU3o"
   },
   "outputs": [
    {
     "name": "stdout",
     "output_type": "stream",
     "text": [
      "[A] Population Parameters\n",
      "-------------------------\n",
      "mu =  0\n",
      "\n",
      "[B] Sample Parameters\n",
      "---------------------\n",
      "xbar =  10.333333333333334\n",
      "s =  1.1751393027860062\n",
      "n =  15\n",
      "se =  0.3034196632775998\n",
      "dof =  14\n",
      "\n",
      "[C] Hypothesis\n",
      "--------------\n",
      "H0: mu = 0\n",
      "H0: mu != 0\n",
      "Chosen Level of Significance (alpha) =  0.05\n",
      "This is a two tailed test\n",
      "\n",
      "[D] Analysis\n",
      "------------\n",
      "Hypothesis test using Critical Value Approach:\n",
      "\tt-statistics =  34.056241516158195\n",
      "\tCritical values (lower, upper) =  (-2.1447866879169277, 2.1447866879169277)\n",
      "\tShould we reject H0 ? -  Yes\n",
      "\n",
      "Hypothesis test using p-value Approach:\n",
      "\tp-value =  7.228892044970457e-15\n",
      "\tShould we reject H0 ? -  Yes\n"
     ]
    }
   ],
   "source": [
    "# Population Parameters\n",
    "print(\"[A] Population Parameters\")\n",
    "print(\"-------------------------\")\n",
    "mu = 0\n",
    "print(\"mu = \", mu)\n",
    "print(\"\")\n",
    "\n",
    "# Sample Parameters\n",
    "print(\"[B] Sample Parameters\")\n",
    "print(\"---------------------\")\n",
    "xbar = GPU1.mean()\n",
    "print(\"xbar = \", xbar)\n",
    "s = np.std(GPU1, ddof = 1)\n",
    "print(\"s = \", s)\n",
    "n = len(GPU1)\n",
    "print(\"n = \", n)\n",
    "se = s/np.sqrt(n)\n",
    "print(\"se = \", se)\n",
    "dof = n - 1\n",
    "print(\"dof = \", dof)\n",
    "print(\"\")\n",
    "\n",
    "print(\"[C] Hypothesis\")\n",
    "print(\"--------------\")\n",
    "print(\"H0: mu = 0\")\n",
    "print(\"H0: mu != 0\")\n",
    "alpha = 0.05\n",
    "print(\"Chosen Level of Significance (alpha) = \", alpha)\n",
    "print(\"This is a two tailed test\")\n",
    "print(\"\")\n",
    "\n",
    "print(\"[D] Analysis\")\n",
    "print(\"------------\")\n",
    "\n",
    "print(\"Hypothesis test using Critical Value Approach:\")\n",
    "t4xbar = (xbar - mu)/se\n",
    "print(\"\\tt-statistics = \", t4xbar)\n",
    "\n",
    "upper = stats.t.isf(q = 0.025, df = dof)\n",
    "lower = stats.t.ppf(q = 0.025, df = dof)\n",
    "\n",
    "print(\"\\tCritical values (lower, upper) = \", (lower, upper))\n",
    "\n",
    "reject_h0_using_critical_values_test = (t4xbar < lower) or (t4xbar > upper)\n",
    "print(\"\\tShould we reject H0 ? - \", np.where(reject_h0_using_critical_values_test, \"Yes\", \"No\"))\n",
    "\n",
    "print(\"\")\n",
    "print(\"Hypothesis test using p-value Approach:\")\n",
    "p_value = 2 * stats.t.sf(t4xbar, df = dof)\n",
    "print(\"\\tp-value = \", p_value)\n",
    "reject_h0_using_p_value = (p_value < alpha)\n",
    "print(\"\\tShould we reject H0 ? - \", np.where(reject_h0_using_p_value, \"Yes\", \"No\"))\n"
   ]
  },
  {
   "cell_type": "markdown",
   "metadata": {
    "colab_type": "text",
    "id": "byu8iw46bU3v"
   },
   "source": [
    "## Question 2"
   ]
  },
  {
   "cell_type": "markdown",
   "metadata": {
    "colab_type": "text",
    "id": "E65pzWcJbU3w"
   },
   "source": [
    "Given,\n",
    "\n",
    "Null Hypothesis : There is no significant difference between data sets\n",
    "\n",
    "Alternate Hypothesis : There is a significant difference\n",
    "\n",
    "*Do two-sample testing and check whether to reject Null Hypothesis or not.*"
   ]
  },
  {
   "cell_type": "markdown",
   "metadata": {
    "colab_type": "text",
    "id": "N-zpWvyXbU32"
   },
   "source": [
    "https://docs.scipy.org/doc/scipy/reference/generated/scipy.stats.ttest_ind.html"
   ]
  },
  {
   "cell_type": "code",
   "execution_count": 96,
   "metadata": {
    "colab": {},
    "colab_type": "code",
    "id": "UDDkuOtObU3x"
   },
   "outputs": [
    {
     "name": "stdout",
     "output_type": "stream",
     "text": [
      "[A] Hypothesis\n",
      "--------------\n",
      "H0: muGPU1 - muGPU2  = 0\n",
      "H1: muGPU1 - muGPU2 != 0\n",
      "Level of significance (alpha) =  0.05\n",
      "\n",
      "[B] Analysis\n",
      "------------\n",
      "This is a case of Independent samples.\n",
      "Assuming equal variance, using pooled-variance t-test.\n",
      "t_statistic =  -2.627629513471839\n",
      "p_value     =  0.013794282041452725\n",
      "\n",
      "Conclusion : There is a significant difference between performance of GPU1 and GPU2.\n"
     ]
    }
   ],
   "source": [
    "print(\"[A] Hypothesis\")\n",
    "print(\"--------------\")\n",
    "print(\"H0: muGPU1 - muGPU2  = 0\")\n",
    "print(\"H1: muGPU1 - muGPU2 != 0\")\n",
    "alpha = 0.05\n",
    "print(\"Level of significance (alpha) = \", alpha)\n",
    "print(\"\")\n",
    "\n",
    "print(\"[B] Analysis\")\n",
    "print(\"------------\")\n",
    "print(\"This is a case of Independent samples.\")\n",
    "print(\"Assuming equal variance, using pooled-variance t-test.\")\n",
    "# Compute t_statistic and p_value\n",
    "t_statistic, p_value = stats.ttest_ind(GPU1, GPU2)\n",
    "print(\"t_statistic = \", t_statistic)\n",
    "print(\"p_value     = \", p_value)\n",
    "print(\"\")\n",
    "reject_h0 = p_value < alpha\n",
    "print(np.where(reject_h0, \n",
    "               \"Conclusion : There is a significant difference between performance of GPU1 and GPU2.\", \n",
    "               \"Conclusion : There isn't significant difference between performance of GPU1 and GPU2.\"))"
   ]
  },
  {
   "cell_type": "markdown",
   "metadata": {
    "colab_type": "text",
    "id": "MbXv5aZvbU33"
   },
   "source": [
    "## Question 3\n",
    "\n",
    "He is trying a third GPU - GPU3."
   ]
  },
  {
   "cell_type": "code",
   "execution_count": 97,
   "metadata": {
    "colab": {},
    "colab_type": "code",
    "id": "kkh_sQl4bU34"
   },
   "outputs": [],
   "source": [
    "GPU3 = np.array([9,10,9,11,10,13,12,9,12,12,13,12,13,10,11])\n",
    "\n",
    "#Assumption: Both the datasets (GPU1 & GPU 3) are random, independent, parametric & normally distributed"
   ]
  },
  {
   "cell_type": "markdown",
   "metadata": {
    "colab_type": "text",
    "id": "WoYNz3g7bU37"
   },
   "source": [
    "*Do two-sample testing and check whether there is significant differene between speeds of two GPUs GPU1 and GPU3.*\n",
    "\n",
    "#### Answer:"
   ]
  },
  {
   "cell_type": "code",
   "execution_count": 98,
   "metadata": {
    "colab": {},
    "colab_type": "code",
    "id": "X4N11XArbU38"
   },
   "outputs": [
    {
     "name": "stdout",
     "output_type": "stream",
     "text": [
      "[A] Hypothesis\n",
      "--------------\n",
      "H0: muGPU1 - muGPU3  = 0\n",
      "H1: muGPU1 - muGPU3 != 0\n",
      "Level of significance (alpha) =  0.05\n",
      "\n",
      "[B] Analysis\n",
      "------------\n",
      "This is a case of Independent samples.\n",
      "Assuming equal variance, using pooled-variance t-test.\n",
      "t_statistic =  -1.4988943759093303\n",
      "p_value     =  0.14509210993138993\n",
      "\n",
      "Conclusion : There isn't significant difference between performance of GPU1 and GPU3.\n"
     ]
    }
   ],
   "source": [
    "print(\"[A] Hypothesis\")\n",
    "print(\"--------------\")\n",
    "print(\"H0: muGPU1 - muGPU3  = 0\")\n",
    "print(\"H1: muGPU1 - muGPU3 != 0\")\n",
    "alpha = 0.05\n",
    "print(\"Level of significance (alpha) = \", alpha)\n",
    "print(\"\")\n",
    "\n",
    "print(\"[B] Analysis\")\n",
    "print(\"------------\")\n",
    "print(\"This is a case of Independent samples.\")\n",
    "print(\"Assuming equal variance, using pooled-variance t-test.\")\n",
    "# Compute t_statistic and p_value\n",
    "t_statistic, p_value = stats.ttest_ind(GPU1, GPU3, equal_var=True)\n",
    "print(\"t_statistic = \", t_statistic)\n",
    "print(\"p_value     = \", p_value)\n",
    "print(\"\")\n",
    "reject_h0 = p_value < alpha\n",
    "print(np.where(reject_h0, \n",
    "               \"Conclusion : There is a significant difference between performance of GPU1 and GPU3.\", \n",
    "               \"Conclusion : There isn't significant difference between performance of GPU1 and GPU3.\"))"
   ]
  },
  {
   "cell_type": "markdown",
   "metadata": {
    "colab_type": "text",
    "id": "oyDFS4WZbU4A"
   },
   "source": [
    "## ANOVA"
   ]
  },
  {
   "cell_type": "markdown",
   "metadata": {
    "colab_type": "text",
    "id": "wknPzstFbU4B"
   },
   "source": [
    "## Question 4 \n",
    "\n",
    "If you need to compare more than two data sets at a time, an ANOVA is your best bet. \n",
    "\n",
    "*The results from three experiments with overlapping 95% confidence intervals are given below, and we want to confirm that the results for all three experiments are not significantly different.*\n",
    "\n",
    "But before conducting ANOVA, test equality of variances (using Levene's test) is satisfied or not. If not, then mention that we cannot depend on the result of ANOVA"
   ]
  },
  {
   "cell_type": "code",
   "execution_count": 99,
   "metadata": {
    "colab": {},
    "colab_type": "code",
    "id": "kGb0GeK8bU4C"
   },
   "outputs": [],
   "source": [
    "import numpy as np\n",
    "import scipy.stats as stats\n",
    "\n",
    "e1 = np.array([1.595440,1.419730,0.000000,0.000000])\n",
    "e2 = np.array([1.433800,2.079700,0.892139,2.384740])\n",
    "e3 = np.array([0.036930,0.938018,0.995956,1.006970])\n",
    "\n",
    "#Assumption: All the 3 datasets (e1,e2 & e3) are random, independent, parametric & normally distributed"
   ]
  },
  {
   "cell_type": "markdown",
   "metadata": {
    "colab_type": "text",
    "id": "_xiYN6gVbU4G"
   },
   "source": [
    "Perform levene test on the data\n",
    "\n",
    "The Levene test tests the null hypothesis that all input samples are from populations with equal variances. Levene’s test is an alternative to Bartlett’s test bartlett in the case where there are significant deviations from normality.\n",
    "\n",
    "source: scipy.org"
   ]
  },
  {
   "cell_type": "markdown",
   "metadata": {
    "colab_type": "text",
    "id": "f2MlJTXgbU4H"
   },
   "source": [
    "#### Answer:"
   ]
  },
  {
   "cell_type": "code",
   "execution_count": 100,
   "metadata": {
    "colab": {},
    "colab_type": "code",
    "id": "VUJP_GGQbU4R"
   },
   "outputs": [
    {
     "name": "stdout",
     "output_type": "stream",
     "text": [
      "[A] Levene's Test\n",
      "------------------\n",
      "Performing Levene's Test to check homogeneity of variance (i.e. all 3 groups have same variance)\n",
      "\n",
      "F-Stat for Levene's test =  2.6741725711150446\n",
      "p-value for Levene's test =  0.12259792666001798\n",
      "F-Critical value =  4.25649472909375\n",
      "Conclusion : There is insufficient evidence of significant difference among the variances of given groups. i.e. All groups have same/nearly same variance. So we can depend on ANOVA.\n",
      "\n"
     ]
    }
   ],
   "source": [
    "print(\"[A] Levene's Test\")\n",
    "print(\"------------------\")\n",
    "print(\"Performing Levene's Test to check homogeneity of variance (i.e. all 3 groups have same variance)\")\n",
    "print(\"\")\n",
    "\n",
    "# Leven's test - Test all input samples are from populations with equal variances.\n",
    "f_stat_4_levene, p_val = stats.levene(e1, e2, e3)\n",
    "\n",
    "print(\"F-Stat for Levene's test = \", f_stat_4_levene)\n",
    "\n",
    "p_value_4_levene = stats.f.sf(f_stat_4_levene, dfn =2 , dfd = 9)\n",
    "print(\"p-value for Levene's test = \", p_value_4_levene)\n",
    "\n",
    "f_crit = stats.f.isf(q = 0.05, dfn =2 , dfd = 9)\n",
    "print(\"F-Critical value = \", f_crit)\n",
    "\n",
    "reject_h0_4_levene = f_stat_4_levene > f_crit\n",
    "\n",
    "print(np.where(reject_h0_4_levene, \n",
    "               \"Conclusion : There is evidence of significant difference among the variances of given groups.\",\n",
    "               \"Conclusion : There is insufficient evidence of significant difference among the variances of given groups. i.e. All groups have same/nearly same variance. So we can depend on ANOVA.\"))\n",
    "print(\"\")\n",
    "    "
   ]
  },
  {
   "cell_type": "markdown",
   "metadata": {
    "colab_type": "text",
    "id": "FigxGCQtbU4Y"
   },
   "source": [
    "## Question 5\n",
    "\n",
    "The one-way ANOVA tests the null hypothesis that two or more groups have the same population mean. The test is applied to samples from two or more groups, possibly with differing sizes.\n",
    "\n",
    "use stats.f_oneway() module to perform one-way ANOVA test"
   ]
  },
  {
   "cell_type": "code",
   "execution_count": 101,
   "metadata": {
    "colab": {},
    "colab_type": "code",
    "id": "P3bPYPCbbU4Z"
   },
   "outputs": [
    {
     "name": "stdout",
     "output_type": "stream",
     "text": [
      "[A] One-Way ANOVA (Analysis of Variance)\n",
      "----------------------------------------\n",
      "F-Stat =  2.51357622845924\n",
      "p-value =  0.13574644501798466\n",
      "Conclusion : There isn't a significant difference among the means of given groups.\n"
     ]
    }
   ],
   "source": [
    "print(\"[A] One-Way ANOVA (Analysis of Variance)\")\n",
    "print(\"----------------------------------------\")\n",
    "\n",
    "f_stat, p_value = stats.f_oneway(e1, e2, e3)\n",
    "print(\"F-Stat = \", f_stat)\n",
    "print(\"p-value = \", p_value)\n",
    "reject_h0_using_f_stat = f_stat > f_crit\n",
    "\n",
    "print(np.where(reject_h0_using_f_stat, \n",
    "               \"Conclusion: There is a significant difference among the means of given groups.\",\n",
    "               \"Conclusion : There isn't a significant difference among the means of given groups.\"))"
   ]
  },
  {
   "cell_type": "markdown",
   "metadata": {
    "colab_type": "text",
    "id": "yrMK1qb7bU4j"
   },
   "source": [
    "## Question 6\n",
    "\n",
    "*In one or two sentences explain about **TypeI** and **TypeII** errors.*\n",
    "\n",
    "#### Answer:"
   ]
  },
  {
   "cell_type": "markdown",
   "metadata": {
    "colab_type": "text",
    "id": "H08OGwdIbU4k"
   },
   "source": [
    "Type I error describes a situation where you reject the null hypothesis when it is actually true. This type of error is also known as a \"false positive\" or \"false hit\".\n",
    "\n",
    "Type II error describes a situation where you fail to reject the null hypothesis when it is actually false. Type II error is also known as a \"false negative\" or \"miss\"."
   ]
  },
  {
   "cell_type": "markdown",
   "metadata": {
    "colab_type": "text",
    "id": "hm7v3pcIbU4m"
   },
   "source": [
    "## Question 7 \n",
    "\n",
    "You are a manager of a chinese restaurant. You want to determine whether the waiting time to place an order has changed in the past month from its previous population mean value of 4.5 minutes. \n",
    "State the null and alternative hypothesis.\n",
    "\n",
    "#### Answer:\n"
   ]
  },
  {
   "cell_type": "markdown",
   "metadata": {
    "colab_type": "text",
    "id": "pbbaU2I4bU4n"
   },
   "source": [
    "### The null hypothesis is that the population mean has not changed from its previous value of 4.5 minutes. \n",
    "This is stated as\n",
    "\n",
    "H0: µ = 4.5\n",
    "\n",
    "The alternative hypothesis is the opposite of the null hypothesis. Because the null hypothesis is that the population mean is 4.5 minutes, the alternative hypothesis is that the population mean is not 4.5 minutes. \n",
    "\n",
    "This is stated as\n",
    "\n",
    "H1 : µ not equal to 4.5"
   ]
  },
  {
   "cell_type": "markdown",
   "metadata": {
    "colab_type": "text",
    "id": "1SGpq-dKbU4r"
   },
   "source": [
    "## Chi square test"
   ]
  },
  {
   "cell_type": "markdown",
   "metadata": {
    "colab_type": "text",
    "id": "WlxmIu_rdgpc"
   },
   "source": [
    "## Question 8"
   ]
  },
  {
   "cell_type": "markdown",
   "metadata": {
    "colab_type": "text",
    "id": "8J3V015PbU4s"
   },
   "source": [
    "Let's create a small dataset for dice rolls of four players"
   ]
  },
  {
   "cell_type": "code",
   "execution_count": 102,
   "metadata": {
    "colab": {},
    "colab_type": "code",
    "id": "xrO5BbIEbU4t"
   },
   "outputs": [
    {
     "data": {
      "text/plain": [
       "array([[ 5,  8,  3,  8],\n",
       "       [ 9,  6,  8,  5],\n",
       "       [ 8, 12,  7,  2],\n",
       "       [ 4, 16,  7,  3],\n",
       "       [ 3,  9,  6,  5],\n",
       "       [ 7,  2,  5,  7]])"
      ]
     },
     "execution_count": 102,
     "metadata": {},
     "output_type": "execute_result"
    }
   ],
   "source": [
    "import numpy as np\n",
    "\n",
    "d1 = [5, 8, 3, 8]\n",
    "d2 = [9, 6, 8, 5]\n",
    "d3 = [8, 12, 7, 2]\n",
    "d4 = [4, 16, 7, 3]\n",
    "d5 = [3, 9, 6, 5]\n",
    "d6 = [7, 2, 5, 7]\n",
    "\n",
    "dice = np.array([d1, d2, d3, d4, d5, d6])\n",
    "dice"
   ]
  },
  {
   "cell_type": "markdown",
   "metadata": {
    "colab_type": "text",
    "id": "uF7GRMChbU4x"
   },
   "source": [
    "run the test using SciPy Stats library\n",
    "\n",
    "Depending on the test, we are generally looking for a threshold at either 0.05 or 0.01. Our test is significant (i.e. we reject the null hypothesis) if we get a p-value below our threshold.\n",
    "\n",
    "For our purposes, we’ll use 0.01 as the threshold.\n",
    "\n",
    "use stats.chi2_contingency() module \n",
    "\n",
    "This function computes the chi-square statistic and p-value for the hypothesis test of independence of the observed frequencies in the contingency table\n",
    "\n",
    "Print the following:\n",
    "\n",
    "- chi2 stat\n",
    "- p-value\n",
    "- degree of freedom\n",
    "- contingency\n",
    "\n"
   ]
  },
  {
   "cell_type": "code",
   "execution_count": 103,
   "metadata": {
    "colab": {},
    "colab_type": "code",
    "id": "vqaTIKmgbU4y"
   },
   "outputs": [
    {
     "name": "stdout",
     "output_type": "stream",
     "text": [
      "[A] Chi-Square Test of Independence\n",
      "-----------------------------------\n",
      "chi2 =  23.315671914716496\n",
      "p_value =  0.07766367301496693\n",
      "dof =  15\n",
      "expected : \n",
      " [[ 5.57419355  8.20645161  5.57419355  4.64516129]\n",
      " [ 6.50322581  9.57419355  6.50322581  5.41935484]\n",
      " [ 6.73548387  9.91612903  6.73548387  5.61290323]\n",
      " [ 6.96774194 10.25806452  6.96774194  5.80645161]\n",
      " [ 5.34193548  7.86451613  5.34193548  4.4516129 ]\n",
      " [ 4.87741935  7.18064516  4.87741935  4.06451613]]\n",
      "\n",
      "[B] Extra Work (Hypothesis) : \n",
      "------------------------------\n",
      "H0 : There is no relationship between Dice Roll and Player outcome.\n",
      "H1 : There is a relationship between Dice Roll and Player outcome.\n",
      "chi_crit =  30.577914166892494\n",
      "Conclusion : There is no relationship between Dice Roll and Player outcome.\n"
     ]
    }
   ],
   "source": [
    "chi2stat, p_value, dof, expected = stats.chi2_contingency(dice)\n",
    "\n",
    "print(\"[A] Chi-Square Test of Independence\")\n",
    "print(\"-----------------------------------\")\n",
    "print(\"chi2 = \", chi2stat)\n",
    "print(\"p_value = \", p_value)\n",
    "print(\"dof = \", dof)\n",
    "print(\"expected : \\n\", expected)\n",
    "print(\"\")\n",
    "\n",
    "# Extra Work\n",
    "print(\"[B] Extra Work (Hypothesis) : \")\n",
    "print(\"------------------------------\")\n",
    "print(\"H0 : There is no relationship between Dice Roll and Player outcome.\")\n",
    "print(\"H1 : There is a relationship between Dice Roll and Player outcome.\")\n",
    "\n",
    "chi_crit = stats.chi2.isf(q = 0.01, df = dof)\n",
    "print(\"chi_crit = \", chi_crit)\n",
    "\n",
    "reject_h0 = chi2stat > chi_crit\n",
    "\n",
    "print(np.where(reject_h0, \n",
    "               \"Conclusion : There is a relationship between Dice Roll and Player outcome.\",\n",
    "               \"Conclusion : There is no relationship between Dice Roll and Player outcome.\"))\n"
   ]
  },
  {
   "cell_type": "markdown",
   "metadata": {
    "colab_type": "text",
    "id": "VzyfaNoabU42"
   },
   "source": [
    "## Question 9\n",
    "\n",
    "### Z-test\n",
    "\n",
    "Get zscore on the above dice data using stats.zscore module from scipy. Convert zscore values to p-value and take mean of the array."
   ]
  },
  {
   "cell_type": "code",
   "execution_count": 104,
   "metadata": {
    "colab": {},
    "colab_type": "code",
    "id": "Sd5xPCuRbU43"
   },
   "outputs": [
    {
     "name": "stdout",
     "output_type": "stream",
     "text": [
      "[A] Z-Scores of 6*4 Matrix\n",
      "--------------------------\n",
      "\n",
      "[[-0.46291005 -0.18884739 -1.83711731  1.44115338]\n",
      " [ 1.38873015 -0.64208114  1.22474487  0.        ]\n",
      " [ 0.9258201   0.7176201   0.61237244 -1.44115338]\n",
      " [-0.9258201   1.62408759  0.61237244 -0.96076892]\n",
      " [-1.38873015  0.03776948  0.          0.        ]\n",
      " [ 0.46291005 -1.54854863 -0.61237244  0.96076892]]\n",
      "\n",
      "[B] Corresponding p-values\n",
      "--------------------------\n",
      "\n",
      "[[0.32171442 0.42510621 0.03309629 0.92522932]\n",
      " [0.91754259 0.26041025 0.88966432 0.5       ]\n",
      " [0.82273026 0.76350422 0.72985431 0.07477068]\n",
      " [0.17726974 0.94782144 0.72985431 0.16833418]\n",
      " [0.08245741 0.51506426 0.5        0.5       ]\n",
      " [0.67828558 0.06074513 0.27014569 0.83166582]]\n",
      "\n",
      "[C] Mean of given 6* 4 Matrix\n",
      "-----------------------------\n",
      "\n",
      "6.458333333333333\n"
     ]
    }
   ],
   "source": [
    "print(\"[A] Z-Scores of 6*4 Matrix\")\n",
    "print(\"--------------------------\")\n",
    "print(\"\")\n",
    "# Calculate the z score of each value in the sample, relative to the sample mean and standard deviation.\n",
    "zscores = stats.zscore(dice)\n",
    "print(zscores)\n",
    "print(\"\")\n",
    "\n",
    "print(\"[B] Corresponding p-values\")\n",
    "print(\"--------------------------\")\n",
    "print(\"\")\n",
    "pvalues = stats.norm.cdf(zscores)\n",
    "print(pvalues)\n",
    "print(\"\")\n",
    "\n",
    "print(\"[C] Mean of given 6* 4 Matrix\")\n",
    "print(\"-----------------------------\")\n",
    "print(\"\")\n",
    "print(dice.mean())"
   ]
  },
  {
   "cell_type": "markdown",
   "metadata": {
    "colab_type": "text",
    "id": "OyoFUxf5bU47"
   },
   "source": [
    "## Question 10\n",
    "\n",
    "A Paired sample t-test compares means from the same group at different times.\n",
    "\n",
    "The basic two sample t-test is designed for testing differences between independent groups. \n",
    "In some cases, you might be interested in testing differences between samples of the same group at different points in time. \n",
    "We can conduct a paired t-test using the scipy function stats.ttest_rel(). \n",
    "\n",
    "Test whether a weight-loss drug works by checking the weights of the same group patients before and after treatment using above data."
   ]
  },
  {
   "cell_type": "code",
   "execution_count": 105,
   "metadata": {
    "colab": {},
    "colab_type": "code",
    "id": "SwVmQ1gRbU48"
   },
   "outputs": [
    {
     "name": "stdout",
     "output_type": "stream",
     "text": [
      "[A] Sample Parameters \n",
      "----------------------\n",
      "n =  500\n",
      "dof =  499\n",
      "\n",
      "[B] Hypothesis\n",
      "--------------\n",
      "H0 : muBefore - muAfter  = 0\n",
      "H0 : muBefore - muAfter != 0\n",
      "Level of significance (alpha) : 0.05\n",
      "\n",
      "[C] Analysis\n",
      "------------\n",
      "t_crit =  1.9647293909876653\n",
      "t_stat =  8.222170537904674\n",
      "p_value =  1.7415917486649281e-15\n",
      "\n",
      "Conclusion : There is a significant difference in before-drug and after-drug test.\n"
     ]
    }
   ],
   "source": [
    "before= stats.norm.rvs(scale=30, loc=100, size=500) ## Creates a normal distribution with a mean value of 100 and std of 30\n",
    "after = before + stats.norm.rvs(scale=5, loc=-1.25, size=500)\n",
    "\n",
    "print(\"[A] Sample Parameters \")\n",
    "print(\"----------------------\")\n",
    "n = len(before)\n",
    "print(\"n = \", n)\n",
    "dof = n - 1\n",
    "print(\"dof = \", dof)\n",
    "print(\"\")\n",
    "\n",
    "print(\"[B] Hypothesis\")\n",
    "print(\"--------------\")\n",
    "print(\"H0 : muBefore - muAfter  = 0\")\n",
    "print(\"H0 : muBefore - muAfter != 0\")\n",
    "print(\"Level of significance (alpha) : 0.05\")\n",
    "print(\"\")\n",
    "\n",
    "print(\"[C] Analysis\")\n",
    "print(\"------------\")\n",
    "\n",
    "t_crit = stats.t.isf(q = 0.025, df = dof)\n",
    "print(\"t_crit = \", t_crit)\n",
    "\n",
    "t_stat, p_value = stats.ttest_rel(before, after)\n",
    "print(\"t_stat = \", t_stat)\n",
    "print(\"p_value = \", p_value)\n",
    "print(\"\")\n",
    "reject_h0 = t_stat > t_crit\n",
    "print(np.where(reject_h0, \n",
    "               \"Conclusion : There is a significant difference in before-drug and after-drug test.\",\n",
    "               \"Conclusion : There isn't significant difference in before-drug and after-drug test.\"))\n"
   ]
  }
 ],
 "metadata": {
  "colab": {
   "name": "hypothesis_testing_questions.ipynb",
   "provenance": [],
   "version": "0.3.2"
  },
  "kernelspec": {
   "display_name": "Python 3",
   "language": "python",
   "name": "python3"
  },
  "language_info": {
   "codemirror_mode": {
    "name": "ipython",
    "version": 3
   },
   "file_extension": ".py",
   "mimetype": "text/x-python",
   "name": "python",
   "nbconvert_exporter": "python",
   "pygments_lexer": "ipython3",
   "version": "3.7.3"
  }
 },
 "nbformat": 4,
 "nbformat_minor": 1
}
